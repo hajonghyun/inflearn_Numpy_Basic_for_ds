{
  "nbformat": 4,
  "nbformat_minor": 0,
  "metadata": {
    "colab": {
      "provenance": [],
      "authorship_tag": "ABX9TyMM65nuDdlii7NKqqAjAdHC",
      "include_colab_link": true
    },
    "kernelspec": {
      "name": "python3",
      "display_name": "Python 3"
    },
    "language_info": {
      "name": "python"
    }
  },
  "cells": [
    {
      "cell_type": "markdown",
      "metadata": {
        "id": "view-in-github",
        "colab_type": "text"
      },
      "source": [
        "<a href=\"https://colab.research.google.com/github/jacobhjh0999/inflearn_Numpy_Basic_for_ds/blob/main/3_N%EC%B0%A8%EC%9B%90%EB%B0%B0%EC%97%B4%EC%97%B0%EC%82%B0%EB%B2%95.ipynb\" target=\"_parent\"><img src=\"https://colab.research.google.com/assets/colab-badge.svg\" alt=\"Open In Colab\"/></a>"
      ]
    },
    {
      "cell_type": "markdown",
      "source": [
        "---\n",
        "#Section1. N차원 배열(ndarray 생성)\n",
        "### N차원 배열을 생성하는 여러가지 방법, 데이터타입, 간단하게 데이터를 시각화하는 방법을 다룬다.\n",
        "---"
      ],
      "metadata": {
        "id": "nEjfn7ezhvmt"
      }
    },
    {
      "cell_type": "markdown",
      "source": [
        "---\n",
        "#Section2. N차원 배열 인덱싱\n",
        "### 배열의 index를 이용해 값에 접근하는 방법과 특정 범위의 값들을 탐색하는 방법을 배운다.\n",
        "---"
      ],
      "metadata": {
        "id": "UuTzD60Qh5BN"
      }
    },
    {
      "cell_type": "markdown",
      "source": [
        "---\n",
        "#Section3. N차원 배열의 연산법\n",
        "### 행렬의 사칙연산, 내적연산, 비교연산 등 기본적인 연산법과 브로드캐스팅 연산 과정을 배운다.\n",
        "---"
      ],
      "metadata": {
        "id": "PZS0XC2HiG_m"
      }
    },
    {
      "cell_type": "markdown",
      "source": [
        "---\n",
        "## 3-1. 배열의 연산 1: 사칙연산/제곱/제곱근/몫/나머지"
      ],
      "metadata": {
        "id": "Gf1am71qRCjy"
      }
    },
    {
      "cell_type": "code",
      "source": [
        "import numpy as np"
      ],
      "metadata": {
        "id": "QlGTotwiQIFg"
      },
      "execution_count": null,
      "outputs": []
    },
    {
      "cell_type": "code",
      "source": [
        "arr1 = np.array([[1,2,3],\n",
        "                 [4,5,6,],\n",
        "                 [7,8,9]])\n",
        "arr2 = np.array([[2,2,2],\n",
        "                 [2,2,2],\n",
        "                 [2,2,2]])\n",
        "print(arr1)\n",
        "print(arr2)"
      ],
      "metadata": {
        "colab": {
          "base_uri": "https://localhost:8080/"
        },
        "id": "dNzHRv1MQIM2",
        "outputId": "fc1bfabb-4420-4dac-bd87-a4ce5e1c8b84"
      },
      "execution_count": null,
      "outputs": [
        {
          "output_type": "stream",
          "name": "stdout",
          "text": [
            "[[1 2 3]\n",
            " [4 5 6]\n",
            " [7 8 9]]\n",
            "[[2 2 2]\n",
            " [2 2 2]\n",
            " [2 2 2]]\n"
          ]
        }
      ]
    },
    {
      "cell_type": "code",
      "source": [
        "# 덧셈\n",
        "#1\n",
        "print(arr1+arr2)\n",
        "#2\n",
        "print(np.add(arr1,arr2))"
      ],
      "metadata": {
        "colab": {
          "base_uri": "https://localhost:8080/"
        },
        "id": "M2m_5ei8QIR6",
        "outputId": "833b5b85-5fce-4621-d34b-4dee6f8f59b2"
      },
      "execution_count": null,
      "outputs": [
        {
          "output_type": "stream",
          "name": "stdout",
          "text": [
            "[[ 3  4  5]\n",
            " [ 6  7  8]\n",
            " [ 9 10 11]]\n",
            "[[ 3  4  5]\n",
            " [ 6  7  8]\n",
            " [ 9 10 11]]\n"
          ]
        }
      ]
    },
    {
      "cell_type": "code",
      "source": [
        "# 뺄셈\n",
        "#1\n",
        "print(arr1 - arr2)\n",
        "#2\n",
        "print(np.subtract(arr1,arr2))"
      ],
      "metadata": {
        "colab": {
          "base_uri": "https://localhost:8080/"
        },
        "id": "dLtGkqZPSLOq",
        "outputId": "06d17b9b-89f6-4295-e7c4-2af20439b69d"
      },
      "execution_count": null,
      "outputs": [
        {
          "output_type": "stream",
          "name": "stdout",
          "text": [
            "[[-1  0  1]\n",
            " [ 2  3  4]\n",
            " [ 5  6  7]]\n",
            "[[-1  0  1]\n",
            " [ 2  3  4]\n",
            " [ 5  6  7]]\n"
          ]
        }
      ]
    },
    {
      "cell_type": "code",
      "source": [
        "# 곱셈 => 내적연산(dot product) 아님!! 원소간의 곱 연산\n",
        "#1\n",
        "print(arr1 * arr2)\n",
        "#2\n",
        "print(np.multiply(arr1,arr2))"
      ],
      "metadata": {
        "colab": {
          "base_uri": "https://localhost:8080/"
        },
        "id": "VVOhfVaLQIbE",
        "outputId": "e86e6a81-105c-467b-ddcd-ae321b4cfb94"
      },
      "execution_count": null,
      "outputs": [
        {
          "output_type": "stream",
          "name": "stdout",
          "text": [
            "[[ 2  4  6]\n",
            " [ 8 10 12]\n",
            " [14 16 18]]\n",
            "[[ 2  4  6]\n",
            " [ 8 10 12]\n",
            " [14 16 18]]\n"
          ]
        }
      ]
    },
    {
      "cell_type": "code",
      "source": [
        "# 나눗셈\n",
        "#1\n",
        "print(arr1/arr2)\n",
        "#2\n",
        "print(np.divide(arr1,arr2))"
      ],
      "metadata": {
        "colab": {
          "base_uri": "https://localhost:8080/"
        },
        "id": "pALz00zlSvn0",
        "outputId": "5cd6a598-4762-40d5-9d53-3b5b893d9a0f"
      },
      "execution_count": null,
      "outputs": [
        {
          "output_type": "stream",
          "name": "stdout",
          "text": [
            "[[0.5 1.  1.5]\n",
            " [2.  2.5 3. ]\n",
            " [3.5 4.  4.5]]\n",
            "[[0.5 1.  1.5]\n",
            " [2.  2.5 3. ]\n",
            " [3.5 4.  4.5]]\n"
          ]
        }
      ]
    },
    {
      "cell_type": "code",
      "source": [
        "# 제곱\n",
        "#1\n",
        "print(arr1 ** 2)\n",
        "#2\n",
        "print(np.square(arr1))"
      ],
      "metadata": {
        "colab": {
          "base_uri": "https://localhost:8080/"
        },
        "id": "1ZnoykACTK_Z",
        "outputId": "3ededada-7c4d-4c41-c868-17873017ea01"
      },
      "execution_count": null,
      "outputs": [
        {
          "output_type": "stream",
          "name": "stdout",
          "text": [
            "[[ 1  4  9]\n",
            " [16 25 36]\n",
            " [49 64 81]]\n",
            "[[ 1  4  9]\n",
            " [16 25 36]\n",
            " [49 64 81]]\n"
          ]
        }
      ]
    },
    {
      "cell_type": "code",
      "source": [
        "# 제곱근\n",
        "print(np.sqrt(arr1))"
      ],
      "metadata": {
        "colab": {
          "base_uri": "https://localhost:8080/"
        },
        "id": "nJZ8PwF3TLCN",
        "outputId": "51286e87-a814-433d-c554-ada79e287bf6"
      },
      "execution_count": null,
      "outputs": [
        {
          "output_type": "stream",
          "name": "stdout",
          "text": [
            "[[1.         1.41421356 1.73205081]\n",
            " [2.         2.23606798 2.44948974]\n",
            " [2.64575131 2.82842712 3.        ]]\n"
          ]
        }
      ]
    },
    {
      "cell_type": "code",
      "source": [
        "# 몫\n",
        "print(arr1 // 2)"
      ],
      "metadata": {
        "colab": {
          "base_uri": "https://localhost:8080/"
        },
        "id": "f51ddMI6TLF3",
        "outputId": "45049eb8-552c-4680-bc4d-2717674b57e6"
      },
      "execution_count": null,
      "outputs": [
        {
          "output_type": "stream",
          "name": "stdout",
          "text": [
            "[[0 1 1]\n",
            " [2 2 3]\n",
            " [3 4 4]]\n"
          ]
        }
      ]
    },
    {
      "cell_type": "code",
      "source": [
        "# 나머지\n",
        "print(arr1 % 2)"
      ],
      "metadata": {
        "colab": {
          "base_uri": "https://localhost:8080/"
        },
        "id": "QuiB-2uHTLHh",
        "outputId": "730d241b-6e88-4043-95a3-9d79ce56efda"
      },
      "execution_count": null,
      "outputs": [
        {
          "output_type": "stream",
          "name": "stdout",
          "text": [
            "[[1 0 1]\n",
            " [0 1 0]\n",
            " [1 0 1]]\n"
          ]
        }
      ]
    },
    {
      "cell_type": "markdown",
      "source": [
        "---\n",
        "## 3-2. 배열의 연산 2: 내적(dot product)/절댓값/올림/내림/반올림/버림"
      ],
      "metadata": {
        "id": "664Dsq7zT2EU"
      }
    },
    {
      "cell_type": "code",
      "source": [
        "# 1차원 행렬에서의 내적\n",
        "arr1 = np.array([2,3,4])\n",
        "arr2 = np.array([1,2,3])\n",
        "print(np.dot(arr1,arr2))"
      ],
      "metadata": {
        "colab": {
          "base_uri": "https://localhost:8080/"
        },
        "id": "GtbXcuS8T2Wo",
        "outputId": "2c971b45-6429-4d83-a998-8b8b431a93fd"
      },
      "execution_count": null,
      "outputs": [
        {
          "output_type": "stream",
          "name": "stdout",
          "text": [
            "20\n"
          ]
        }
      ]
    },
    {
      "cell_type": "code",
      "source": [
        "# 2차원 행렬에서의 내적\n",
        "arr1 = np.array([[1,2],\n",
        "                 [4,5]])\n",
        "arr2 = np.array([[1,2],\n",
        "                 [0,3]])\n",
        "print(np.dot(arr1,arr2))"
      ],
      "metadata": {
        "colab": {
          "base_uri": "https://localhost:8080/"
        },
        "id": "QbQJnAOJT2ZM",
        "outputId": "378bd952-41ed-4f94-e608-4cd50da64fb0"
      },
      "execution_count": null,
      "outputs": [
        {
          "output_type": "stream",
          "name": "stdout",
          "text": [
            "[[ 1  8]\n",
            " [ 4 23]]\n"
          ]
        }
      ]
    },
    {
      "cell_type": "code",
      "source": [
        "# 절댓값\n",
        "arr1 = np.array([[1,-2],\n",
        "                 [-4,5]])\n",
        "print(np.abs(arr1))"
      ],
      "metadata": {
        "colab": {
          "base_uri": "https://localhost:8080/"
        },
        "id": "VnflB7OQV-6d",
        "outputId": "d4609555-a0ec-4b9e-df19-06808c126d00"
      },
      "execution_count": null,
      "outputs": [
        {
          "output_type": "stream",
          "name": "stdout",
          "text": [
            "[[1 2]\n",
            " [4 5]]\n"
          ]
        }
      ]
    },
    {
      "cell_type": "code",
      "source": [
        "# 올림\n",
        "arr1 = np.array([[1.932,-2.339],\n",
        "                 [-4.145,5.206]])\n",
        "print(np.ceil(arr1))\n",
        "\n",
        "# 내림\n",
        "print(np.floor(arr1))\n",
        "\n",
        "# 반올림\n",
        "print(np.round(arr1))\n",
        "\n",
        "# 버림\n",
        "print(np.trunc(arr1))"
      ],
      "metadata": {
        "colab": {
          "base_uri": "https://localhost:8080/"
        },
        "id": "XRq6QX-rV-87",
        "outputId": "a1504fb3-6389-42fa-cf57-ebf7bbc244f6"
      },
      "execution_count": null,
      "outputs": [
        {
          "output_type": "stream",
          "name": "stdout",
          "text": [
            "[[ 2. -2.]\n",
            " [-4.  6.]]\n",
            "[[ 1. -3.]\n",
            " [-5.  5.]]\n",
            "[[ 2. -2.]\n",
            " [-4.  5.]]\n",
            "[[ 1. -2.]\n",
            " [-4.  5.]]\n"
          ]
        }
      ]
    },
    {
      "cell_type": "markdown",
      "source": [
        "---\n",
        "## 3-3. 배열의 연산 3: min/max/sum/mean/std/cumsum/median"
      ],
      "metadata": {
        "id": "_tDFWofJX547"
      }
    },
    {
      "cell_type": "code",
      "source": [
        "arr1 = np.array([[1,2,3],\n",
        "                 [0,1,4]])"
      ],
      "metadata": {
        "id": "Imje-kQET2bx"
      },
      "execution_count": null,
      "outputs": []
    },
    {
      "cell_type": "code",
      "source": [
        "# 최솟값 출력\n",
        "print(np.min(arr1))\n",
        "\n",
        "print(arr1.min())\n",
        "print(arr1.min(axis=0))   # ==> axis 정리필요..\n",
        "print(arr1.min(axis=1))"
      ],
      "metadata": {
        "colab": {
          "base_uri": "https://localhost:8080/"
        },
        "id": "c8sn4FMKT2jJ",
        "outputId": "8f579678-7497-47dc-99db-02efadae0145"
      },
      "execution_count": null,
      "outputs": [
        {
          "output_type": "stream",
          "name": "stdout",
          "text": [
            "0\n",
            "0\n",
            "[0 1 3]\n",
            "[1 0]\n"
          ]
        }
      ]
    },
    {
      "cell_type": "markdown",
      "source": [
        "---\n",
        "### - axis 개념\n",
        "    - axis = 1\n",
        "\n",
        "        손가락을 구부리고 행들을 잡으며 위에서 아래쪽으로 연산\n",
        "    - axis = 0\n",
        "\n",
        "        손가락을 구부리고 열들을 잡으며 왼쪽에서 오른쪽으로 연산\n",
        "---"
      ],
      "metadata": {
        "id": "4Yn_9IWUbaob"
      }
    },
    {
      "cell_type": "code",
      "source": [
        "# 최댓값 출력\n",
        "print(np.max(arr1))\n",
        "\n",
        "print(arr1.max())\n",
        "print(arr1.max(axis=0))\n",
        "print(arr1.max(axis=1))"
      ],
      "metadata": {
        "colab": {
          "base_uri": "https://localhost:8080/"
        },
        "id": "0jVUizyNYLXk",
        "outputId": "5df813ef-73dc-4f50-d79e-0fb5224bfea7"
      },
      "execution_count": null,
      "outputs": [
        {
          "output_type": "stream",
          "name": "stdout",
          "text": [
            "4\n",
            "4\n",
            "[1 2 4]\n",
            "[3 4]\n"
          ]
        }
      ]
    },
    {
      "cell_type": "code",
      "source": [
        "arr = np.array([[1,2,3],\n",
        "                [0,1,4]])"
      ],
      "metadata": {
        "id": "RtxS9d2DaQ-5"
      },
      "execution_count": null,
      "outputs": []
    },
    {
      "cell_type": "code",
      "source": [
        "# 총합\n",
        "print(np.sum(arr))\n",
        "print(arr.sum(axis=0))\n",
        "print(arr.sum(axis=1))"
      ],
      "metadata": {
        "colab": {
          "base_uri": "https://localhost:8080/"
        },
        "id": "Te7-o-NbYLZ5",
        "outputId": "d041ab55-482d-43f0-df0c-956c19e29327"
      },
      "execution_count": null,
      "outputs": [
        {
          "output_type": "stream",
          "name": "stdout",
          "text": [
            "11\n",
            "[1 3 7]\n",
            "[6 5]\n"
          ]
        }
      ]
    },
    {
      "cell_type": "code",
      "source": [
        "# 평균\n",
        "print(np.mean(arr))\n",
        "print(arr.mean(axis=0))\n",
        "print(arr.mean(axis=1))"
      ],
      "metadata": {
        "colab": {
          "base_uri": "https://localhost:8080/"
        },
        "id": "zL6TO2cxctCV",
        "outputId": "bd7e6c99-b40e-4479-9c71-6c0af5c68c21"
      },
      "execution_count": null,
      "outputs": [
        {
          "output_type": "stream",
          "name": "stdout",
          "text": [
            "1.8333333333333333\n",
            "[0.5 1.5 3.5]\n",
            "[2.         1.66666667]\n"
          ]
        }
      ]
    },
    {
      "cell_type": "code",
      "source": [
        "import numpy as np"
      ],
      "metadata": {
        "id": "Hu1vvpqWYLgW"
      },
      "execution_count": 1,
      "outputs": []
    },
    {
      "cell_type": "code",
      "source": [
        "arr = np.array([[1,2,3],\n",
        "                [0,1,4]])"
      ],
      "metadata": {
        "id": "8gejBIFVl5yx"
      },
      "execution_count": 2,
      "outputs": []
    },
    {
      "cell_type": "code",
      "source": [
        "# 표준편차 값\n",
        "print(np.std(arr))\n",
        "print(arr.std(axis=1))\n",
        "print(arr.std(axis=0))"
      ],
      "metadata": {
        "id": "58Z0h0beYLi-",
        "colab": {
          "base_uri": "https://localhost:8080/"
        },
        "outputId": "93b63d4c-b3b1-44c1-ceef-524185f055c2"
      },
      "execution_count": 15,
      "outputs": [
        {
          "output_type": "stream",
          "name": "stdout",
          "text": [
            "1.343709624716425\n",
            "[0.81649658 1.69967317]\n",
            "[0.5 0.5 0.5]\n"
          ]
        }
      ]
    },
    {
      "cell_type": "code",
      "source": [
        "# 누적합 계산  # cumulative sum\n",
        "# 1 / 1~2 / 1~3 /\n",
        "print(np.cumsum(arr))\n",
        "print(arr.cumsum(axis=1))  # 잘 모르겠음\n",
        "print(arr.cumsum(axis=0))"
      ],
      "metadata": {
        "colab": {
          "base_uri": "https://localhost:8080/"
        },
        "id": "ewWQyYS7mOAt",
        "outputId": "672da26e-db13-4072-cc31-50f4917026eb"
      },
      "execution_count": 11,
      "outputs": [
        {
          "output_type": "stream",
          "name": "stdout",
          "text": [
            "[ 1  3  6  6  7 11]\n",
            "[[1 3 6]\n",
            " [0 1 5]]\n",
            "[[1 2 3]\n",
            " [1 3 7]]\n"
          ]
        }
      ]
    },
    {
      "cell_type": "code",
      "source": [
        "arr = np.array([[1,2,3],\n",
        "                [0,1,4]])"
      ],
      "metadata": {
        "id": "aITQvkIPbIvR"
      },
      "execution_count": null,
      "outputs": []
    },
    {
      "cell_type": "markdown",
      "source": [
        "- median은 ndarray 객체에 메서드로 정의되어 있지 않아서 arr.median(axis=0) 같은 방식은 ❌\n",
        "- 대신 np.median(arr, axis=0)처럼 numpy 모듈에서 직접 호출해야 함"
      ],
      "metadata": {
        "id": "n6DYoS_NciLR"
      }
    },
    {
      "cell_type": "code",
      "source": [
        "# 중간값 계산\n",
        "print(np.median(arr))\n",
        "#print(arr.median(axis=1))\n",
        "#print(arr.median(axis=0))\n",
        "print(np.median(arr,axis=1))\n",
        "print(np.median(arr,axis=0))"
      ],
      "metadata": {
        "id": "oEkbhJQHYLlu",
        "colab": {
          "base_uri": "https://localhost:8080/"
        },
        "outputId": "5e80f868-6162-4292-e113-e9dd496ab535"
      },
      "execution_count": 17,
      "outputs": [
        {
          "output_type": "stream",
          "name": "stdout",
          "text": [
            "1.5\n",
            "[2. 1.]\n",
            "[0.5 1.5 3.5]\n"
          ]
        }
      ]
    },
    {
      "cell_type": "markdown",
      "source": [
        "---\n",
        "## 3-4. 배열의 연산 4: 비교 연산 / 삼각 함수"
      ],
      "metadata": {
        "id": "N7qWPPxad7Wp"
      }
    },
    {
      "cell_type": "code",
      "source": [
        "# 비교 연산\n",
        "arr1 = np.array([[1,2,3],\n",
        "                 [4,5,6]])\n",
        "arr2 = np.array([[1,0,3],\n",
        "                 [4,-2,9]])\n",
        "print(arr1 == arr2)\n",
        "print(np.array_equal(arr1,arr2))\n",
        "print(arr1 > arr2)\n",
        "print(arr1 >= arr2)"
      ],
      "metadata": {
        "colab": {
          "base_uri": "https://localhost:8080/"
        },
        "id": "nG71tbVieDPx",
        "outputId": "80e81fa4-2a36-47ed-f2fb-118a39cfe971"
      },
      "execution_count": 22,
      "outputs": [
        {
          "output_type": "stream",
          "name": "stdout",
          "text": [
            "[[ True False  True]\n",
            " [ True False False]]\n",
            "False\n",
            "[[False  True False]\n",
            " [False  True False]]\n",
            "[[ True  True  True]\n",
            " [ True  True False]]\n"
          ]
        }
      ]
    },
    {
      "cell_type": "code",
      "source": [
        "# 삼각함수\n",
        "arr = np.array([[1,2,3],\n",
        "                 [4,5,6]])\n",
        "\n",
        "# 각 원소에 sin\n",
        "print(np.sin(arr))\n",
        "\n",
        "# 각 원소에 cos\n",
        "print(np.cos(arr))\n",
        "\n",
        "# 각 원소에 tan\n",
        "print(np.tan(arr))"
      ],
      "metadata": {
        "colab": {
          "base_uri": "https://localhost:8080/"
        },
        "id": "6XzTNQPufPol",
        "outputId": "f0924dc8-d1aa-4bae-f1e5-1cf6657d43aa"
      },
      "execution_count": 24,
      "outputs": [
        {
          "output_type": "stream",
          "name": "stdout",
          "text": [
            "[[ 0.84147098  0.90929743  0.14112001]\n",
            " [-0.7568025  -0.95892427 -0.2794155 ]]\n",
            "[[ 0.54030231 -0.41614684 -0.9899925 ]\n",
            " [-0.65364362  0.28366219  0.96017029]]\n",
            "[[ 1.55740772 -2.18503986 -0.14254654]\n",
            " [ 1.15782128 -3.38051501 -0.29100619]]\n"
          ]
        }
      ]
    },
    {
      "cell_type": "markdown",
      "source": [
        "---\n",
        "## 3-5. 브로드캐스팅(BroadCasting)\n",
        "\n",
        "🎯 정리\n",
        "\n",
        "- 크기가 1인 차원은 자동으로 확장됨.\n",
        "작은 배열이 큰 배열과 크기가 같아질 때까지 복제된 것처럼 처리됨.\n",
        "- 불필요한 메모리 복사를 하지 않으므로 연산이 효율적임.\n",
        "- np.newaxis나 reshape()을 활용해서 명시적으로 크기를 맞출 수도 있음.\n",
        "\n",
        "확장\n",
        "\n",
        "- 1 → N으로 확장되는 것은 가능 ✅\n",
        "- 2 → 3처럼 서로 다른 크기지만 1이 아닌 경우는 확장 불가능 ❌\n"
      ],
      "metadata": {
        "id": "QnYmaxekf9sS"
      }
    },
    {
      "cell_type": "code",
      "source": [
        "arr1 = np.array([[0,0,0],\n",
        "                 [1,1,1],\n",
        "                 [2,2,2]])\n",
        "arr2 = np.array([[5,6,7]])\n",
        "\n",
        "print(arr1+arr2)"
      ],
      "metadata": {
        "colab": {
          "base_uri": "https://localhost:8080/"
        },
        "id": "-1MCDly_eDl6",
        "outputId": "5f9a6a3f-310c-4c76-badc-7b4d9550bb42"
      },
      "execution_count": 25,
      "outputs": [
        {
          "output_type": "stream",
          "name": "stdout",
          "text": [
            "[[5 6 7]\n",
            " [6 7 8]\n",
            " [7 8 9]]\n"
          ]
        }
      ]
    },
    {
      "cell_type": "code",
      "source": [
        "arr1 = np.array([[1,1,1]])\n",
        "arr2 = np.array([[0],\n",
        "                 [1],\n",
        "                 [2]])\n",
        "print(arr1+arr2)"
      ],
      "metadata": {
        "colab": {
          "base_uri": "https://localhost:8080/"
        },
        "id": "k3nsTXPHeDoP",
        "outputId": "d516a565-0688-422d-8d5f-1e5668f8d05c"
      },
      "execution_count": 26,
      "outputs": [
        {
          "output_type": "stream",
          "name": "stdout",
          "text": [
            "[[1 1 1]\n",
            " [2 2 2]\n",
            " [3 3 3]]\n"
          ]
        }
      ]
    },
    {
      "cell_type": "markdown",
      "source": [
        "---\n",
        "## 3-6. 벡터 연산의 장점"
      ],
      "metadata": {
        "id": "L8mJ96CyipwC"
      }
    },
    {
      "cell_type": "code",
      "source": [
        "import time"
      ],
      "metadata": {
        "id": "xZWX_n4UeDuI"
      },
      "execution_count": 27,
      "outputs": []
    },
    {
      "cell_type": "code",
      "source": [
        "arr = np.arange(9999999)"
      ],
      "metadata": {
        "id": "CMEVcJJMiwNs"
      },
      "execution_count": null,
      "outputs": []
    },
    {
      "cell_type": "code",
      "source": [],
      "metadata": {
        "id": "_YG9kJToiwV5"
      },
      "execution_count": null,
      "outputs": []
    },
    {
      "cell_type": "code",
      "source": [],
      "metadata": {
        "id": "NyhHgJlIiwYN"
      },
      "execution_count": null,
      "outputs": []
    },
    {
      "cell_type": "code",
      "source": [],
      "metadata": {
        "id": "2lU6V1LYiwfg"
      },
      "execution_count": null,
      "outputs": []
    },
    {
      "cell_type": "markdown",
      "source": [
        "---\n",
        "#Section4. N차원 배열 정렬\n",
        "### 배열의 원소들을 대소관계에 따라 정렬하는 방법을 다룬다.\n",
        "---"
      ],
      "metadata": {
        "id": "xQeUsXXGiZYw"
      }
    },
    {
      "cell_type": "markdown",
      "source": [
        "---\n",
        "#Section5. N차원 배열의 형태 변경\n",
        "### 배열의 shape를 변형하고 차원을 확장, 축소하는 방법을 다룬다.\n",
        "---"
      ],
      "metadata": {
        "id": "Rwjz7XDLiiUn"
      }
    },
    {
      "cell_type": "markdown",
      "source": [
        "---\n",
        "#Section6. N차원 배열의 병합\n",
        "### 배열의 원소를 추가하고 삭제하는 방법과 데이터를 병합하고 분할하는 방법을 다룬다.\n",
        "---"
      ],
      "metadata": {
        "id": "znBeiAgHipxX"
      }
    },
    {
      "cell_type": "markdown",
      "source": [
        "---\n",
        "#Section7. 실습예제\n",
        "\n",
        "---"
      ],
      "metadata": {
        "id": "9b4DBsuiizXn"
      }
    }
  ]
}