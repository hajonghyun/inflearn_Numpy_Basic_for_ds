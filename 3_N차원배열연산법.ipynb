{
  "nbformat": 4,
  "nbformat_minor": 0,
  "metadata": {
    "colab": {
      "provenance": [],
      "authorship_tag": "ABX9TyMw62wnZjomc2rJzXhFBjQz",
      "include_colab_link": true
    },
    "kernelspec": {
      "name": "python3",
      "display_name": "Python 3"
    },
    "language_info": {
      "name": "python"
    }
  },
  "cells": [
    {
      "cell_type": "markdown",
      "metadata": {
        "id": "view-in-github",
        "colab_type": "text"
      },
      "source": [
        "<a href=\"https://colab.research.google.com/github/jacobhjh0999/inflearn_Numpy_Basic_for_ds/blob/main/3_N%EC%B0%A8%EC%9B%90%EB%B0%B0%EC%97%B4%EC%97%B0%EC%82%B0%EB%B2%95.ipynb\" target=\"_parent\"><img src=\"https://colab.research.google.com/assets/colab-badge.svg\" alt=\"Open In Colab\"/></a>"
      ]
    },
    {
      "cell_type": "markdown",
      "source": [
        "---\n",
        "#Section1. N차원 배열(ndarray 생성)\n",
        "### N차원 배열을 생성하는 여러가지 방법, 데이터타입, 간단하게 데이터를 시각화하는 방법을 다룬다.\n",
        "---"
      ],
      "metadata": {
        "id": "nEjfn7ezhvmt"
      }
    },
    {
      "cell_type": "markdown",
      "source": [
        "---\n",
        "#Section2. N차원 배열 인덱싱\n",
        "### 배열의 index를 이용해 값에 접근하는 방법과 특정 범위의 값들을 탐색하는 방법을 배운다.\n",
        "---"
      ],
      "metadata": {
        "id": "UuTzD60Qh5BN"
      }
    },
    {
      "cell_type": "markdown",
      "source": [
        "---\n",
        "#Section3. N차원 배열의 연산법\n",
        "### 행렬의 사칙연산, 내적연산, 비교연산 등 기본적인 연산법과 브로드캐스팅 연산 과정을 배운다.\n",
        "---"
      ],
      "metadata": {
        "id": "PZS0XC2HiG_m"
      }
    },
    {
      "cell_type": "markdown",
      "source": [
        "---\n",
        "## 3-1. 배열의 연산 1: 사칙연산/제곱/제곱근/몫/나머지"
      ],
      "metadata": {
        "id": "Gf1am71qRCjy"
      }
    },
    {
      "cell_type": "code",
      "source": [
        "import numpy as np"
      ],
      "metadata": {
        "id": "QlGTotwiQIFg"
      },
      "execution_count": 1,
      "outputs": []
    },
    {
      "cell_type": "code",
      "source": [
        "arr1 = np.array([[1,2,3],\n",
        "                 [4,5,6,],\n",
        "                 [7,8,9]])\n",
        "arr2 = np.array([[2,2,2],\n",
        "                 [2,2,2],\n",
        "                 [2,2,2]])\n",
        "print(arr1)\n",
        "print(arr2)"
      ],
      "metadata": {
        "colab": {
          "base_uri": "https://localhost:8080/"
        },
        "id": "dNzHRv1MQIM2",
        "outputId": "fc1bfabb-4420-4dac-bd87-a4ce5e1c8b84"
      },
      "execution_count": 2,
      "outputs": [
        {
          "output_type": "stream",
          "name": "stdout",
          "text": [
            "[[1 2 3]\n",
            " [4 5 6]\n",
            " [7 8 9]]\n",
            "[[2 2 2]\n",
            " [2 2 2]\n",
            " [2 2 2]]\n"
          ]
        }
      ]
    },
    {
      "cell_type": "code",
      "source": [
        "# 덧셈\n",
        "#1\n",
        "print(arr1+arr2)\n",
        "#2\n",
        "print(np.add(arr1,arr2))"
      ],
      "metadata": {
        "colab": {
          "base_uri": "https://localhost:8080/"
        },
        "id": "M2m_5ei8QIR6",
        "outputId": "833b5b85-5fce-4621-d34b-4dee6f8f59b2"
      },
      "execution_count": 4,
      "outputs": [
        {
          "output_type": "stream",
          "name": "stdout",
          "text": [
            "[[ 3  4  5]\n",
            " [ 6  7  8]\n",
            " [ 9 10 11]]\n",
            "[[ 3  4  5]\n",
            " [ 6  7  8]\n",
            " [ 9 10 11]]\n"
          ]
        }
      ]
    },
    {
      "cell_type": "code",
      "source": [
        "# 뺄셈\n",
        "#1\n",
        "print(arr1 - arr2)\n",
        "#2\n",
        "print(np.subtract(arr1,arr2))"
      ],
      "metadata": {
        "colab": {
          "base_uri": "https://localhost:8080/"
        },
        "id": "dLtGkqZPSLOq",
        "outputId": "06d17b9b-89f6-4295-e7c4-2af20439b69d"
      },
      "execution_count": 5,
      "outputs": [
        {
          "output_type": "stream",
          "name": "stdout",
          "text": [
            "[[-1  0  1]\n",
            " [ 2  3  4]\n",
            " [ 5  6  7]]\n",
            "[[-1  0  1]\n",
            " [ 2  3  4]\n",
            " [ 5  6  7]]\n"
          ]
        }
      ]
    },
    {
      "cell_type": "code",
      "source": [
        "# 곱셈 => 내적연산(dot product) 아님!! 원소간의 곱 연산\n",
        "#1\n",
        "print(arr1 * arr2)\n",
        "#2\n",
        "print(np.multiply(arr1,arr2))"
      ],
      "metadata": {
        "colab": {
          "base_uri": "https://localhost:8080/"
        },
        "id": "VVOhfVaLQIbE",
        "outputId": "e86e6a81-105c-467b-ddcd-ae321b4cfb94"
      },
      "execution_count": 6,
      "outputs": [
        {
          "output_type": "stream",
          "name": "stdout",
          "text": [
            "[[ 2  4  6]\n",
            " [ 8 10 12]\n",
            " [14 16 18]]\n",
            "[[ 2  4  6]\n",
            " [ 8 10 12]\n",
            " [14 16 18]]\n"
          ]
        }
      ]
    },
    {
      "cell_type": "code",
      "source": [
        "# 나눗셈\n",
        "#1\n",
        "print(arr1/arr2)\n",
        "#2\n",
        "print(np.divide(arr1,arr2))"
      ],
      "metadata": {
        "colab": {
          "base_uri": "https://localhost:8080/"
        },
        "id": "pALz00zlSvn0",
        "outputId": "5cd6a598-4762-40d5-9d53-3b5b893d9a0f"
      },
      "execution_count": 9,
      "outputs": [
        {
          "output_type": "stream",
          "name": "stdout",
          "text": [
            "[[0.5 1.  1.5]\n",
            " [2.  2.5 3. ]\n",
            " [3.5 4.  4.5]]\n",
            "[[0.5 1.  1.5]\n",
            " [2.  2.5 3. ]\n",
            " [3.5 4.  4.5]]\n"
          ]
        }
      ]
    },
    {
      "cell_type": "code",
      "source": [
        "# 제곱\n",
        "#1\n",
        "print(arr1 ** 2)\n",
        "#2\n",
        "print(np.square(arr1))"
      ],
      "metadata": {
        "colab": {
          "base_uri": "https://localhost:8080/"
        },
        "id": "1ZnoykACTK_Z",
        "outputId": "3ededada-7c4d-4c41-c868-17873017ea01"
      },
      "execution_count": 10,
      "outputs": [
        {
          "output_type": "stream",
          "name": "stdout",
          "text": [
            "[[ 1  4  9]\n",
            " [16 25 36]\n",
            " [49 64 81]]\n",
            "[[ 1  4  9]\n",
            " [16 25 36]\n",
            " [49 64 81]]\n"
          ]
        }
      ]
    },
    {
      "cell_type": "code",
      "source": [
        "# 제곱근\n",
        "print(np.sqrt(arr1))"
      ],
      "metadata": {
        "colab": {
          "base_uri": "https://localhost:8080/"
        },
        "id": "nJZ8PwF3TLCN",
        "outputId": "51286e87-a814-433d-c554-ada79e287bf6"
      },
      "execution_count": 11,
      "outputs": [
        {
          "output_type": "stream",
          "name": "stdout",
          "text": [
            "[[1.         1.41421356 1.73205081]\n",
            " [2.         2.23606798 2.44948974]\n",
            " [2.64575131 2.82842712 3.        ]]\n"
          ]
        }
      ]
    },
    {
      "cell_type": "code",
      "source": [
        "# 몫\n",
        "print(arr1 // 2)"
      ],
      "metadata": {
        "colab": {
          "base_uri": "https://localhost:8080/"
        },
        "id": "f51ddMI6TLF3",
        "outputId": "45049eb8-552c-4680-bc4d-2717674b57e6"
      },
      "execution_count": 12,
      "outputs": [
        {
          "output_type": "stream",
          "name": "stdout",
          "text": [
            "[[0 1 1]\n",
            " [2 2 3]\n",
            " [3 4 4]]\n"
          ]
        }
      ]
    },
    {
      "cell_type": "code",
      "source": [
        "# 나머지\n",
        "print(arr1 % 2)"
      ],
      "metadata": {
        "colab": {
          "base_uri": "https://localhost:8080/"
        },
        "id": "QuiB-2uHTLHh",
        "outputId": "730d241b-6e88-4043-95a3-9d79ce56efda"
      },
      "execution_count": 13,
      "outputs": [
        {
          "output_type": "stream",
          "name": "stdout",
          "text": [
            "[[1 0 1]\n",
            " [0 1 0]\n",
            " [1 0 1]]\n"
          ]
        }
      ]
    },
    {
      "cell_type": "markdown",
      "source": [
        "---\n",
        "## 3-2. 배열의 연산 2: 내적(dot product)/절댓값/올림/내림/반올림/버림"
      ],
      "metadata": {
        "id": "664Dsq7zT2EU"
      }
    },
    {
      "cell_type": "code",
      "source": [
        "# 1차원 행렬에서의 내적\n",
        "arr1 = np.array([2,3,4])\n",
        "arr2 = np.array([1,2,3])\n",
        "print(np.dot(arr1,arr2))"
      ],
      "metadata": {
        "colab": {
          "base_uri": "https://localhost:8080/"
        },
        "id": "GtbXcuS8T2Wo",
        "outputId": "2c971b45-6429-4d83-a998-8b8b431a93fd"
      },
      "execution_count": 14,
      "outputs": [
        {
          "output_type": "stream",
          "name": "stdout",
          "text": [
            "20\n"
          ]
        }
      ]
    },
    {
      "cell_type": "code",
      "source": [
        "# 2차원 행렬에서의 내적\n",
        "arr1 = np.array([[1,2],\n",
        "                 [4,5]])\n",
        "arr2 = np.array([[1,2],\n",
        "                 [0,3]])\n",
        "print(np.dot(arr1,arr2))"
      ],
      "metadata": {
        "colab": {
          "base_uri": "https://localhost:8080/"
        },
        "id": "QbQJnAOJT2ZM",
        "outputId": "378bd952-41ed-4f94-e608-4cd50da64fb0"
      },
      "execution_count": 15,
      "outputs": [
        {
          "output_type": "stream",
          "name": "stdout",
          "text": [
            "[[ 1  8]\n",
            " [ 4 23]]\n"
          ]
        }
      ]
    },
    {
      "cell_type": "code",
      "source": [
        "# 절댓값\n",
        "arr1 = np.array([[1,-2],\n",
        "                 [-4,5]])\n",
        "print(np.abs(arr1))"
      ],
      "metadata": {
        "colab": {
          "base_uri": "https://localhost:8080/"
        },
        "id": "VnflB7OQV-6d",
        "outputId": "d4609555-a0ec-4b9e-df19-06808c126d00"
      },
      "execution_count": 16,
      "outputs": [
        {
          "output_type": "stream",
          "name": "stdout",
          "text": [
            "[[1 2]\n",
            " [4 5]]\n"
          ]
        }
      ]
    },
    {
      "cell_type": "code",
      "source": [
        "# 올림\n",
        "arr1 = np.array([[1.932,-2.339],\n",
        "                 [-4.145,5.206]])\n",
        "print(np.ceil(arr1))\n",
        "\n",
        "# 내림\n",
        "print(np.floor(arr1))\n",
        "\n",
        "# 반올림\n",
        "print(np.round(arr1))\n",
        "\n",
        "# 버림\n",
        "print(np.trunc(arr1))"
      ],
      "metadata": {
        "colab": {
          "base_uri": "https://localhost:8080/"
        },
        "id": "XRq6QX-rV-87",
        "outputId": "a1504fb3-6389-42fa-cf57-ebf7bbc244f6"
      },
      "execution_count": 19,
      "outputs": [
        {
          "output_type": "stream",
          "name": "stdout",
          "text": [
            "[[ 2. -2.]\n",
            " [-4.  6.]]\n",
            "[[ 1. -3.]\n",
            " [-5.  5.]]\n",
            "[[ 2. -2.]\n",
            " [-4.  5.]]\n",
            "[[ 1. -2.]\n",
            " [-4.  5.]]\n"
          ]
        }
      ]
    },
    {
      "cell_type": "markdown",
      "source": [
        "---\n",
        "## 3-3. 배열의 연산 3: min/max/sum/mean/std/cumsum/median"
      ],
      "metadata": {
        "id": "_tDFWofJX547"
      }
    },
    {
      "cell_type": "code",
      "source": [
        "arr1 = np.array([[1,2,3],\n",
        "                 [0,1,4]])"
      ],
      "metadata": {
        "id": "Imje-kQET2bx"
      },
      "execution_count": 20,
      "outputs": []
    },
    {
      "cell_type": "code",
      "source": [
        "# 최솟값 출력\n",
        "print(np.min(arr1))\n",
        "\n",
        "print(arr1.min())\n",
        "print(arr1.min(axis=0))   # ==> axis 정리필요..\n",
        "print(arr1.min(axis=1))"
      ],
      "metadata": {
        "colab": {
          "base_uri": "https://localhost:8080/"
        },
        "id": "c8sn4FMKT2jJ",
        "outputId": "8f579678-7497-47dc-99db-02efadae0145"
      },
      "execution_count": 26,
      "outputs": [
        {
          "output_type": "stream",
          "name": "stdout",
          "text": [
            "0\n",
            "0\n",
            "[0 1 3]\n",
            "[1 0]\n"
          ]
        }
      ]
    },
    {
      "cell_type": "markdown",
      "source": [
        "---\n",
        "### - axis 개념\n",
        "    - axis = 1\n",
        "\n",
        "        손가락을 구부리고 행들을 잡으며 위에서 아래쪽으로 연산\n",
        "    - axis = 0\n",
        "\n",
        "        손가락을 구부리고 열들을 잡으며 왼쪽에서 오른쪽으로 연산\n",
        "---"
      ],
      "metadata": {
        "id": "4Yn_9IWUbaob"
      }
    },
    {
      "cell_type": "code",
      "source": [
        "# 최댓값 출력\n",
        "print(np.max(arr1))\n",
        "\n",
        "print(arr1.max())\n",
        "print(arr1.max(axis=0))\n",
        "print(arr1.max(axis=1))"
      ],
      "metadata": {
        "colab": {
          "base_uri": "https://localhost:8080/"
        },
        "id": "0jVUizyNYLXk",
        "outputId": "5df813ef-73dc-4f50-d79e-0fb5224bfea7"
      },
      "execution_count": 30,
      "outputs": [
        {
          "output_type": "stream",
          "name": "stdout",
          "text": [
            "4\n",
            "4\n",
            "[1 2 4]\n",
            "[3 4]\n"
          ]
        }
      ]
    },
    {
      "cell_type": "code",
      "source": [
        "arr = np.array([[1,2,3],\n",
        "                [0,1,4]])"
      ],
      "metadata": {
        "id": "RtxS9d2DaQ-5"
      },
      "execution_count": 31,
      "outputs": []
    },
    {
      "cell_type": "code",
      "source": [
        "# 총합\n",
        "print(np.sum(arr))\n",
        "print(arr.sum(axis=0))\n",
        "print(arr.sum(axis=1))"
      ],
      "metadata": {
        "colab": {
          "base_uri": "https://localhost:8080/"
        },
        "id": "Te7-o-NbYLZ5",
        "outputId": "d041ab55-482d-43f0-df0c-956c19e29327"
      },
      "execution_count": 35,
      "outputs": [
        {
          "output_type": "stream",
          "name": "stdout",
          "text": [
            "11\n",
            "[1 3 7]\n",
            "[6 5]\n"
          ]
        }
      ]
    },
    {
      "cell_type": "code",
      "source": [
        "# 평균\n",
        "print(np.mean(arr))\n",
        "print(arr.mean(axis=0))\n",
        "print(arr.mean(axis=1))"
      ],
      "metadata": {
        "colab": {
          "base_uri": "https://localhost:8080/"
        },
        "id": "zL6TO2cxctCV",
        "outputId": "bd7e6c99-b40e-4479-9c71-6c0af5c68c21"
      },
      "execution_count": 37,
      "outputs": [
        {
          "output_type": "stream",
          "name": "stdout",
          "text": [
            "1.8333333333333333\n",
            "[0.5 1.5 3.5]\n",
            "[2.         1.66666667]\n"
          ]
        }
      ]
    },
    {
      "cell_type": "code",
      "source": [],
      "metadata": {
        "id": "Hu1vvpqWYLgW"
      },
      "execution_count": null,
      "outputs": []
    },
    {
      "cell_type": "code",
      "source": [],
      "metadata": {
        "id": "58Z0h0beYLi-"
      },
      "execution_count": null,
      "outputs": []
    },
    {
      "cell_type": "code",
      "source": [],
      "metadata": {
        "id": "oEkbhJQHYLlu"
      },
      "execution_count": null,
      "outputs": []
    },
    {
      "cell_type": "markdown",
      "source": [
        "---\n",
        "#Section4. N차원 배열 정렬\n",
        "### 배열의 원소들을 대소관계에 따라 정렬하는 방법을 다룬다.\n",
        "---"
      ],
      "metadata": {
        "id": "xQeUsXXGiZYw"
      }
    },
    {
      "cell_type": "markdown",
      "source": [
        "---\n",
        "#Section5. N차원 배열의 형태 변경\n",
        "### 배열의 shape를 변형하고 차원을 확장, 축소하는 방법을 다룬다.\n",
        "---"
      ],
      "metadata": {
        "id": "Rwjz7XDLiiUn"
      }
    },
    {
      "cell_type": "markdown",
      "source": [
        "---\n",
        "#Section6. N차원 배열의 병합\n",
        "### 배열의 원소를 추가하고 삭제하는 방법과 데이터를 병합하고 분할하는 방법을 다룬다.\n",
        "---"
      ],
      "metadata": {
        "id": "znBeiAgHipxX"
      }
    },
    {
      "cell_type": "markdown",
      "source": [
        "---\n",
        "#Section7. 실습예제\n",
        "\n",
        "---"
      ],
      "metadata": {
        "id": "9b4DBsuiizXn"
      }
    }
  ]
}