{
  "nbformat": 4,
  "nbformat_minor": 0,
  "metadata": {
    "colab": {
      "provenance": [],
      "authorship_tag": "ABX9TyMcRT9z0BrEOBsL1rYFWrkA",
      "include_colab_link": true
    },
    "kernelspec": {
      "name": "python3",
      "display_name": "Python 3"
    },
    "language_info": {
      "name": "python"
    }
  },
  "cells": [
    {
      "cell_type": "markdown",
      "metadata": {
        "id": "view-in-github",
        "colab_type": "text"
      },
      "source": [
        "<a href=\"https://colab.research.google.com/github/jacobhjh0999/inflearn_Numpy_Basic_for_ds/blob/main/1_numpy.ipynb\" target=\"_parent\"><img src=\"https://colab.research.google.com/assets/colab-badge.svg\" alt=\"Open In Colab\"/></a>"
      ]
    },
    {
      "cell_type": "markdown",
      "source": [
        "---\n",
        "#Section1. N차원 배열(ndarray 생성)\n",
        "### N차원 배열을 생성하는 여러가지 방법, 데이터타입, 간단하게 데이터를 시각화하는 방법을 다룬다.\n",
        "---"
      ],
      "metadata": {
        "id": "nEjfn7ezhvmt"
      }
    },
    {
      "cell_type": "code",
      "execution_count": null,
      "metadata": {
        "id": "JRQlNKvtcxu5"
      },
      "outputs": [],
      "source": [
        "import numpy as np"
      ]
    },
    {
      "cell_type": "markdown",
      "source": [
        "## ✅ `np.array()`는 `리스트, 튜플을 받아서` `배열`을 만든다\n",
        "\n",
        "np.array()는 리스트를 NumPy 배열(ndarray)로 변환하는 역할을 해."
      ],
      "metadata": {
        "id": "Ina6xmMSqDR4"
      }
    },
    {
      "cell_type": "code",
      "source": [
        "# 리스트를 배열(ndarray)로\n",
        "my_list = [1,2,3,4]\n",
        "arr_by_list = np.array(my_list)\n",
        "print(arr_by_list)"
      ],
      "metadata": {
        "colab": {
          "base_uri": "https://localhost:8080/"
        },
        "id": "oeY7UF78txfo",
        "outputId": "978bf1cd-f50d-4a25-9679-3cd613500c1e"
      },
      "execution_count": null,
      "outputs": [
        {
          "output_type": "stream",
          "name": "stdout",
          "text": [
            "[1 2 3 4]\n"
          ]
        }
      ]
    },
    {
      "cell_type": "code",
      "source": [
        "# 튜플을 배열(ndarray)로\n",
        "my_tuple = (1,2,3,4)\n",
        "arr_by_tuple = np.array(my_tuple)\n",
        "print(arr_by_tuple)"
      ],
      "metadata": {
        "colab": {
          "base_uri": "https://localhost:8080/"
        },
        "id": "7_Yhi1ibuD3j",
        "outputId": "b8af6df9-6670-452f-8ecf-3793dbf435c8"
      },
      "execution_count": null,
      "outputs": [
        {
          "output_type": "stream",
          "name": "stdout",
          "text": [
            "[1 2 3 4]\n"
          ]
        }
      ]
    },
    {
      "cell_type": "markdown",
      "source": [
        "## ✅ 1. 리스트와 배열의 기본 개념\n",
        "\n",
        "| 특징 | Python 리스트 (`list`) | NumPy 배열 (`np.array`) |\n",
        "|------|--------------------|--------------------|\n",
        "| **데이터 저장 방식** | 객체의 모음 (다양한 타입 가능) | 동일한 타입의 값이 연속적으로 저장됨 |\n",
        "| **연산 방식** | 반복문을 사용해야 연산 가능 | 벡터 연산 가능 (빠름) |\n",
        "| **속도** | 상대적으로 느림 | 빠름 |\n",
        "| **메모리 사용** | 추가적인 메타데이터 포함 | 연속된 메모리 블록 사용 (더 효율적) |\n"
      ],
      "metadata": {
        "id": "c_5_I9YgpDYV"
      }
    },
    {
      "cell_type": "code",
      "source": [
        "# 리스트\n",
        "list = [1,2,3]\n",
        "print(type(list))\n",
        "print(list)\n",
        "\n",
        "\n",
        "# ndarray\n",
        "arr = np.array([1,2,3])\n",
        "print(type(arr))\n",
        "print(arr)"
      ],
      "metadata": {
        "colab": {
          "base_uri": "https://localhost:8080/"
        },
        "id": "9ex2JeO9l4Tx",
        "outputId": "4471260a-2fc7-451f-f108-a94bc784a326"
      },
      "execution_count": null,
      "outputs": [
        {
          "output_type": "stream",
          "name": "stdout",
          "text": [
            "<class 'list'>\n",
            "[1, 2, 3]\n",
            "<class 'numpy.ndarray'>\n",
            "[1 2 3]\n"
          ]
        }
      ]
    },
    {
      "cell_type": "markdown",
      "source": [
        "## 🧐 ndarray란?\n",
        "\n",
        "`ndarray`는 **\"N-dimensional array\"**의 줄임말이야.\n",
        "\n",
        "- **`nd`** → *N-dimensional (N차원)*\n",
        "- **`array`** → *배열*\n",
        "\n",
        "즉, `ndarray`는 **N차원(다차원) 배열**을 의미하는 NumPy의 기본 데이터 구조야.  \n",
        "NumPy에서 배열을 만들면 내부적으로 `ndarray` 객체가 생성되는데,  \n",
        "1차원, 2차원, 3차원 이상도 모두 `ndarray`로 표현할 수 있어!\n"
      ],
      "metadata": {
        "id": "vbnjjXK3pnFV"
      }
    },
    {
      "cell_type": "code",
      "source": [
        "# 1차원 배열\n",
        "arr1 = np.array([1,2,3])\n",
        "print(arr1)\n",
        "# 2차원 배열\n",
        "arr2 = np.array([[1,2,3],\n",
        "                 [4,5,6],\n",
        "                 [7,8,9]])\n",
        "print(arr2)"
      ],
      "metadata": {
        "colab": {
          "base_uri": "https://localhost:8080/"
        },
        "id": "nzNeKmVMsr9b",
        "outputId": "18024bc8-5e67-4337-a51c-f8237381632a"
      },
      "execution_count": null,
      "outputs": [
        {
          "output_type": "stream",
          "name": "stdout",
          "text": [
            "[1 2 3]\n",
            "[[1 2 3]\n",
            " [4 5 6]\n",
            " [7 8 9]]\n"
          ]
        }
      ]
    },
    {
      "cell_type": "markdown",
      "source": [
        "괄호...\n",
        "## 💡 attribute와 method 차이\n",
        "\n",
        "- **attribute**는 데이터를 **저장하거나 표시하는 속성**이고, `shape`처럼 **읽기 전용**일 수 있어.\n",
        "- **method**는 객체에 **동작을 수행하는 함수**인데, 예를 들어 `arr.sum()`은 배열의 합을 구하는 **method**야.\n",
        "\n",
        "### 예시\n",
        "- **attribute**: `arr.shape`, `arr.size`, `arr.dtype` 등\n",
        "- **method**: `arr.sum()`, `arr.mean()`, `arr.reshape()` 등\n"
      ],
      "metadata": {
        "id": "UcNkc6dYwmIK"
      }
    },
    {
      "cell_type": "code",
      "source": [
        "# shape (괄호 안침 주의!!!)\n",
        "print(arr1.shape , arr2.shape)\n",
        "\n",
        "# ndim\n",
        "print(arr1.ndim , arr2.ndim)\n",
        "\n",
        "# size\n",
        "print(arr1.size , arr2.size)"
      ],
      "metadata": {
        "colab": {
          "base_uri": "https://localhost:8080/"
        },
        "id": "Z0rnmYIxl4bJ",
        "outputId": "9a675cd1-e93f-4bda-bb7a-2c2e0fce2482"
      },
      "execution_count": null,
      "outputs": [
        {
          "output_type": "stream",
          "name": "stdout",
          "text": [
            "(3,) (3, 3)\n",
            "1 2\n",
            "3 9\n"
          ]
        }
      ]
    },
    {
      "cell_type": "markdown",
      "source": [
        "---\n",
        "## Section 1-2. N차원 배열의 데이터 타입\n",
        "\n",
        "- numpy의 ndarray에는 list와 달리 **하나의 데이터타입만** 저장할 수 있다."
      ],
      "metadata": {
        "id": "VI46af7P9KRY"
      }
    },
    {
      "cell_type": "code",
      "source": [
        "import numpy as np\n",
        "# 데이터타입이 혼재하는 경우\n",
        "arr= np.array([1,1.6,2.3,6.7])\n",
        "print(arr,arr.dtype)"
      ],
      "metadata": {
        "id": "319lOMcvl4hp",
        "colab": {
          "base_uri": "https://localhost:8080/"
        },
        "outputId": "ccf47a17-2f94-4439-dba5-63b79a2d8ff5"
      },
      "execution_count": null,
      "outputs": [
        {
          "output_type": "stream",
          "name": "stdout",
          "text": [
            "[1.  1.6 2.3 6.7] float64\n"
          ]
        }
      ]
    },
    {
      "cell_type": "code",
      "source": [
        "arr= np.array([0,1.6,2.3,6.7],dtype=bool)\n",
        "print(arr,arr.dtype)\n",
        "arr=arr.astype(float)  #넣어줘야함.\n",
        "print(arr,arr.dtype)"
      ],
      "metadata": {
        "id": "ubQw1Axbl4mp",
        "colab": {
          "base_uri": "https://localhost:8080/"
        },
        "outputId": "533cd20a-d571-4b64-ed15-7e738ed7d4cc"
      },
      "execution_count": null,
      "outputs": [
        {
          "output_type": "stream",
          "name": "stdout",
          "text": [
            "[False  True  True  True] bool\n",
            "[0. 1. 1. 1.] float64\n"
          ]
        }
      ]
    },
    {
      "cell_type": "markdown",
      "source": [
        "---\n",
        "## Section 1-3. 정해진 형식의 N차원 배열 생성하기\n",
        "\n",
        "-"
      ],
      "metadata": {
        "id": "u2MJPZSzAzTY"
      }
    },
    {
      "cell_type": "code",
      "source": [
        "import numpy as np"
      ],
      "metadata": {
        "id": "NjPZyYY2F9je"
      },
      "execution_count": 2,
      "outputs": []
    },
    {
      "cell_type": "code",
      "source": [
        "# np.zeros() => 모든 요소가 0인 행렬(배열)\n",
        "arr = np.zeros([2,2]) # 2*2 => shape을 전달\n",
        "print(arr)"
      ],
      "metadata": {
        "colab": {
          "base_uri": "https://localhost:8080/"
        },
        "id": "yZFudMQyLrHG",
        "outputId": "e12b6483-4ec8-4bb5-f58c-2fdac9a0a8d9"
      },
      "execution_count": null,
      "outputs": [
        {
          "output_type": "stream",
          "name": "stdout",
          "text": [
            "[[0. 0.]\n",
            " [0. 0.]]\n"
          ]
        }
      ]
    },
    {
      "cell_type": "code",
      "source": [
        "# np.ones() => 모든 요소가 1인 행렬\n",
        "arr = np.ones([3,5])\n",
        "print(arr)"
      ],
      "metadata": {
        "colab": {
          "base_uri": "https://localhost:8080/"
        },
        "id": "RcSYe-BfL9ER",
        "outputId": "4cd26be7-91cf-4ce8-e17b-6819a10fad3b"
      },
      "execution_count": null,
      "outputs": [
        {
          "output_type": "stream",
          "name": "stdout",
          "text": [
            "[[1. 1. 1. 1. 1.]\n",
            " [1. 1. 1. 1. 1.]\n",
            " [1. 1. 1. 1. 1.]]\n"
          ]
        }
      ]
    },
    {
      "cell_type": "code",
      "source": [
        "# np.full() => 원하는 것으로 행렬을 채우기\n",
        "arr = np.full([2,3],5)\n",
        "print(arr)"
      ],
      "metadata": {
        "colab": {
          "base_uri": "https://localhost:8080/"
        },
        "id": "1HUwOwEfMlPw",
        "outputId": "51f206ee-84c3-47ad-ed63-629e0c47abc8"
      },
      "execution_count": null,
      "outputs": [
        {
          "output_type": "stream",
          "name": "stdout",
          "text": [
            "[[5 5 5]\n",
            " [5 5 5]]\n"
          ]
        }
      ]
    },
    {
      "cell_type": "code",
      "source": [
        "# np.eye() => 대각 요소가 1\n",
        "arr = np.eye(3,4,k=1) #k는 대각요소의 시작지점\n",
        "print(arr)"
      ],
      "metadata": {
        "colab": {
          "base_uri": "https://localhost:8080/"
        },
        "id": "lz6jn1oEM_TL",
        "outputId": "1a048654-1d21-4071-81a8-80f5ab68078f"
      },
      "execution_count": 4,
      "outputs": [
        {
          "output_type": "stream",
          "name": "stdout",
          "text": [
            "[[0. 1. 0. 0.]\n",
            " [0. 0. 1. 0.]\n",
            " [0. 0. 0. 1.]]\n"
          ]
        }
      ]
    },
    {
      "cell_type": "code",
      "source": [
        "# 원래의 배열과 동일한 shape 행렬 만들기\n",
        "arr = np.array([[1,2,3],[4,5,6]])\n",
        "\n",
        "# np.zeros_like()\n",
        "arr_z = np.zeros_like(arr)\n",
        "print(arr_z)\n",
        "\n",
        "#np.ones_like()\n",
        "arr_o = np.ones_like(arr)\n",
        "print(arr_o)\n",
        "\n",
        "#np.full_like()\n",
        "arr_f = np.full_like(arr,5)\n",
        "print(arr_f)\n",
        "\n"
      ],
      "metadata": {
        "colab": {
          "base_uri": "https://localhost:8080/"
        },
        "id": "UGiIUhYKGKWE",
        "outputId": "e52d2130-4bfd-4ee5-b2ba-801028d03799"
      },
      "execution_count": 11,
      "outputs": [
        {
          "output_type": "stream",
          "name": "stdout",
          "text": [
            "[[0 0 0]\n",
            " [0 0 0]]\n",
            "[[1 1 1]\n",
            " [1 1 1]]\n",
            "[[5 5 5]\n",
            " [5 5 5]]\n"
          ]
        }
      ]
    },
    {
      "cell_type": "markdown",
      "source": [
        "---\n",
        "## Section 1-4. 특정 범위의 값을 가지는 N차원 배열 생성하기\n",
        "\n",
        "-"
      ],
      "metadata": {
        "id": "jb7jFeb4Hdaq"
      }
    },
    {
      "cell_type": "code",
      "source": [
        "# 리스트에서 주어진 범위 내 간격을 두고 값 생성하기\n",
        "lst = list(range(0,9,2))\n",
        "print(lst)"
      ],
      "metadata": {
        "colab": {
          "base_uri": "https://localhost:8080/"
        },
        "id": "ZVPuE1HZHlHo",
        "outputId": "9cb8679d-276c-49c2-c919-ab0a363b7002"
      },
      "execution_count": 13,
      "outputs": [
        {
          "output_type": "stream",
          "name": "stdout",
          "text": [
            "[0, 2, 4, 6, 8]\n"
          ]
        }
      ]
    },
    {
      "cell_type": "code",
      "source": [
        "# 배열(ndarray)에서 주어진 범위 내 간격을 두고 값 생성하기\n",
        "arr = np.arange(0,9,2)\n",
        "print(arr)"
      ],
      "metadata": {
        "colab": {
          "base_uri": "https://localhost:8080/"
        },
        "id": "Rto-pNJHHrd9",
        "outputId": "4b0c4779-47a3-4041-cb2e-97557febc621"
      },
      "execution_count": 15,
      "outputs": [
        {
          "output_type": "stream",
          "name": "stdout",
          "text": [
            "[0 2 4 6 8]\n"
          ]
        }
      ]
    },
    {
      "cell_type": "markdown",
      "source": [
        "✅ np.arange() 함수는 다음과 같은 매개변수를 가집니다:\n",
        "\n",
        "- start: 시작 값 (기본값은 0)\n",
        "- stop: 종료 값 (이 값은 포함되지 않음)\n",
        "- step: 값의 간격 (기본값은 1)"
      ],
      "metadata": {
        "id": "JrPdwpNYI_Z8"
      }
    },
    {
      "cell_type": "code",
      "source": [
        "arr = np.arange(8)\n",
        "print(arr)"
      ],
      "metadata": {
        "colab": {
          "base_uri": "https://localhost:8080/"
        },
        "id": "SBkbXOwaJWLh",
        "outputId": "faf4224f-7b08-49a2-ad52-9757d5946cff"
      },
      "execution_count": 17,
      "outputs": [
        {
          "output_type": "stream",
          "name": "stdout",
          "text": [
            "[0 1 2 3 4 5 6 7]\n"
          ]
        }
      ]
    },
    {
      "cell_type": "markdown",
      "source": [
        "✅ np.linspace()는 지정한 범위 내에서 균등한 간격으로 값을 생성하는 함수입니다. 이 함수는 주로 수치 계산에서 구간을 나누고 싶을 때 유용하게 사용됩니다.\n",
        "\n",
        "- 주요 사용법:\n",
        "    - np.linspace(start, stop, num=50, endpoint=True, retstep=False, dtype=None, axis=0)\n",
        "\n",
        "- 매개변수 설명:\n",
        "    - start: 생성할 배열의 시작 값.\n",
        "    - stop: 생성할 배열의 끝 값 (**이 값도 포함할 수 있음, endpoint=True일 때**). => 주의하기!\n",
        "    - num: 생성할 샘플의 수 (기본값은 50).\n",
        "    - endpoint: True이면 stop 값이 포함되고, False이면 포함되지 않습니다 (기본값은 True).\n",
        "    - retstep: True로 설정하면 각 간격을 반환합니다. (기본값은 False).\n",
        "    - dtype: 생성된 배열의 데이터 타입 (선택적 매개변수).\n",
        "    - axis: 결과 배열을 생성할 축 (기본값은 0)."
      ],
      "metadata": {
        "id": "hqFnKnJhOy_P"
      }
    },
    {
      "cell_type": "code",
      "source": [
        "# np.linspace()\n",
        "arr = np.linspace(0,100,11)\n",
        "print(arr)"
      ],
      "metadata": {
        "colab": {
          "base_uri": "https://localhost:8080/"
        },
        "id": "XQdyZe_QODa6",
        "outputId": "a4d6213e-241a-4c77-e41d-484acb20129d"
      },
      "execution_count": 18,
      "outputs": [
        {
          "output_type": "stream",
          "name": "stdout",
          "text": [
            "[  0.  10.  20.  30.  40.  50.  60.  70.  80.  90. 100.]\n"
          ]
        }
      ]
    },
    {
      "cell_type": "markdown",
      "source": [
        "✅ np.logspace()는 로그스케일의 linspace()이다.\n",
        "### `np.logspace()` 함수\n",
        "\n",
        "`np.logspace()`는 numpy 라이브러리에서 제공하는 함수로, 로그 스케일로 균등 간격의 숫자들을 생성하는 함수입니다. 이 함수는 주로 로그 값의 범위를 가진 배열을 만들고자 할 때 사용됩니다. 예를 들어, 지수적 또는 로그 스케일로 값을 나누고 싶을 때 유용합니다.\n",
        "\n",
        "#### 주요 사용법:\n",
        "\n",
        "```python\n",
        "import numpy as np\n",
        "np.logspace(start, stop, num=50, endpoint=True, base=10.0, dtype=None, axis=0)\n",
        "```\n",
        "\n",
        "매개변수 설명:\n",
        "- start: 생성할 배열의 시작 값 (로그 스케일의 지수값을 의미).\n",
        "- stop: 생성할 배열의 끝 값 (로그 스케일의 지수값을 의미).\n",
        "- num: 생성할 샘플의 수 (기본값은 50).\n",
        "- base: 로그의 밑 (기본값은 10.0). 예를 들어, 밑을 2로 설정하면 이진 로그로 계산됩니다.\n"
      ],
      "metadata": {
        "id": "ATDargPqSPNh"
      }
    },
    {
      "cell_type": "code",
      "source": [
        "# np.logspace()\n",
        "arr = np.logspace(1,10, num=20, base=2)\n",
        "print(arr)\n",
        "# 해석: 2의 1승부터 2의 10승까지 로그스케일 기준 20개로 나눈것"
      ],
      "metadata": {
        "colab": {
          "base_uri": "https://localhost:8080/"
        },
        "id": "0YWqI_bIRnvo",
        "outputId": "2e840ffb-530a-45f5-9dd6-b2f4ed57c776"
      },
      "execution_count": 26,
      "outputs": [
        {
          "output_type": "stream",
          "name": "stdout",
          "text": [
            "[   2.            2.77730229    3.85670399    5.3556164     7.43708284\n",
            "   10.32751358   14.34131354   19.91508143   27.65510059   38.40328703\n",
            "   53.32876841   74.05505519  102.836637    142.80421347  198.30523421\n",
            "  275.37679007  382.40229418  531.02338276  737.40622722 1024.        ]\n"
          ]
        }
      ]
    },
    {
      "cell_type": "code",
      "source": [
        "import numpy as np\n",
        "import matplotlib.pyplot as plt\n",
        "\n",
        "# np.logspace로 값 생성\n",
        "arr = np.logspace(1, 10, num=20, base=2)\n",
        "\n",
        "# 그래프 그리기\n",
        "plt.figure(figsize=(10, 6))\n",
        "plt.plot(arr, marker='o')\n",
        "#plt.yscale('log')  # y축을 로그 스케일로 설정\n",
        "plt.xlabel('Index')\n",
        "plt.ylabel('Value')\n",
        "plt.title('Logarithmic Scale Plot (Base 2)')\n",
        "plt.grid(True, which='both', linestyle='--', linewidth=0.5)\n",
        "plt.show()"
      ],
      "metadata": {
        "colab": {
          "base_uri": "https://localhost:8080/",
          "height": 548
        },
        "id": "OKYx-bI1UasQ",
        "outputId": "142c611b-5ee9-4a57-fd46-9579d264d061"
      },
      "execution_count": 30,
      "outputs": [
        {
          "output_type": "display_data",
          "data": {
            "text/plain": [
              "<Figure size 1000x600 with 1 Axes>"
            ],
            "image/png": "[encoded data removed]"
          },
          "metadata": {}
        }
      ]
    },
    {
      "cell_type": "markdown",
      "source": [
        "♦ 로그 스케일이란?\n",
        "\n",
        "- 로그 스케일은 값을 지수적으로 증가시키거나 줄이는 방식으로, 숫자의 크기를 더 쉽게 다룰 수 있도록 해주는 방법입니다.\n",
        "- 일반적으로 10배씩 증가하거나 감소하는 방식으로 값이 커지거나 작아집니다. 로그 스케일은 주로 값의 차이가 매우 크거나, 값들이 기하급수적으로 변할 때 유용하게 사용됩니다.\n",
        "\n",
        "♦ 선형 스케일 vs 로그 스케일\n",
        "\n",
        "- 선형 스케일:\n",
        "\n",
        "    만약 우리가 1, 2, 3, 4, 5와 같이 값을 선형적으로 증가시키면, 각 값은 일정한 간격으로 증가합니다. 즉, 각 숫자의 차이는 항상 같아요.\n",
        "\n",
        "    ```\n",
        "    1, 2, 3, 4, 5\n",
        "    ```\n",
        "    이건 일반적인 숫자 증가 방식입니다. 1에서 2, 2에서 3, 3에서 4의 차이는 모두 1입니다.\n",
        "\n",
        "- 로그 스케일:\n",
        "\n",
        "    반면, 로그 스케일에서는 숫자가 지수적으로 증가합니다. 예를 들어, 10의 거듭제곱 값들을 사용한다면, 숫자는 10, 100, 1000, 10000처럼 증가합니다.\n",
        "\n",
        "    ```\n",
        "    10^1 = 10, 10^2 = 100, 10^3 = 1000, 10^4 = 10000\n",
        "    ```\n",
        "    위의 숫자들(10, 100, 1000, 10000)은 10배씩 증가하는 값들입니다. 숫자 간의 차이가 점점 커지죠.\n",
        "\n",
        "♦ 왜 로그 스케일을 사용할까요?\n",
        "\n",
        "- 로그 스케일은 특히 값의 차이가 매우 클 때 유용합니다. 예를 들어, 값이 1에서 10으로 증가하고, 10에서 100으로 증가하고, 100에서 1000으로 증가한다면, 각 값들의 차이는 급격히 커지게 됩니다. 이럴 때 로그 스케일을 사용하면, 값을 더 균등하게 표현할 수 있습니다."
      ],
      "metadata": {
        "id": "jslHDN3gQGcH"
      }
    },
    {
      "cell_type": "markdown",
      "source": [
        "---\n",
        "## Section 1-5. 난수로 N차원 배열 생성하기\n",
        "\n",
        "-"
      ],
      "metadata": {
        "id": "B6ufjCMjciHs"
      }
    },
    {
      "cell_type": "code",
      "source": [
        "import matplotlib.pyplot as plt\n",
        "import numpy"
      ],
      "metadata": {
        "id": "x3jhxL1Ecirh"
      },
      "execution_count": 31,
      "outputs": []
    },
    {
      "cell_type": "markdown",
      "source": [
        "### ✅ np.random.normal() 함수는 정규 분포 (Normal distribution, 또는 Gaussian distribution)에서 난수를 생성하는 함수입니다.\n",
        "```\n",
        "np.random.normal(loc=0.0, scale=1.0, size=None)\n",
        "```\n",
        "- loc: 정규 분포의 평균값 (mean). 기본값은 0입니다. => location\n",
        "- scale: 정규 분포의 표준편차 (standard deviation). 기본값은 1입니다.\n",
        "- size: 생성할 난수의 크기 (배열의 형태). 예를 들어, (2, 3)을 지정하면 2행 3열의 배열을 생성합니다. 기본값은 None으로, 단일 난수만 생성됩니다.\n"
      ],
      "metadata": {
        "id": "d0dETXeKekvU"
      }
    },
    {
      "cell_type": "code",
      "source": [
        "# np.random.normal()\n",
        "arr = np.random.normal(0,1,[2,3])\n",
        "print(arr)"
      ],
      "metadata": {
        "colab": {
          "base_uri": "https://localhost:8080/"
        },
        "id": "SeFY_P8xh9-A",
        "outputId": "965a1672-1b70-46cb-f3ca-1a98e076ff05"
      },
      "execution_count": 43,
      "outputs": [
        {
          "output_type": "stream",
          "name": "stdout",
          "text": [
            "[[ 1.71771643  0.77039723  0.72759158]\n",
            " [ 0.1012978   1.64253623 -0.39322389]]\n"
          ]
        }
      ]
    },
    {
      "cell_type": "code",
      "source": [
        "# np.random.normal()\n",
        "arr = np.random.normal(0,1,10000)\n",
        "# print(arr)\n",
        "\n",
        "plt.hist(arr,bins=100) # bins는 히스토그램에서 데이터를 나누는 구간의 개수 설정\n",
        "plt.show()"
      ],
      "metadata": {
        "colab": {
          "base_uri": "https://localhost:8080/",
          "height": 430
        },
        "id": "Ntcjf8v0c2vD",
        "outputId": "3d9b3313-8f00-4e51-9de4-24fcb0e1f6c3"
      },
      "execution_count": 46,
      "outputs": [
        {
          "output_type": "display_data",
          "data": {
            "text/plain": [
              "<Figure size 640x480 with 1 Axes>"
            ],
            "image/png": "[encoded data removed]"
          },
          "metadata": {}
        }
      ]
    },
    {
      "cell_type": "markdown",
      "source": [
        "✅ np.random.rand()는 NumPy에서 제공하는 함수로, 균등 분포에 따라 0과 1 사이의 랜덤 숫자를 생성합니다. 이 함수는 주로 임의의 실수가 필요할 때 사용됩니다.\n",
        "\n",
        "- 주요 특징:\n",
        "    - 균등 분포 (Uniform Distribution): np.random.rand()는 0과 1 사이에서 균등하게 값을 추출합니다. 즉, 각 숫자가 나올 확률은 동일합니다.\n",
        "    - 형태 (Shape): np.random.rand()에 전달된 인수에 따라 반환되는 배열의 **형태(shape)**를 지정할 수 있습니다."
      ],
      "metadata": {
        "id": "7aOn_MYRjwbu"
      }
    },
    {
      "cell_type": "code",
      "source": [
        "arr = np.random.rand(2,3)\n",
        "print(arr)"
      ],
      "metadata": {
        "colab": {
          "base_uri": "https://localhost:8080/"
        },
        "id": "YLTvMo5Pc3vC",
        "outputId": "824ba6b8-d3fb-48ef-f680-b90b9349c145"
      },
      "execution_count": 49,
      "outputs": [
        {
          "output_type": "stream",
          "name": "stdout",
          "text": [
            "[[0.89125549 0.50735935 0.83587317]\n",
            " [0.9828822  0.43169387 0.11449025]]\n"
          ]
        }
      ]
    },
    {
      "cell_type": "code",
      "source": [
        "arr = np.random.rand(1000)\n",
        "plt.hist(arr,bins=100)\n",
        "plt.show()"
      ],
      "metadata": {
        "colab": {
          "base_uri": "https://localhost:8080/",
          "height": 430
        },
        "id": "0ZwZ2fx3k4fm",
        "outputId": "936ad78f-6a42-4eb1-d730-e3ff6ab32cc7"
      },
      "execution_count": 55,
      "outputs": [
        {
          "output_type": "display_data",
          "data": {
            "text/plain": [
              "<Figure size 640x480 with 1 Axes>"
            ],
            "image/png": "[encoded data removed]"
          },
          "metadata": {}
        }
      ]
    },
    {
      "cell_type": "markdown",
      "source": [
        "✅ np.random.randn()\n",
        "- np.random.randn()은 평균 0, 표준편차 1인 표준 정규 분포에서 랜덤 숫자를 생성하는 함수입니다.\n",
        "- np.random.normal과 달리 기본적으로 **평균(mean)**과 **표준편차(std)**가 고정되어 있으며, 추가적인 매개변수를 제공할 필요 없이 간단하게 사용할 수 있습니다."
      ],
      "metadata": {
        "id": "jx3qUA_umjGR"
      }
    },
    {
      "cell_type": "code",
      "source": [
        "# np.random.randn()\n",
        "arr= np.random.randn(1000)\n",
        "plt.hist(arr, bins=100)\n",
        "plt.show()"
      ],
      "metadata": {
        "colab": {
          "base_uri": "https://localhost:8080/",
          "height": 430
        },
        "id": "O-yq404smioD",
        "outputId": "f5d4854d-4f60-4eff-9080-ff13c1d863e7"
      },
      "execution_count": 57,
      "outputs": [
        {
          "output_type": "display_data",
          "data": {
            "text/plain": [
              "<Figure size 640x480 with 1 Axes>"
            ],
            "image/png": "[encoded data removed]"
          },
          "metadata": {}
        }
      ]
    },
    {
      "cell_type": "markdown",
      "source": [
        "✅ np.random.randint()\n",
        "- 정수 값들을 무작위로 생성하는 함수\n",
        "```\n",
        "numpy.random.randint(low, high=None, size=None, dtype=int)\n",
        "```\n",
        "매개변수:\n",
        "- low: 생성할 난수의 최소값 (이 값은 포함됩니다).\n",
        "- high: 생성할 난수의 최대값 (이 값은 포함되지 않습니다). high 값을 지정하지 않으면, low 값만 지정하고 난수는 [0, low) 범위에서 생성됩니다.\n",
        "- size: 생성할 난수 배열의 크기를 지정합니다. 기본값은 None이며, 이 경우 단일 값이 반환됩니다.\n",
        "- dtype: 생성할 난수 배열의 데이터 타입을 지정합니다. 기본값은 int입니다."
      ],
      "metadata": {
        "id": "aCMscW5tqn_D"
      }
    },
    {
      "cell_type": "code",
      "source": [
        "# np.random.randint()\n",
        "arr = np.random.randint(low=1,high=5,size=(3,4))\n",
        "print(arr)"
      ],
      "metadata": {
        "colab": {
          "base_uri": "https://localhost:8080/"
        },
        "id": "Rym0O7mkrIuN",
        "outputId": "d0dbc14d-a1e6-4083-b0bc-8f40b1363e8a"
      },
      "execution_count": 66,
      "outputs": [
        {
          "output_type": "stream",
          "name": "stdout",
          "text": [
            "[[3 4 3 1]\n",
            " [1 4 3 2]\n",
            " [4 3 3 1]]\n"
          ]
        }
      ]
    },
    {
      "cell_type": "code",
      "source": [
        "arr = np.random.randint(100,200,1000)\n",
        "plt.hist(arr,bins=100)\n",
        "plt.show()"
      ],
      "metadata": {
        "colab": {
          "base_uri": "https://localhost:8080/",
          "height": 430
        },
        "id": "r1U1tglSsvqs",
        "outputId": "d88f8834-1ba3-4ab6-fa45-96050031703b"
      },
      "execution_count": 68,
      "outputs": [
        {
          "output_type": "display_data",
          "data": {
            "text/plain": [
              "<Figure size 640x480 with 1 Axes>"
            ],
            "image/png": "[encoded data removed]"
          },
          "metadata": {}
        }
      ]
    },
    {
      "cell_type": "markdown",
      "source": [
        "---\n",
        "## Section 1-6. 시드(Seed) 값을 통한 난수 생성 제어\n",
        "\n",
        "-"
      ],
      "metadata": {
        "id": "S9DmWr3PtQ4h"
      }
    },
    {
      "cell_type": "code",
      "source": [
        "# 시드 초기값 설정 안할때\n",
        "arr1 = np.random.randint(0,10,10)\n",
        "print(arr1)\n",
        "\n",
        "arr2 = np.random.randint(0,10,10)\n",
        "print(arr2)"
      ],
      "metadata": {
        "colab": {
          "base_uri": "https://localhost:8080/"
        },
        "id": "VQbwcV3itWZ6",
        "outputId": "b5690827-e4f6-46e3-ddaa-240dafd1b523"
      },
      "execution_count": 70,
      "outputs": [
        {
          "output_type": "stream",
          "name": "stdout",
          "text": [
            "[9 5 6 3 6 4 3 5 9 7]\n",
            "[6 6 4 6 8 0 0 9 3 0]\n"
          ]
        }
      ]
    },
    {
      "cell_type": "code",
      "source": [
        "# 시드 초기값 설정했을때\n",
        "np.random.seed(999)\n",
        "arr1 = np.random.randint(0,10,10)\n",
        "print(arr1)\n",
        "\n",
        "np.random.seed(999)\n",
        "arr2 = np.random.randint(0,10,10)\n",
        "print(arr2)"
      ],
      "metadata": {
        "colab": {
          "base_uri": "https://localhost:8080/"
        },
        "id": "Qys2xts2vjlc",
        "outputId": "87bf6f4a-55d6-4184-b673-a9623f431ba3"
      },
      "execution_count": 71,
      "outputs": [
        {
          "output_type": "stream",
          "name": "stdout",
          "text": [
            "[0 5 1 8 1 9 3 0 5 8]\n",
            "[0 5 1 8 1 9 3 0 5 8]\n"
          ]
        }
      ]
    },
    {
      "cell_type": "markdown",
      "source": [
        "---\n",
        "#Section2. N차원 배열 인덱싱\n",
        "### 배열의 index를 이용해 값에 접근하는 방법과 특정 범위의 값들을 탐색하는 방법을 배운다.\n",
        "---"
      ],
      "metadata": {
        "id": "UuTzD60Qh5BN"
      }
    },
    {
      "cell_type": "markdown",
      "source": [
        "---\n",
        "#Section3. N차원 배열의 연산법\n",
        "### 행렬의 사칙연산, 내적연산, 비교연산 등 기본적인 연산법과 브로드캐스팅 연산 과정을 배운다.\n",
        "---"
      ],
      "metadata": {
        "id": "PZS0XC2HiG_m"
      }
    },
    {
      "cell_type": "markdown",
      "source": [
        "---\n",
        "#Section4. N차원 배열 정렬\n",
        "### 배열의 원소들을 대소관계에 따라 정렬하는 방법을 다룬다.\n",
        "---"
      ],
      "metadata": {
        "id": "xQeUsXXGiZYw"
      }
    },
    {
      "cell_type": "markdown",
      "source": [
        "---\n",
        "#Section5. N차원 배열의 형태 변경\n",
        "### 배열의 shape를 변형하고 차원을 확장, 축소하는 방법을 다룬다.\n",
        "---"
      ],
      "metadata": {
        "id": "Rwjz7XDLiiUn"
      }
    },
    {
      "cell_type": "markdown",
      "source": [
        "---\n",
        "#Section6. N차원 배열의 병합\n",
        "### 배열의 원소를 추가하고 삭제하는 방법과 데이터를 병합하고 분할하는 방법을 다룬다.\n",
        "---"
      ],
      "metadata": {
        "id": "znBeiAgHipxX"
      }
    },
    {
      "cell_type": "markdown",
      "source": [
        "---\n",
        "#Section7. 실습예제\n",
        "\n",
        "---"
      ],
      "metadata": {
        "id": "9b4DBsuiizXn"
      }
    },
    {
      "cell_type": "markdown",
      "source": [],
      "metadata": {
        "id": "lyvkIw67iTDE"
      }
    }
  ]
}
