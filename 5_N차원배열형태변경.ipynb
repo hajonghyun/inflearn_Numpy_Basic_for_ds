{
  "nbformat": 4,
  "nbformat_minor": 0,
  "metadata": {
    "colab": {
      "provenance": [],
      "authorship_tag": "ABX9TyOpPz2djPFQ7HNhjy69e7F3",
      "include_colab_link": true
    },
    "kernelspec": {
      "name": "python3",
      "display_name": "Python 3"
    },
    "language_info": {
      "name": "python"
    }
  },
  "cells": [
    {
      "cell_type": "markdown",
      "metadata": {
        "id": "view-in-github",
        "colab_type": "text"
      },
      "source": [
        "<a href=\"https://colab.research.google.com/github/hajonghyun/inflearn_Numpy_Basic_for_ds/blob/main/5_N%EC%B0%A8%EC%9B%90%EB%B0%B0%EC%97%B4%ED%98%95%ED%83%9C%EB%B3%80%EA%B2%BD.ipynb\" target=\"_parent\"><img src=\"https://colab.research.google.com/assets/colab-badge.svg\" alt=\"Open In Colab\"/></a>"
      ]
    },
    {
      "cell_type": "markdown",
      "source": [
        "---\n",
        "#Section5. N차원 배열의 형태 변경\n",
        "### 배열의 shape를 변형하고 차원을 확장, 축소하는 방법을 다룬다.\n",
        "---"
      ],
      "metadata": {
        "id": "C5QXbJntDVGU"
      }
    },
    {
      "cell_type": "markdown",
      "source": [
        "## 5-1. 배열의 형태 변경1: reshape()"
      ],
      "metadata": {
        "id": "spowdKdADZ3j"
      }
    },
    {
      "cell_type": "code",
      "source": [
        "import numpy as np"
      ],
      "metadata": {
        "id": "S0_yBQsSD9M5"
      },
      "execution_count": null,
      "outputs": []
    },
    {
      "cell_type": "code",
      "execution_count": null,
      "metadata": {
        "colab": {
          "base_uri": "https://localhost:8080/"
        },
        "id": "bWTB2ra5DTCI",
        "outputId": "26c61eec-29ef-49ee-9034-95cc39dc3a36"
      },
      "outputs": [
        {
          "output_type": "stream",
          "name": "stdout",
          "text": [
            "[ 0  1  2  3  4  5  6  7  8  9 10 11]\n"
          ]
        }
      ],
      "source": [
        "arr = np.arange(12)\n",
        "print(arr)"
      ]
    },
    {
      "cell_type": "code",
      "source": [
        "arr = arr.reshape([3,4])\n",
        "print(arr)"
      ],
      "metadata": {
        "colab": {
          "base_uri": "https://localhost:8080/"
        },
        "id": "jVaJBbzjDgsO",
        "outputId": "91bf9153-29ed-4a1f-f814-8ea15f13325d"
      },
      "execution_count": null,
      "outputs": [
        {
          "output_type": "stream",
          "name": "stdout",
          "text": [
            "[[ 0  1  2  3]\n",
            " [ 4  5  6  7]\n",
            " [ 8  9 10 11]]\n"
          ]
        }
      ]
    },
    {
      "cell_type": "markdown",
      "source": [
        "### ✅ 배열 크기 형식 정리 (2, 3) vs [2, 3]\n",
        "- 대부분의 NumPy 함수에서 배열 크기(shape)를 지정할 때는 **(2, 3) 튜플**을 사용\n",
        "- 일부 함수에서 크기 정보로 리스트 [2, 3]을 허용하기도 함\n",
        "- 일반적으로 배열의 shape(형태)을 지정하는 경우 튜플 (2, 3)이 기본적인 선택! 🚀"
      ],
      "metadata": {
        "id": "l0YRWNOrFLds"
      }
    },
    {
      "cell_type": "code",
      "source": [
        "arr = arr.reshape((2,6))\n",
        "print(arr)"
      ],
      "metadata": {
        "colab": {
          "base_uri": "https://localhost:8080/"
        },
        "id": "RsIGv1efEk0P",
        "outputId": "a9e49af8-cfae-4f9d-dfb5-0b6296b6f8ff"
      },
      "execution_count": null,
      "outputs": [
        {
          "output_type": "stream",
          "name": "stdout",
          "text": [
            "[[ 0  1  2  3  4  5]\n",
            " [ 6  7  8  9 10 11]]\n"
          ]
        }
      ]
    },
    {
      "cell_type": "code",
      "source": [
        "arr = arr.reshape((3,-1))  # -1은 자동으로 계산되어 들어간다.\n",
        "print(arr)"
      ],
      "metadata": {
        "colab": {
          "base_uri": "https://localhost:8080/"
        },
        "id": "JCx92owFGtg8",
        "outputId": "e79405a8-6be9-4983-8e04-a03adb634a77"
      },
      "execution_count": null,
      "outputs": [
        {
          "output_type": "stream",
          "name": "stdout",
          "text": [
            "[[ 0  1  2  3]\n",
            " [ 4  5  6  7]\n",
            " [ 8  9 10 11]]\n"
          ]
        }
      ]
    },
    {
      "cell_type": "code",
      "source": [
        "arr = arr.reshape((2,3,2))\n",
        "print(arr)"
      ],
      "metadata": {
        "colab": {
          "base_uri": "https://localhost:8080/"
        },
        "id": "kaU2IF0aDgvH",
        "outputId": "36248f93-d07a-4a2a-c089-c22696517e44"
      },
      "execution_count": null,
      "outputs": [
        {
          "output_type": "stream",
          "name": "stdout",
          "text": [
            "[[[ 0  1]\n",
            "  [ 2  3]\n",
            "  [ 4  5]]\n",
            "\n",
            " [[ 6  7]\n",
            "  [ 8  9]\n",
            "  [10 11]]]\n"
          ]
        }
      ]
    },
    {
      "cell_type": "markdown",
      "source": [
        "## Curse of dimensionality(차원의 저주) 란?\n",
        "\n",
        "- 차원이 커질수록 데이터가 희소해지고, 거리 계산이 어려워져 학습이 힘들어지는 현상!\n",
        "- 이를 해결하려면 차원 축소 기법(PCA, Feature Selection 등)을 활용해야 한다.\n",
        "\n",
        "### 🎯 차원의 저주\n",
        "\n",
        "📌 1. 공간이 너무 커진다!\n",
        "- 1차원에서는 점, 2차원에서는 평면, 3차원에서는 큐브(입체)로 표현.\n",
        "- 그런데 차원이 100개라면? 데이터가 퍼질 공간이 너무 커져서 희소한 데이터 문제가 생김.\n",
        "- 즉, 데이터 포인트들이 너무 멀리 떨어져 있어 학습이 어려워짐.\n",
        "        \n",
        "📌 2. 거리가 무의미해진다!\n",
        "\n",
        "- 유클리드 거리(두 점 사이의 거리)는 고차원에서는 차이를 구분하기 어려움\n",
        "- 예를 들어 2D에서는 가까운 점과 먼 점의 차이가 크지만, 100D에서는 모든 점이 비슷한 거리를 갖게 됨.\n",
        "- 머신러닝에서 거리가 중요한 알고리즘(KNN, 클러스터링 등)에 큰 영향을 준다.\n",
        "\n",
        "📌 3. 데이터가 부족해진다!\n",
        "\n",
        "- 차원이 늘어나면 같은 밀도의 데이터를 유지하려면 기하급수적으로 더 많은 데이터가 필요.\n",
        "- 하지만 현실적으로 데이터를 많이 확보하는 건 어려우므로, 학습이 잘 안 되는 문제가 발생.\n",
        "\n",
        "\n"
      ],
      "metadata": {
        "id": "Xd0VGF3cFjt2"
      }
    },
    {
      "cell_type": "markdown",
      "source": [
        "---\n",
        "## 5-2. 배열의 형태 변경2: resize(), ravel()"
      ],
      "metadata": {
        "id": "qgS9Vg9IHv33"
      }
    },
    {
      "cell_type": "code",
      "source": [
        "import numpy as np\n",
        "\n",
        "arr = np.arange(12)\n",
        "print(arr)"
      ],
      "metadata": {
        "colab": {
          "base_uri": "https://localhost:8080/"
        },
        "id": "JmR0rm9kDgxx",
        "outputId": "cb61d131-d44a-4e8a-dbea-60cde244cf20"
      },
      "execution_count": null,
      "outputs": [
        {
          "output_type": "stream",
          "name": "stdout",
          "text": [
            "[ 0  1  2  3  4  5  6  7  8  9 10 11]\n"
          ]
        }
      ]
    },
    {
      "cell_type": "markdown",
      "source": [
        "## `np.reshape()` vs `np.resize()` 차이점\n",
        "\n",
        "### 1. `np.reshape()`\n",
        "- **원본 배열의 크기를 유지하면서** shape을 변경  \n",
        "- **원본과 연결된 뷰(view)를 반환** (원본이 변경되면 reshaped 배열도 변경됨)  \n",
        "- **새로운 shape에 맞지 않으면 오류 발생**  \n",
        "\n",
        "❌ 주의: 배열 원소 개수가 맞지 않으면 오류 발생\n",
        "\n",
        "### 2. `np.resize()`\n",
        "\n",
        "- **원본 배열의 크기를 변경하면서** shape을 변경  \n",
        "- **새로운 크기가 기존보다 크면 반복적으로 값 채움**  \n",
        "- **새로운 배열을 반환 (원본과 독립적)**\n",
        "\n",
        "### 3. 정리\n",
        "\n",
        "| 함수 | 원본 변경 여부 | 원소 개수 맞아야 함 | 원본과 연결 여부 |\n",
        "|------|--------------|----------------|---------------|\n",
        "| `np.reshape()` | ❌ (새로운 배열 반환) | ✅ (맞아야 함) | ✅ (뷰 반환) |\n",
        "| `np.resize()` | ❌ (새로운 배열 반환) | ❌ (맞지 않아도 됨) | ❌ (독립적) |\n",
        "\n",
        "✅ **`np.reshape()`**: 원소 개수가 유지된 상태에서 shape을 변경할 때 사용  \n",
        "✅ **`np.resize()`**: 크기를 조정하고 부족한 부분을 반복해서 채울 때 사용  "
      ],
      "metadata": {
        "id": "9Kx-4EPjI28k"
      }
    },
    {
      "cell_type": "code",
      "source": [
        "arr.resize(3,4)\n",
        "print(arr)"
      ],
      "metadata": {
        "colab": {
          "base_uri": "https://localhost:8080/"
        },
        "id": "C-rvqz-mICa8",
        "outputId": "e407b726-5823-45cf-ce9c-c05d91d52e87"
      },
      "execution_count": null,
      "outputs": [
        {
          "output_type": "stream",
          "name": "stdout",
          "text": [
            "[[ 0  1  2  3]\n",
            " [ 4  5  6  7]\n",
            " [ 8  9 10 11]]\n"
          ]
        }
      ]
    },
    {
      "cell_type": "markdown",
      "source": [
        "### numpy.ravel\n",
        "- NumPy 라이브러리에서 배열을 1차원으로 펼치는 기능\n",
        "- 원본 배열을 직접 바꾸지 않고 새로운 1D 배열을 반환함 (대부분의 경우 ravel()은 뷰를 반환하지만, 원본 배열이 연속적이지 않다면 복사본을 반환)"
      ],
      "metadata": {
        "id": "Nk_oSCrhD43J"
      }
    },
    {
      "cell_type": "code",
      "source": [
        "print(arr.ravel())"
      ],
      "metadata": {
        "id": "isUebO3EICdV",
        "colab": {
          "base_uri": "https://localhost:8080/"
        },
        "outputId": "ce8229d2-dbb6-4ba6-913a-7f4a09e962c5"
      },
      "execution_count": null,
      "outputs": [
        {
          "output_type": "stream",
          "name": "stdout",
          "text": [
            "[ 0  1  2  3  4  5  6  7  8  9 10 11]\n"
          ]
        }
      ]
    },
    {
      "cell_type": "markdown",
      "source": [
        "---\n",
        "## 5-3. 배열의 형태 변경3: expand_dims(), squeeze()"
      ],
      "metadata": {
        "id": "UKuWvcyrI_7F"
      }
    },
    {
      "cell_type": "markdown",
      "source": [
        "---\n",
        "---\n",
        "# 중요!!!\n",
        "\n",
        "axis에대한 이해\n",
        "\n",
        "## 축 개념 이해하기\n",
        "\n",
        "\n",
        "\n",
        "**axis는 단지 가장 바깥 리스트에서 안쪽리스트 순으로 0부터 이름을 붙인 것입니다.**\n",
        "\n",
        "\n",
        "\n",
        "예를들어\n",
        "\n",
        "\n",
        "\n",
        "[[1,2,3],[4,5,6]]\n",
        "\n",
        "\n",
        "\n",
        "라는 배열이 있다고 합시다.\n",
        "\n",
        "\n",
        "\n",
        "axis0 은 [1,2,3]->[4,5,6] 로 진행되는 요소입니다.\n",
        "\n",
        "axis1 은 1->2->3 또는 4->5->6으로 진행되는 요소입니다.\n",
        "\n",
        "\n",
        "\n",
        "axis0을 행방향(위->아래), axis1을 열방항(좌->우)로 해석할 수도 있지만 굳이 그러지 않아도 상관 없습니다.\n",
        "\n",
        "\n",
        "\n",
        "차원을 하나 높여봅시다.\n",
        "\n",
        "\n",
        "\n",
        "[ [[1,2],[3,4]] , [[5,6],[7,8]] ]\n",
        "\n",
        "\n",
        "axis0은 [[1,2],[3,4]] -> [[5,6],[7,8]]로 진행되는 요소입니다.\n",
        "\n",
        "axis1은 [1,2] -> [3,4] 또는 [5,6] -> [7,8]로 진행되는 요소입니다.\n",
        "\n",
        "axis2는 1->2 또는 3->4 또는 5->6 또는 7->8로 진행되는 요소입니다.\n",
        "---\n",
        "\n",
        "# 연산에서의 axis\n",
        "\n",
        "\n",
        "이런 방식으로 이해한다면 차원이 4차원 이상 높아져도 축 개념을 잡을 수 있습니다. 일종의 축의 '추상화'인것이죠. 행렬개념으로 이해할 경우 4차원 이상에서 축개념을 잡을 수가 없습니다.\n",
        "\n",
        "예를 들어 axis=0을 기준으로 연산을 한다면, axis=0에 해당하는 요소들끼리 연산을 하면 됩니다. sum을 예로 들면, [[1,2],[3,4]] + [[5,6],[7,8]] = [[6,8],[10,12]]\n",
        "\n",
        "## 따라서 연산은 axis별 요소들끼리 연산을 하면 된다.\n",
        "---\n",
        "\n",
        "# expand dimension에서의 axis\n",
        "\n",
        "np.expand(arr, axis=2) 이면,\n",
        "\n",
        "예를들어 기존 arr의 shape이 (2,3,2,5)라고 해보자.\n",
        "\n",
        "shape의 앞에서부터 axis는 0,1,2,3 이다.\n",
        "\n",
        "## **axis=2이면, axis=2 자리에 차원을 확장시키는 것**임.\n",
        "\n",
        "확장 후 arr의 shape는 (2,3,1,2,5) 이다.\n",
        "\n",
        "---\n",
        "\n",
        "참고 => https://pybasall.tistory.com/129\n",
        "\n",
        "---\n",
        "---"
      ],
      "metadata": {
        "id": "eCE0SeBRfqBF"
      }
    },
    {
      "cell_type": "code",
      "source": [
        "import numpy as np\n",
        "arr = np.array([3,4])\n",
        "print(arr)\n",
        "print(arr.shape)"
      ],
      "metadata": {
        "colab": {
          "base_uri": "https://localhost:8080/"
        },
        "id": "wxROJlEFF1Wt",
        "outputId": "5acacfae-8757-4bdc-90ba-2bbbfdf158ad"
      },
      "execution_count": null,
      "outputs": [
        {
          "output_type": "stream",
          "name": "stdout",
          "text": [
            "[3 4]\n",
            "(2,)\n"
          ]
        }
      ]
    },
    {
      "cell_type": "code",
      "source": [
        "brr= np.expand_dims(arr,axis=0)\n",
        "print(brr)\n",
        "brr.shape"
      ],
      "metadata": {
        "id": "E9MgEaSTICgZ",
        "colab": {
          "base_uri": "https://localhost:8080/"
        },
        "outputId": "70c14a85-5c03-4139-c053-c3fb8ccf3690"
      },
      "execution_count": null,
      "outputs": [
        {
          "output_type": "stream",
          "name": "stdout",
          "text": [
            "[[3 4]]\n"
          ]
        },
        {
          "output_type": "execute_result",
          "data": {
            "text/plain": [
              "(1, 2)"
            ]
          },
          "metadata": {},
          "execution_count": 34
        }
      ]
    },
    {
      "cell_type": "code",
      "source": [
        "crr= np.expand_dims(arr,axis=1)\n",
        "print(crr)\n",
        "crr.shape"
      ],
      "metadata": {
        "id": "JtP8FCkJDg0N",
        "colab": {
          "base_uri": "https://localhost:8080/"
        },
        "outputId": "09b262c5-f319-44d3-cc74-32c338f3dcfe"
      },
      "execution_count": null,
      "outputs": [
        {
          "output_type": "stream",
          "name": "stdout",
          "text": [
            "[[3]\n",
            " [4]]\n"
          ]
        },
        {
          "output_type": "execute_result",
          "data": {
            "text/plain": [
              "(2, 1)"
            ]
          },
          "metadata": {},
          "execution_count": 35
        }
      ]
    },
    {
      "cell_type": "code",
      "source": [
        "n_arr = np.array([[3,4],\n",
        "                  [5,6]])\n",
        "print(np.expand_dims(n_arr,axis=1))"
      ],
      "metadata": {
        "colab": {
          "base_uri": "https://localhost:8080/"
        },
        "id": "l0HfbDg5THh6",
        "outputId": "0b261bb3-f670-465c-a4b0-015df5619647"
      },
      "execution_count": null,
      "outputs": [
        {
          "output_type": "stream",
          "name": "stdout",
          "text": [
            "[[[3 4]]\n",
            "\n",
            " [[5 6]]]\n"
          ]
        }
      ]
    },
    {
      "cell_type": "code",
      "source": [
        "print(np.expand_dims(n_arr,axis=-1))"
      ],
      "metadata": {
        "colab": {
          "base_uri": "https://localhost:8080/"
        },
        "id": "AXdMHPROXdXm",
        "outputId": "7b4ba903-8349-4b6e-9b22-b220539d7f75"
      },
      "execution_count": null,
      "outputs": [
        {
          "output_type": "stream",
          "name": "stdout",
          "text": [
            "[[[3]\n",
            "  [4]]\n",
            "\n",
            " [[5]\n",
            "  [6]]]\n"
          ]
        }
      ]
    },
    {
      "cell_type": "code",
      "source": [
        "print(n_arr.sum(axis=0))"
      ],
      "metadata": {
        "colab": {
          "base_uri": "https://localhost:8080/"
        },
        "id": "hyFi7OXNZ_YZ",
        "outputId": "4b4db994-a367-4af4-b9a9-76e659fff889"
      },
      "execution_count": null,
      "outputs": [
        {
          "output_type": "stream",
          "name": "stdout",
          "text": [
            "[ 8 10]\n"
          ]
        }
      ]
    },
    {
      "cell_type": "markdown",
      "source": [
        "# NumPy `squeeze()` 함수\n",
        "\n",
        "`numpy.squeeze()` 함수는 배열(array)에서 크기가 1인 차원(dimension)을 제거하는 함수입니다.  \n",
        "즉, 불필요한 단일 차원을 없애서 배열의 형태를 더 간결하게 만들어 줍니다.\n",
        "\n",
        "## 📌 사용법\n",
        "```python\n",
        "numpy.squeeze(a, axis=None)\n",
        "```\n",
        "\n",
        "##🔹 매개변수\n",
        "- a : 입력 배열\n",
        "- axis (선택 사항) : 제거할 차원을 지정할 수 있음.\n",
        "지정된 차원의 크기가 1이 아닐 경우 오류 발생.\n",
        "- 반환값 : 크기가 1인 차원이 제거된 새로운 배열 (원본 배열은 변경되지 않음).\n"
      ],
      "metadata": {
        "id": "M3VjBXgYf0CN"
      }
    },
    {
      "cell_type": "code",
      "source": [
        "import numpy as np\n",
        "#예제 1\n",
        "arr = np.array([[1,2]])\n",
        "print(arr, arr.shape, arr.ndim)\n",
        "\n",
        "arr = np.squeeze(arr,axis=0)\n",
        "print(arr, arr.shape, arr.ndim)"
      ],
      "metadata": {
        "id": "tZqVIU-5IhZW",
        "colab": {
          "base_uri": "https://localhost:8080/"
        },
        "outputId": "b75c5526-fb73-49dd-cf6a-41a1435d61f8"
      },
      "execution_count": 3,
      "outputs": [
        {
          "output_type": "stream",
          "name": "stdout",
          "text": [
            "[[1 2]] (1, 2) 2\n",
            "[1 2] (2,) 1\n"
          ]
        }
      ]
    },
    {
      "cell_type": "code",
      "source": [
        "#예제 2\n",
        "arr = np.array([[[1],\n",
        "                 [2],\n",
        "                 [3]]])\n",
        "print(arr,arr.shape,arr.ndim)\n",
        "arr = np.squeeze(arr, axis=2)\n",
        "print(arr,arr.shape,arr.ndim)"
      ],
      "metadata": {
        "colab": {
          "base_uri": "https://localhost:8080/"
        },
        "id": "iS0uK_B0hI_5",
        "outputId": "78a4bbc2-716c-4e7b-943d-4c7078ac8e07"
      },
      "execution_count": 6,
      "outputs": [
        {
          "output_type": "stream",
          "name": "stdout",
          "text": [
            "[[[1]\n",
            "  [2]\n",
            "  [3]]] (1, 3, 1) 3\n",
            "[[1 2 3]] (1, 3) 2\n"
          ]
        }
      ]
    },
    {
      "cell_type": "code",
      "source": [
        "#예제 3\n",
        "arr = np.array([[[1],\n",
        "                 [2],\n",
        "                 [3]]])\n",
        "print(arr,arr.shape,arr.ndim)\n",
        "arr = np.squeeze(arr)\n",
        "print(arr,arr.shape,arr.ndim)"
      ],
      "metadata": {
        "colab": {
          "base_uri": "https://localhost:8080/"
        },
        "id": "W4dh0VW8lJKY",
        "outputId": "062c1060-d03e-4cdf-8fe2-90290c7a592b"
      },
      "execution_count": 7,
      "outputs": [
        {
          "output_type": "stream",
          "name": "stdout",
          "text": [
            "[[[1]\n",
            "  [2]\n",
            "  [3]]] (1, 3, 1) 3\n",
            "[1 2 3] (3,) 1\n"
          ]
        }
      ]
    },
    {
      "cell_type": "markdown",
      "source": [
        "---\n",
        "## 5-4. 전치행렬 (Transpose)"
      ],
      "metadata": {
        "id": "VSTWjNkAl9Qw"
      }
    },
    {
      "cell_type": "code",
      "source": [
        "import numpy as np\n",
        "# 정방행렬\n",
        "arr = np.array([[2,3],\n",
        "                [4,5]])"
      ],
      "metadata": {
        "id": "6IrK2jtphJCU"
      },
      "execution_count": 10,
      "outputs": []
    },
    {
      "cell_type": "code",
      "source": [
        "# 방법 1\n",
        "print(arr.T)\n",
        "# 방법 2\n",
        "print(np.transpose(arr))"
      ],
      "metadata": {
        "colab": {
          "base_uri": "https://localhost:8080/"
        },
        "id": "DTRYcqeshJEm",
        "outputId": "4c9a1212-ea3f-42b0-fade-3a6d98551c8f"
      },
      "execution_count": 11,
      "outputs": [
        {
          "output_type": "stream",
          "name": "stdout",
          "text": [
            "[[2 4]\n",
            " [3 5]]\n",
            "[[2 4]\n",
            " [3 5]]\n"
          ]
        }
      ]
    },
    {
      "cell_type": "code",
      "source": [
        "# 비정방행렬\n",
        "arr = np.array([[1,2],\n",
        "                [3,4],\n",
        "                [5,6]])\n",
        "print(arr.T)"
      ],
      "metadata": {
        "id": "NMy0YzNOZ_ar",
        "colab": {
          "base_uri": "https://localhost:8080/"
        },
        "outputId": "41aee700-80f8-4402-a142-acdb14a2cda3"
      },
      "execution_count": 12,
      "outputs": [
        {
          "output_type": "stream",
          "name": "stdout",
          "text": [
            "[[1 3 5]\n",
            " [2 4 6]]\n"
          ]
        }
      ]
    },
    {
      "cell_type": "code",
      "source": [
        "# 내적으로 알아보는 전치행렬\n",
        "arr1 = np.array([[1,2],\n",
        "                 [3,4],\n",
        "                 [5,6]])\n",
        "arr2 = np.full((3,2),2)\n",
        "# 내적\n",
        "print(arr1.T.dot(arr2))\n",
        "print(arr1.dot(arr2.T))"
      ],
      "metadata": {
        "id": "IsUdg7A5Z_cs",
        "colab": {
          "base_uri": "https://localhost:8080/"
        },
        "outputId": "1fd44ab8-e8d7-4a61-f026-44176f9dd14e"
      },
      "execution_count": 18,
      "outputs": [
        {
          "output_type": "stream",
          "name": "stdout",
          "text": [
            "[[18 18]\n",
            " [24 24]]\n",
            "[[ 6  6  6]\n",
            " [14 14 14]\n",
            " [22 22 22]]\n"
          ]
        }
      ]
    },
    {
      "cell_type": "code",
      "source": [],
      "metadata": {
        "id": "yYZRIad7Z_fR"
      },
      "execution_count": null,
      "outputs": []
    }
  ]
}