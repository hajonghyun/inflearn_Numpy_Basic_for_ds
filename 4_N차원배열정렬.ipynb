{
  "nbformat": 4,
  "nbformat_minor": 0,
  "metadata": {
    "colab": {
      "provenance": [],
      "authorship_tag": "ABX9TyMVIUcxFKDJTYOcoZ5hoQ0g",
      "include_colab_link": true
    },
    "kernelspec": {
      "name": "python3",
      "display_name": "Python 3"
    },
    "language_info": {
      "name": "python"
    }
  },
  "cells": [
    {
      "cell_type": "markdown",
      "metadata": {
        "id": "view-in-github",
        "colab_type": "text"
      },
      "source": [
        "<a href=\"https://colab.research.google.com/github/jacobhjh0999/inflearn_Numpy_Basic_for_ds/blob/main/4_N%EC%B0%A8%EC%9B%90%EB%B0%B0%EC%97%B4%EC%A0%95%EB%A0%AC.ipynb\" target=\"_parent\"><img src=\"https://colab.research.google.com/assets/colab-badge.svg\" alt=\"Open In Colab\"/></a>"
      ]
    },
    {
      "cell_type": "markdown",
      "source": [
        "---\n",
        "#Section4. N차원 배열 정렬\n",
        "### 배열의 원소들을 대소관계에 따라 정렬하는 방법을 다룬다.\n",
        "---"
      ],
      "metadata": {
        "id": "xQeUsXXGiZYw"
      }
    },
    {
      "cell_type": "markdown",
      "source": [
        "### 4-1. 1차원 배열의 정렬"
      ],
      "metadata": {
        "id": "1YoeH1AMpKME"
      }
    },
    {
      "cell_type": "code",
      "source": [
        "import numpy as np"
      ],
      "metadata": {
        "id": "r9Du9IwSpUJc"
      },
      "execution_count": null,
      "outputs": []
    },
    {
      "cell_type": "markdown",
      "source": [
        "## `np.sort(arr)` vs `arr.sort()` 차이점\n",
        "\n",
        "### 1. `np.sort(arr)`\n",
        "- 원본 배열을 변경하지 않고 **정렬된 새로운 배열을 반환**한다.\n",
        "\n",
        "### 2. `arr.sort()`\n",
        "- 원본 배열을 직접 정렬하여 **반환값이 None**이다."
      ],
      "metadata": {
        "id": "HJSjKgwsCZIA"
      }
    },
    {
      "cell_type": "markdown",
      "source": [
        "### 3. 정리\n",
        "\n",
        "- `np.sort(arr)`: **원본 배열을 변경하지 않고** 정렬된 새로운 배열을 반환  \n",
        "- `arr.sort()`: **원본 배열을 직접 정렬하며** 반환값이 `None`  \n",
        "\n",
        "| 함수 | 원본 변경 여부 | 반환 값 |\n",
        "|------|--------------|---------|\n",
        "| `np.sort(arr)` | ❌ (변경 없음) | 정렬된 새로운 배열 |\n",
        "| `arr.sort()` | ✅ (변경됨) | `None` |\n",
        "\n",
        "**✅ 선택 가이드**  \n",
        "- **원본 배열을 유지하면서 정렬된 결과가 필요하면** → `np.sort(arr)`  \n",
        "- **원본 배열 자체를 정렬하고 싶다면** → `arr.sort()`  "
      ],
      "metadata": {
        "id": "qq1RF0BPCwwX"
      }
    },
    {
      "cell_type": "code",
      "source": [
        "arr = np.random.randint(0,100,10)\n",
        "print(arr)\n",
        "\n",
        "# 정렬된 배열을 return (원본 배열은 변하지 않음)\n",
        "print(np.sort(arr))\n",
        "\n",
        "# 배열 자체를 정렬함\n",
        "arr.sort()\n",
        "print(arr)"
      ],
      "metadata": {
        "colab": {
          "base_uri": "https://localhost:8080/"
        },
        "id": "q5SUnlaApHFa",
        "outputId": "b41d1bc0-bd34-4ebc-828c-03d09003cde5"
      },
      "execution_count": null,
      "outputs": [
        {
          "output_type": "stream",
          "name": "stdout",
          "text": [
            "[59 66 71 80 37 54 71 39 26 31]\n",
            "[26 31 37 39 54 59 66 71 71 80]\n",
            "[26 31 37 39 54 59 66 71 71 80]\n"
          ]
        }
      ]
    },
    {
      "cell_type": "markdown",
      "source": [
        "❓ NumPy에는 ascending=True가 없나?\n",
        "- Pandas와 달리, NumPy의 np.sort()와 .sort()에는 ascending 매개변수가 없다.\n",
        "👉 NumPy에서는 무조건 오름차순 정렬만 제공하므로, 내림차순을 원하면 [::-1]을 사용해야 함."
      ],
      "metadata": {
        "id": "djPX6-ucyQ3n"
      }
    },
    {
      "cell_type": "code",
      "source": [
        "# 내림차순 정렬 (원본 유지)\n",
        "arr = np.random.randint(0,100,10)\n",
        "print(np.sort(arr))\n",
        "print(np.sort(arr)[::-1])"
      ],
      "metadata": {
        "colab": {
          "base_uri": "https://localhost:8080/"
        },
        "id": "V6392DFzyR83",
        "outputId": "e396aa3e-6676-458a-9dd1-236ed8672cfd"
      },
      "execution_count": null,
      "outputs": [
        {
          "output_type": "stream",
          "name": "stdout",
          "text": [
            "[ 2  9 36 43 43 43 54 65 71 78]\n",
            "[78 71 65 54 43 43 43 36  9  2]\n"
          ]
        }
      ]
    },
    {
      "cell_type": "markdown",
      "source": [
        "### 4-2. 2차원 배열의 정렬"
      ],
      "metadata": {
        "id": "RfH9Ye_w0wJm"
      }
    },
    {
      "cell_type": "code",
      "source": [
        "arr = np.random.randint(0,15,size=(3,4))\n",
        "print(arr)"
      ],
      "metadata": {
        "colab": {
          "base_uri": "https://localhost:8080/"
        },
        "id": "mYDW_74KyR6o",
        "outputId": "4a054683-03c9-4bb0-8aeb-c9b3a3b3b07b"
      },
      "execution_count": null,
      "outputs": [
        {
          "output_type": "stream",
          "name": "stdout",
          "text": [
            "[[ 8 12  5  5]\n",
            " [ 4 12 12  9]\n",
            " [ 7  7 13 14]]\n"
          ]
        }
      ]
    },
    {
      "cell_type": "code",
      "execution_count": null,
      "metadata": {
        "colab": {
          "base_uri": "https://localhost:8080/"
        },
        "id": "hGHdEBz0pEsA",
        "outputId": "65f070c9-342e-4916-9220-e0edcf3c77a3"
      },
      "outputs": [
        {
          "output_type": "stream",
          "name": "stdout",
          "text": [
            "[[ 5  5  8 12]\n",
            " [ 4  9 12 12]\n",
            " [ 7  7 13 14]]\n"
          ]
        }
      ],
      "source": [
        "print(np.sort(arr)) # default axis=1"
      ]
    },
    {
      "cell_type": "code",
      "source": [
        "print(np.sort(arr,axis=0))"
      ],
      "metadata": {
        "colab": {
          "base_uri": "https://localhost:8080/"
        },
        "id": "cqYlEyyC3XNY",
        "outputId": "ddf03f2c-b48d-40db-d413-8d67f357f935"
      },
      "execution_count": null,
      "outputs": [
        {
          "output_type": "stream",
          "name": "stdout",
          "text": [
            "[[ 8 12 13 14]\n",
            " [ 7 12 12  9]\n",
            " [ 4  7  5  5]]\n"
          ]
        }
      ]
    },
    {
      "cell_type": "code",
      "source": [
        "print(np.sort(arr,axis=None)) # 2차원배열을 1차원배열로 변환하여 정렬"
      ],
      "metadata": {
        "colab": {
          "base_uri": "https://localhost:8080/"
        },
        "id": "75hF3zbX3XPb",
        "outputId": "8e299bda-2ad4-4f16-86e4-ed4522e6b24b"
      },
      "execution_count": null,
      "outputs": [
        {
          "output_type": "stream",
          "name": "stdout",
          "text": [
            "[ 4  5  5  7  7  8  9 12 12 12 13 14]\n"
          ]
        }
      ]
    },
    {
      "cell_type": "markdown",
      "source": [
        "🔹 argsort() => **\"argument sort\"**\n",
        "\n",
        "🔹 배열을 정렬하는 것이 아니라, 정렬된 순서의 인덱스(index)를 반환한다."
      ],
      "metadata": {
        "id": "P460204P4sRx"
      }
    },
    {
      "cell_type": "code",
      "source": [
        "# argsort()\n",
        "print(arr)\n",
        "print(np.argsort(arr,axis=1))"
      ],
      "metadata": {
        "colab": {
          "base_uri": "https://localhost:8080/"
        },
        "id": "dqk1hFk630aZ",
        "outputId": "8a7edf44-15a9-4396-da3b-100efba81925"
      },
      "execution_count": null,
      "outputs": [
        {
          "output_type": "stream",
          "name": "stdout",
          "text": [
            "[[ 8 12  5  5]\n",
            " [ 4 12 12  9]\n",
            " [ 7  7 13 14]]\n",
            "[[2 3 0 1]\n",
            " [0 3 1 2]\n",
            " [0 1 2 3]]\n"
          ]
        }
      ]
    }
  ]
}