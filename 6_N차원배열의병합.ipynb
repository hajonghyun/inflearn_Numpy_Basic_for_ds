{
  "nbformat": 4,
  "nbformat_minor": 0,
  "metadata": {
    "colab": {
      "provenance": [],
      "authorship_tag": "ABX9TyP4RpH+GAEQlhx3FtLNpGnv",
      "include_colab_link": true
    },
    "kernelspec": {
      "name": "python3",
      "display_name": "Python 3"
    },
    "language_info": {
      "name": "python"
    }
  },
  "cells": [
    {
      "cell_type": "markdown",
      "metadata": {
        "id": "view-in-github",
        "colab_type": "text"
      },
      "source": [
        "<a href=\"https://colab.research.google.com/github/hajonghyun/inflearn_Numpy_Basic_for_ds/blob/main/6_N%EC%B0%A8%EC%9B%90%EB%B0%B0%EC%97%B4%EC%9D%98%EB%B3%91%ED%95%A9.ipynb\" target=\"_parent\"><img src=\"https://colab.research.google.com/assets/colab-badge.svg\" alt=\"Open In Colab\"/></a>"
      ]
    },
    {
      "cell_type": "markdown",
      "source": [
        "---\n",
        "#Section6. N차원 배열의 병합\n",
        "### 배열의 원소를 추가하고 삭제하는 방법과 데이터를 병합하고 분할하는 방법을 다룬다.\n",
        "---"
      ],
      "metadata": {
        "id": "znBeiAgHipxX"
      }
    },
    {
      "cell_type": "markdown",
      "source": [
        "## 6-1. 배열에 원소 추가 및 삭제"
      ],
      "metadata": {
        "id": "spowdKdADZ3j"
      }
    },
    {
      "cell_type": "code",
      "execution_count": null,
      "metadata": {
        "colab": {
          "base_uri": "https://localhost:8080/"
        },
        "id": "Z4NQyhgdp8sH",
        "outputId": "6cbae832-2547-4a00-e21f-6b0a9470fc1a"
      },
      "outputs": [
        {
          "output_type": "stream",
          "name": "stdout",
          "text": [
            "[1, 2, 3, 4, 5, 6, 7, 8, 9]\n",
            "[1, 2, 50, 3, 4, 5, 6, 7, 8, 9]\n"
          ]
        }
      ],
      "source": [
        "# 파이썬 리스트에서\n",
        "lst = [1,2,3,4,5,6,7,8,9]\n",
        "print(lst)\n",
        "lst.insert(2,50)\n",
        "print(lst)"
      ]
    },
    {
      "cell_type": "markdown",
      "source": [
        "## insert"
      ],
      "metadata": {
        "id": "NHOZ8nu9uBWo"
      }
    },
    {
      "cell_type": "code",
      "source": [
        "# ndarray에서\n",
        "import numpy as np\n",
        "arr = np.arange(1,10)\n",
        "print(arr)\n",
        "arr = np.insert(arr,2,50)  # 주의점: arr.insert()는 없다 / arr= 에 재할당 해줘야한다.\n",
        "print(arr)"
      ],
      "metadata": {
        "colab": {
          "base_uri": "https://localhost:8080/"
        },
        "id": "ATsdkicUq8nx",
        "outputId": "049dc7af-8185-4536-d1ad-078eaf735adf"
      },
      "execution_count": null,
      "outputs": [
        {
          "output_type": "stream",
          "name": "stdout",
          "text": [
            "[1 2 3 4 5 6 7 8 9]\n",
            "[ 1  2 50  3  4  5  6  7  8  9]\n"
          ]
        }
      ]
    },
    {
      "cell_type": "code",
      "source": [
        "# 2차원 배열\n",
        "arr = np.arange(1,13).reshape(3,4)\n",
        "print(arr)"
      ],
      "metadata": {
        "colab": {
          "base_uri": "https://localhost:8080/"
        },
        "id": "-FdBpvn9q8p1",
        "outputId": "bf4595d8-f935-42e5-9adf-c81b57a7d967"
      },
      "execution_count": null,
      "outputs": [
        {
          "output_type": "stream",
          "name": "stdout",
          "text": [
            "[[ 1  2  3  4]\n",
            " [ 5  6  7  8]\n",
            " [ 9 10 11 12]]\n"
          ]
        }
      ]
    },
    {
      "cell_type": "code",
      "source": [
        "# axis=0\n",
        "arr = np.arange(1,13).reshape(3,4)\n",
        "arr = np.insert(arr,2,50,axis=0)\n",
        "print(\"---axis=0---\\n\",arr)\n",
        "\n",
        "# axis=1\n",
        "arr = np.arange(1,13).reshape(3,4)\n",
        "arr = np.insert(arr,2,50,axis=1)\n",
        "print(\"---axis=1---\\n\",arr)\n",
        "\n",
        "# no axis\n",
        "arr = np.arange(1,13).reshape(3,4)\n",
        "arr = np.insert(arr,2,50)\n",
        "print(\"---no axis---\\n\",arr)"
      ],
      "metadata": {
        "colab": {
          "base_uri": "https://localhost:8080/"
        },
        "id": "DqHqZmmeq8sL",
        "outputId": "86cfe129-7d78-4225-e498-4e51caef296f"
      },
      "execution_count": null,
      "outputs": [
        {
          "output_type": "stream",
          "name": "stdout",
          "text": [
            "---axis=0---\n",
            " [[ 1  2  3  4]\n",
            " [ 5  6  7  8]\n",
            " [50 50 50 50]\n",
            " [ 9 10 11 12]]\n",
            "---axis=1---\n",
            " [[ 1  2 50  3  4]\n",
            " [ 5  6 50  7  8]\n",
            " [ 9 10 50 11 12]]\n",
            "---no axis---\n",
            " [ 1  2 50  3  4  5  6  7  8  9 10 11 12]\n"
          ]
        }
      ]
    },
    {
      "cell_type": "markdown",
      "source": [
        "## delete"
      ],
      "metadata": {
        "id": "wAhXU05PuDUp"
      }
    },
    {
      "cell_type": "code",
      "source": [
        "arr = np.arange(1,13).reshape(3,4)\n",
        "print(arr)"
      ],
      "metadata": {
        "colab": {
          "base_uri": "https://localhost:8080/"
        },
        "id": "-75WAuYCt-AR",
        "outputId": "342a2c39-d8b6-4d28-a753-c7725b5e8e96"
      },
      "execution_count": null,
      "outputs": [
        {
          "output_type": "stream",
          "name": "stdout",
          "text": [
            "[[ 1  2  3  4]\n",
            " [ 5  6  7  8]\n",
            " [ 9 10 11 12]]\n"
          ]
        }
      ]
    },
    {
      "cell_type": "code",
      "source": [
        "# axis=0\n",
        "print(np.delete(arr, 2, axis=0))"
      ],
      "metadata": {
        "colab": {
          "base_uri": "https://localhost:8080/"
        },
        "id": "ADW9lPi4t-Cr",
        "outputId": "360a97a5-e927-475f-cfff-d94f60de050c"
      },
      "execution_count": null,
      "outputs": [
        {
          "output_type": "stream",
          "name": "stdout",
          "text": [
            "[[1 2 3 4]\n",
            " [5 6 7 8]]\n"
          ]
        }
      ]
    },
    {
      "cell_type": "code",
      "source": [
        "# axis=1\n",
        "print(np.delete(arr, 2, axis=1))"
      ],
      "metadata": {
        "colab": {
          "base_uri": "https://localhost:8080/"
        },
        "id": "j5pJAg8at-GE",
        "outputId": "3acab1de-1dee-44a6-ed74-f78926a8696e"
      },
      "execution_count": null,
      "outputs": [
        {
          "output_type": "stream",
          "name": "stdout",
          "text": [
            "[[ 1  2  4]\n",
            " [ 5  6  8]\n",
            " [ 9 10 12]]\n"
          ]
        }
      ]
    },
    {
      "cell_type": "code",
      "source": [
        "# no axis\n",
        "print(np.delete(arr,2))"
      ],
      "metadata": {
        "colab": {
          "base_uri": "https://localhost:8080/"
        },
        "id": "Y0tYU_CHt-dT",
        "outputId": "52bcd6cf-b2d5-4081-dbd2-ec4720d8a3b8"
      },
      "execution_count": null,
      "outputs": [
        {
          "output_type": "stream",
          "name": "stdout",
          "text": [
            "[ 1  2  4  5  6  7  8  9 10 11 12]\n"
          ]
        }
      ]
    },
    {
      "cell_type": "markdown",
      "source": [
        "---\n",
        "## 6-2. 배열 간의 병합"
      ],
      "metadata": {
        "id": "ydvA1EpRuvMm"
      }
    },
    {
      "cell_type": "code",
      "source": [
        "import numpy as np\n",
        "arr1 = np.arange(1,13).reshape(3,4)\n",
        "arr2 = np.arange(13,25).reshape(3,4)\n",
        "print(arr1,\"\\n\\n\",arr2)"
      ],
      "metadata": {
        "colab": {
          "base_uri": "https://localhost:8080/"
        },
        "id": "PKwNWymzuz37",
        "outputId": "f7f21fb7-b73f-4d8a-863d-f35af6d0ae64"
      },
      "execution_count": null,
      "outputs": [
        {
          "output_type": "stream",
          "name": "stdout",
          "text": [
            "[[ 1  2  3  4]\n",
            " [ 5  6  7  8]\n",
            " [ 9 10 11 12]] \n",
            "\n",
            " [[13 14 15 16]\n",
            " [17 18 19 20]\n",
            " [21 22 23 24]]\n"
          ]
        }
      ]
    },
    {
      "cell_type": "markdown",
      "source": [
        "## append"
      ],
      "metadata": {
        "id": "-C2wTmIeyAeF"
      }
    },
    {
      "cell_type": "code",
      "source": [
        "# axis=0으로 append\n",
        "print(np.append(arr1,arr2,axis=0))"
      ],
      "metadata": {
        "colab": {
          "base_uri": "https://localhost:8080/"
        },
        "id": "C4ESi_HLu0AR",
        "outputId": "65b766dd-02c3-446f-9284-6a839ddbe64d"
      },
      "execution_count": null,
      "outputs": [
        {
          "output_type": "stream",
          "name": "stdout",
          "text": [
            "[[ 1  2  3  4]\n",
            " [ 5  6  7  8]\n",
            " [ 9 10 11 12]\n",
            " [13 14 15 16]\n",
            " [17 18 19 20]\n",
            " [21 22 23 24]]\n"
          ]
        }
      ]
    },
    {
      "cell_type": "code",
      "source": [
        "# axis=1로 append\n",
        "print(np.append(arr1,arr2,axis=1))"
      ],
      "metadata": {
        "colab": {
          "base_uri": "https://localhost:8080/"
        },
        "id": "l5yB0fI1u0Cg",
        "outputId": "6afe3c61-6aa5-4fd3-d7a0-eba1b6bc09f7"
      },
      "execution_count": null,
      "outputs": [
        {
          "output_type": "stream",
          "name": "stdout",
          "text": [
            "[[ 1  2  3  4 13 14 15 16]\n",
            " [ 5  6  7  8 17 18 19 20]\n",
            " [ 9 10 11 12 21 22 23 24]]\n"
          ]
        }
      ]
    },
    {
      "cell_type": "code",
      "source": [
        "# vstack() => axis=0 / vertically 수직\n",
        "print(np.vstack((arr1,arr2)))   #주의: 튜플을 인자로 함."
      ],
      "metadata": {
        "colab": {
          "base_uri": "https://localhost:8080/"
        },
        "id": "ssqkSv1Hu0hI",
        "outputId": "87dfdcde-4344-427d-b322-ccbe3b937688"
      },
      "execution_count": null,
      "outputs": [
        {
          "output_type": "stream",
          "name": "stdout",
          "text": [
            "[[ 1  2  3  4]\n",
            " [ 5  6  7  8]\n",
            " [ 9 10 11 12]\n",
            " [13 14 15 16]\n",
            " [17 18 19 20]\n",
            " [21 22 23 24]]\n"
          ]
        }
      ]
    },
    {
      "cell_type": "code",
      "source": [
        "# hstack() => axis=1 / horizontally 수평\n",
        "print(np.hstack((arr1,arr2)))"
      ],
      "metadata": {
        "colab": {
          "base_uri": "https://localhost:8080/"
        },
        "id": "WF_7VYQ6xLm6",
        "outputId": "9837c2ef-abe7-4138-ca9e-a01f73fdd3b1"
      },
      "execution_count": null,
      "outputs": [
        {
          "output_type": "stream",
          "name": "stdout",
          "text": [
            "[[ 1  2  3  4 13 14 15 16]\n",
            " [ 5  6  7  8 17 18 19 20]\n",
            " [ 9 10 11 12 21 22 23 24]]\n"
          ]
        }
      ]
    },
    {
      "cell_type": "markdown",
      "source": [
        "## concatenate\n",
        "\n",
        "## ✅ 🚀 `concatenate()` vs `append()` 차이 정리\n",
        "\n",
        "| 함수 | 역할 | 특징 | `axis` 사용 |\n",
        "|------|------|------|------|\n",
        "| `np.concatenate()` | 여러 배열을 연결 | 같은 차원의 배열만 연결 가능 | ✅ 가능 |\n",
        "| `np.append()` | 요소 추가 | 배열 끝에 요소 추가 가능 (리스트도 추가 가능) | ✅ 가능 (`axis=None` 기본값) |\n",
        "\n",
        "---\n",
        "\n",
        "## ✅ 🚀 결론\n",
        "✔ **여러 배열을 합칠 때** → `concatenate()`  \n",
        "✔ **배열 끝에 요소 추가할 때** → `append()`  \n",
        "✔ **배열 차원이 다르면 `append()`가 더 유연함** 🚀"
      ],
      "metadata": {
        "id": "0opqVe9uyCmc"
      }
    },
    {
      "cell_type": "code",
      "source": [
        "import numpy as np\n",
        "arr1 = np.arange(1,7).reshape(2,3)\n",
        "arr2 = np.arange(7,13).reshape(2,3)\n",
        "arr3 = np.arange(13,19).reshape(2,3)\n",
        "\n",
        "print(np.concatenate([arr1,arr2,arr3]))"
      ],
      "metadata": {
        "colab": {
          "base_uri": "https://localhost:8080/"
        },
        "id": "7-oYtC_8xz7K",
        "outputId": "a3518f45-ad7e-4eaf-e1b7-2dd2aa258c1b"
      },
      "execution_count": null,
      "outputs": [
        {
          "output_type": "stream",
          "name": "stdout",
          "text": [
            "[[ 1  2  3]\n",
            " [ 4  5  6]\n",
            " [ 7  8  9]\n",
            " [10 11 12]\n",
            " [13 14 15]\n",
            " [16 17 18]]\n"
          ]
        }
      ]
    },
    {
      "cell_type": "code",
      "source": [
        "print(np.concatenate([arr1,arr2,arr3],axis=0))"
      ],
      "metadata": {
        "colab": {
          "base_uri": "https://localhost:8080/"
        },
        "id": "UZZ7YLZbzelv",
        "outputId": "f09fe07a-e3fe-442b-b6c0-7a230ff4848f"
      },
      "execution_count": null,
      "outputs": [
        {
          "output_type": "stream",
          "name": "stdout",
          "text": [
            "[[ 1  2  3]\n",
            " [ 4  5  6]\n",
            " [ 7  8  9]\n",
            " [10 11 12]\n",
            " [13 14 15]\n",
            " [16 17 18]]\n"
          ]
        }
      ]
    },
    {
      "cell_type": "code",
      "source": [
        "print(np.concatenate([arr1,arr2,arr3],axis=1))"
      ],
      "metadata": {
        "colab": {
          "base_uri": "https://localhost:8080/"
        },
        "id": "5oDtv7-KziNt",
        "outputId": "f48e29e6-8515-4ff9-fba7-eb36b64e17fe"
      },
      "execution_count": null,
      "outputs": [
        {
          "output_type": "stream",
          "name": "stdout",
          "text": [
            "[[ 1  2  3  7  8  9 13 14 15]\n",
            " [ 4  5  6 10 11 12 16 17 18]]\n"
          ]
        }
      ]
    },
    {
      "cell_type": "markdown",
      "source": [
        "---\n",
        "## 6-3. 배열 분할"
      ],
      "metadata": {
        "id": "G04NzLifzvXu"
      }
    },
    {
      "cell_type": "code",
      "source": [
        "# 2차원 배열 생성\n",
        "import numpy as np\n",
        "arr = np.arange(1,13).reshape(3,4)\n",
        "print(arr)"
      ],
      "metadata": {
        "id": "aNJjrXwEzsst",
        "colab": {
          "base_uri": "https://localhost:8080/"
        },
        "outputId": "b8f55d33-9fdc-4ac7-aa1d-67a238cb1a28"
      },
      "execution_count": 3,
      "outputs": [
        {
          "output_type": "stream",
          "name": "stdout",
          "text": [
            "[[ 1  2  3  4]\n",
            " [ 5  6  7  8]\n",
            " [ 9 10 11 12]]\n"
          ]
        }
      ]
    },
    {
      "cell_type": "code",
      "source": [
        "# vsplit() => axis=0을 기준으로 분할\n",
        "new_arr = np.vsplit(arr,3)\n",
        "print(new_arr)"
      ],
      "metadata": {
        "colab": {
          "base_uri": "https://localhost:8080/"
        },
        "id": "B9-qJ3w2wQyV",
        "outputId": "233597bc-4cb5-4489-ec09-4315756ca0b4"
      },
      "execution_count": 7,
      "outputs": [
        {
          "output_type": "stream",
          "name": "stdout",
          "text": [
            "[array([[1, 2, 3, 4]]), array([[5, 6, 7, 8]]), array([[ 9, 10, 11, 12]])]\n"
          ]
        }
      ]
    },
    {
      "cell_type": "code",
      "source": [
        "# hsplit() => axis=1을 기준으로 분할\n",
        "new_arr = np.hsplit(arr,2)\n",
        "print(new_arr)"
      ],
      "metadata": {
        "colab": {
          "base_uri": "https://localhost:8080/"
        },
        "id": "D3-YXy8Jw1ax",
        "outputId": "b4c98b14-f85b-4ec9-9bd7-c5fa7162e26a"
      },
      "execution_count": 9,
      "outputs": [
        {
          "output_type": "stream",
          "name": "stdout",
          "text": [
            "[array([[ 1,  2],\n",
            "       [ 5,  6],\n",
            "       [ 9, 10]]), array([[ 3,  4],\n",
            "       [ 7,  8],\n",
            "       [11, 12]])]\n"
          ]
        }
      ]
    },
    {
      "cell_type": "code",
      "source": [
        "# 3차원 배열\n",
        "arr = np.arange(0,4*6*8).reshape(4,6,8)\n",
        "print(arr)"
      ],
      "metadata": {
        "colab": {
          "base_uri": "https://localhost:8080/"
        },
        "id": "81Kkvz7xw1dQ",
        "outputId": "908aea33-27c5-4c52-f65a-7636b6e6222d"
      },
      "execution_count": 16,
      "outputs": [
        {
          "output_type": "stream",
          "name": "stdout",
          "text": [
            "[[[  0   1   2   3   4   5   6   7]\n",
            "  [  8   9  10  11  12  13  14  15]\n",
            "  [ 16  17  18  19  20  21  22  23]\n",
            "  [ 24  25  26  27  28  29  30  31]\n",
            "  [ 32  33  34  35  36  37  38  39]\n",
            "  [ 40  41  42  43  44  45  46  47]]\n",
            "\n",
            " [[ 48  49  50  51  52  53  54  55]\n",
            "  [ 56  57  58  59  60  61  62  63]\n",
            "  [ 64  65  66  67  68  69  70  71]\n",
            "  [ 72  73  74  75  76  77  78  79]\n",
            "  [ 80  81  82  83  84  85  86  87]\n",
            "  [ 88  89  90  91  92  93  94  95]]\n",
            "\n",
            " [[ 96  97  98  99 100 101 102 103]\n",
            "  [104 105 106 107 108 109 110 111]\n",
            "  [112 113 114 115 116 117 118 119]\n",
            "  [120 121 122 123 124 125 126 127]\n",
            "  [128 129 130 131 132 133 134 135]\n",
            "  [136 137 138 139 140 141 142 143]]\n",
            "\n",
            " [[144 145 146 147 148 149 150 151]\n",
            "  [152 153 154 155 156 157 158 159]\n",
            "  [160 161 162 163 164 165 166 167]\n",
            "  [168 169 170 171 172 173 174 175]\n",
            "  [176 177 178 179 180 181 182 183]\n",
            "  [184 185 186 187 188 189 190 191]]]\n"
          ]
        }
      ]
    },
    {
      "cell_type": "code",
      "source": [
        "arr_vsplit = np.vsplit(arr,2)\n",
        "print(arr_vsplit)"
      ],
      "metadata": {
        "colab": {
          "base_uri": "https://localhost:8080/"
        },
        "id": "thse1rsGwQ0i",
        "outputId": "90bae953-d27d-436b-de7c-497f7b90b53c"
      },
      "execution_count": 17,
      "outputs": [
        {
          "output_type": "stream",
          "name": "stdout",
          "text": [
            "[array([[[ 0,  1,  2,  3,  4,  5,  6,  7],\n",
            "        [ 8,  9, 10, 11, 12, 13, 14, 15],\n",
            "        [16, 17, 18, 19, 20, 21, 22, 23],\n",
            "        [24, 25, 26, 27, 28, 29, 30, 31],\n",
            "        [32, 33, 34, 35, 36, 37, 38, 39],\n",
            "        [40, 41, 42, 43, 44, 45, 46, 47]],\n",
            "\n",
            "       [[48, 49, 50, 51, 52, 53, 54, 55],\n",
            "        [56, 57, 58, 59, 60, 61, 62, 63],\n",
            "        [64, 65, 66, 67, 68, 69, 70, 71],\n",
            "        [72, 73, 74, 75, 76, 77, 78, 79],\n",
            "        [80, 81, 82, 83, 84, 85, 86, 87],\n",
            "        [88, 89, 90, 91, 92, 93, 94, 95]]]), array([[[ 96,  97,  98,  99, 100, 101, 102, 103],\n",
            "        [104, 105, 106, 107, 108, 109, 110, 111],\n",
            "        [112, 113, 114, 115, 116, 117, 118, 119],\n",
            "        [120, 121, 122, 123, 124, 125, 126, 127],\n",
            "        [128, 129, 130, 131, 132, 133, 134, 135],\n",
            "        [136, 137, 138, 139, 140, 141, 142, 143]],\n",
            "\n",
            "       [[144, 145, 146, 147, 148, 149, 150, 151],\n",
            "        [152, 153, 154, 155, 156, 157, 158, 159],\n",
            "        [160, 161, 162, 163, 164, 165, 166, 167],\n",
            "        [168, 169, 170, 171, 172, 173, 174, 175],\n",
            "        [176, 177, 178, 179, 180, 181, 182, 183],\n",
            "        [184, 185, 186, 187, 188, 189, 190, 191]]])]\n"
          ]
        }
      ]
    },
    {
      "cell_type": "code",
      "source": [
        "arr_hsplit = np.hsplit(arr,3)\n",
        "print(arr_hsplit)"
      ],
      "metadata": {
        "colab": {
          "base_uri": "https://localhost:8080/"
        },
        "id": "etu_hYahymZj",
        "outputId": "2fc7779a-7e1a-408b-dcb9-e87eb84aa68c"
      },
      "execution_count": 18,
      "outputs": [
        {
          "output_type": "stream",
          "name": "stdout",
          "text": [
            "[array([[[  0,   1,   2,   3,   4,   5,   6,   7],\n",
            "        [  8,   9,  10,  11,  12,  13,  14,  15]],\n",
            "\n",
            "       [[ 48,  49,  50,  51,  52,  53,  54,  55],\n",
            "        [ 56,  57,  58,  59,  60,  61,  62,  63]],\n",
            "\n",
            "       [[ 96,  97,  98,  99, 100, 101, 102, 103],\n",
            "        [104, 105, 106, 107, 108, 109, 110, 111]],\n",
            "\n",
            "       [[144, 145, 146, 147, 148, 149, 150, 151],\n",
            "        [152, 153, 154, 155, 156, 157, 158, 159]]]), array([[[ 16,  17,  18,  19,  20,  21,  22,  23],\n",
            "        [ 24,  25,  26,  27,  28,  29,  30,  31]],\n",
            "\n",
            "       [[ 64,  65,  66,  67,  68,  69,  70,  71],\n",
            "        [ 72,  73,  74,  75,  76,  77,  78,  79]],\n",
            "\n",
            "       [[112, 113, 114, 115, 116, 117, 118, 119],\n",
            "        [120, 121, 122, 123, 124, 125, 126, 127]],\n",
            "\n",
            "       [[160, 161, 162, 163, 164, 165, 166, 167],\n",
            "        [168, 169, 170, 171, 172, 173, 174, 175]]]), array([[[ 32,  33,  34,  35,  36,  37,  38,  39],\n",
            "        [ 40,  41,  42,  43,  44,  45,  46,  47]],\n",
            "\n",
            "       [[ 80,  81,  82,  83,  84,  85,  86,  87],\n",
            "        [ 88,  89,  90,  91,  92,  93,  94,  95]],\n",
            "\n",
            "       [[128, 129, 130, 131, 132, 133, 134, 135],\n",
            "        [136, 137, 138, 139, 140, 141, 142, 143]],\n",
            "\n",
            "       [[176, 177, 178, 179, 180, 181, 182, 183],\n",
            "        [184, 185, 186, 187, 188, 189, 190, 191]]])]\n"
          ]
        }
      ]
    },
    {
      "cell_type": "code",
      "source": [],
      "metadata": {
        "id": "RNyMcfsYymcE"
      },
      "execution_count": null,
      "outputs": []
    },
    {
      "cell_type": "code",
      "source": [],
      "metadata": {
        "id": "9IUM30sgymeu"
      },
      "execution_count": null,
      "outputs": []
    },
    {
      "cell_type": "code",
      "source": [],
      "metadata": {
        "id": "QTZbwP3bymgv"
      },
      "execution_count": null,
      "outputs": []
    }
  ]
}