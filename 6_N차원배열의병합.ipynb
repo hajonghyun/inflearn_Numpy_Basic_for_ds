{
  "nbformat": 4,
  "nbformat_minor": 0,
  "metadata": {
    "colab": {
      "provenance": [],
      "authorship_tag": "ABX9TyMeWsk29+P4AZOq5Pj+JZWQ",
      "include_colab_link": true
    },
    "kernelspec": {
      "name": "python3",
      "display_name": "Python 3"
    },
    "language_info": {
      "name": "python"
    }
  },
  "cells": [
    {
      "cell_type": "markdown",
      "metadata": {
        "id": "view-in-github",
        "colab_type": "text"
      },
      "source": [
        "<a href=\"https://colab.research.google.com/github/hajonghyun/inflearn_Numpy_Basic_for_ds/blob/main/6_N%EC%B0%A8%EC%9B%90%EB%B0%B0%EC%97%B4%EC%9D%98%EB%B3%91%ED%95%A9.ipynb\" target=\"_parent\"><img src=\"https://colab.research.google.com/assets/colab-badge.svg\" alt=\"Open In Colab\"/></a>"
      ]
    },
    {
      "cell_type": "markdown",
      "source": [
        "---\n",
        "#Section6. N차원 배열의 병합\n",
        "### 배열의 원소를 추가하고 삭제하는 방법과 데이터를 병합하고 분할하는 방법을 다룬다.\n",
        "---"
      ],
      "metadata": {
        "id": "znBeiAgHipxX"
      }
    },
    {
      "cell_type": "markdown",
      "source": [
        "## 6-1. 배열에 원소 추가 및 삭제"
      ],
      "metadata": {
        "id": "spowdKdADZ3j"
      }
    },
    {
      "cell_type": "code",
      "execution_count": 6,
      "metadata": {
        "colab": {
          "base_uri": "https://localhost:8080/"
        },
        "id": "Z4NQyhgdp8sH",
        "outputId": "6cbae832-2547-4a00-e21f-6b0a9470fc1a"
      },
      "outputs": [
        {
          "output_type": "stream",
          "name": "stdout",
          "text": [
            "[1, 2, 3, 4, 5, 6, 7, 8, 9]\n",
            "[1, 2, 50, 3, 4, 5, 6, 7, 8, 9]\n"
          ]
        }
      ],
      "source": [
        "# 파이썬 리스트에서\n",
        "lst = [1,2,3,4,5,6,7,8,9]\n",
        "print(lst)\n",
        "lst.insert(2,50)\n",
        "print(lst)"
      ]
    },
    {
      "cell_type": "markdown",
      "source": [
        "## insert"
      ],
      "metadata": {
        "id": "NHOZ8nu9uBWo"
      }
    },
    {
      "cell_type": "code",
      "source": [
        "# ndarray에서\n",
        "import numpy as np\n",
        "arr = np.arange(1,10)\n",
        "print(arr)\n",
        "arr = np.insert(arr,2,50)  # 주의점: arr.insert()는 없다 / arr= 에 재할당 해줘야한다.\n",
        "print(arr)"
      ],
      "metadata": {
        "colab": {
          "base_uri": "https://localhost:8080/"
        },
        "id": "ATsdkicUq8nx",
        "outputId": "049dc7af-8185-4536-d1ad-078eaf735adf"
      },
      "execution_count": 11,
      "outputs": [
        {
          "output_type": "stream",
          "name": "stdout",
          "text": [
            "[1 2 3 4 5 6 7 8 9]\n",
            "[ 1  2 50  3  4  5  6  7  8  9]\n"
          ]
        }
      ]
    },
    {
      "cell_type": "code",
      "source": [
        "# 2차원 배열\n",
        "arr = np.arange(1,13).reshape(3,4)\n",
        "print(arr)"
      ],
      "metadata": {
        "colab": {
          "base_uri": "https://localhost:8080/"
        },
        "id": "-FdBpvn9q8p1",
        "outputId": "bf4595d8-f935-42e5-9adf-c81b57a7d967"
      },
      "execution_count": 28,
      "outputs": [
        {
          "output_type": "stream",
          "name": "stdout",
          "text": [
            "[[ 1  2  3  4]\n",
            " [ 5  6  7  8]\n",
            " [ 9 10 11 12]]\n"
          ]
        }
      ]
    },
    {
      "cell_type": "code",
      "source": [
        "# axis=0\n",
        "arr = np.arange(1,13).reshape(3,4)\n",
        "arr = np.insert(arr,2,50,axis=0)\n",
        "print(\"---axis=0---\\n\",arr)\n",
        "\n",
        "# axis=1\n",
        "arr = np.arange(1,13).reshape(3,4)\n",
        "arr = np.insert(arr,2,50,axis=1)\n",
        "print(\"---axis=1---\\n\",arr)\n",
        "\n",
        "# no axis\n",
        "arr = np.arange(1,13).reshape(3,4)\n",
        "arr = np.insert(arr,2,50)\n",
        "print(\"---no axis---\\n\",arr)"
      ],
      "metadata": {
        "colab": {
          "base_uri": "https://localhost:8080/"
        },
        "id": "DqHqZmmeq8sL",
        "outputId": "86cfe129-7d78-4225-e498-4e51caef296f"
      },
      "execution_count": 30,
      "outputs": [
        {
          "output_type": "stream",
          "name": "stdout",
          "text": [
            "---axis=0---\n",
            " [[ 1  2  3  4]\n",
            " [ 5  6  7  8]\n",
            " [50 50 50 50]\n",
            " [ 9 10 11 12]]\n",
            "---axis=1---\n",
            " [[ 1  2 50  3  4]\n",
            " [ 5  6 50  7  8]\n",
            " [ 9 10 50 11 12]]\n",
            "---no axis---\n",
            " [ 1  2 50  3  4  5  6  7  8  9 10 11 12]\n"
          ]
        }
      ]
    },
    {
      "cell_type": "markdown",
      "source": [
        "## delete"
      ],
      "metadata": {
        "id": "wAhXU05PuDUp"
      }
    },
    {
      "cell_type": "code",
      "source": [
        "arr = np.arange(1,13).reshape(3,4)\n",
        "print(arr)"
      ],
      "metadata": {
        "colab": {
          "base_uri": "https://localhost:8080/"
        },
        "id": "-75WAuYCt-AR",
        "outputId": "342a2c39-d8b6-4d28-a753-c7725b5e8e96"
      },
      "execution_count": 31,
      "outputs": [
        {
          "output_type": "stream",
          "name": "stdout",
          "text": [
            "[[ 1  2  3  4]\n",
            " [ 5  6  7  8]\n",
            " [ 9 10 11 12]]\n"
          ]
        }
      ]
    },
    {
      "cell_type": "code",
      "source": [
        "# axis=0\n",
        "print(np.delete(arr, 2, axis=0))"
      ],
      "metadata": {
        "colab": {
          "base_uri": "https://localhost:8080/"
        },
        "id": "ADW9lPi4t-Cr",
        "outputId": "360a97a5-e927-475f-cfff-d94f60de050c"
      },
      "execution_count": 36,
      "outputs": [
        {
          "output_type": "stream",
          "name": "stdout",
          "text": [
            "[[1 2 3 4]\n",
            " [5 6 7 8]]\n"
          ]
        }
      ]
    },
    {
      "cell_type": "code",
      "source": [
        "# axis=1\n",
        "print(np.delete(arr, 2, axis=1))"
      ],
      "metadata": {
        "colab": {
          "base_uri": "https://localhost:8080/"
        },
        "id": "j5pJAg8at-GE",
        "outputId": "3acab1de-1dee-44a6-ed74-f78926a8696e"
      },
      "execution_count": 37,
      "outputs": [
        {
          "output_type": "stream",
          "name": "stdout",
          "text": [
            "[[ 1  2  4]\n",
            " [ 5  6  8]\n",
            " [ 9 10 12]]\n"
          ]
        }
      ]
    },
    {
      "cell_type": "code",
      "source": [
        "# no axis\n",
        "print(np.delete(arr,2))"
      ],
      "metadata": {
        "colab": {
          "base_uri": "https://localhost:8080/"
        },
        "id": "Y0tYU_CHt-dT",
        "outputId": "52bcd6cf-b2d5-4081-dbd2-ec4720d8a3b8"
      },
      "execution_count": 38,
      "outputs": [
        {
          "output_type": "stream",
          "name": "stdout",
          "text": [
            "[ 1  2  4  5  6  7  8  9 10 11 12]\n"
          ]
        }
      ]
    },
    {
      "cell_type": "markdown",
      "source": [
        "---\n",
        "## 6-2. 배열 간의 병합"
      ],
      "metadata": {
        "id": "ydvA1EpRuvMm"
      }
    },
    {
      "cell_type": "code",
      "source": [
        "import numpy as np\n",
        "arr1 = np.arange(1,13).reshape(3,4)\n",
        "arr2 = np.arange(13,25).reshape(3,4)\n",
        "print(arr1,\"\\n\\n\",arr2)"
      ],
      "metadata": {
        "colab": {
          "base_uri": "https://localhost:8080/"
        },
        "id": "PKwNWymzuz37",
        "outputId": "f7f21fb7-b73f-4d8a-863d-f35af6d0ae64"
      },
      "execution_count": 42,
      "outputs": [
        {
          "output_type": "stream",
          "name": "stdout",
          "text": [
            "[[ 1  2  3  4]\n",
            " [ 5  6  7  8]\n",
            " [ 9 10 11 12]] \n",
            "\n",
            " [[13 14 15 16]\n",
            " [17 18 19 20]\n",
            " [21 22 23 24]]\n"
          ]
        }
      ]
    },
    {
      "cell_type": "markdown",
      "source": [
        "## append"
      ],
      "metadata": {
        "id": "-C2wTmIeyAeF"
      }
    },
    {
      "cell_type": "code",
      "source": [
        "# axis=0으로 append\n",
        "print(np.append(arr1,arr2,axis=0))"
      ],
      "metadata": {
        "colab": {
          "base_uri": "https://localhost:8080/"
        },
        "id": "C4ESi_HLu0AR",
        "outputId": "65b766dd-02c3-446f-9284-6a839ddbe64d"
      },
      "execution_count": 43,
      "outputs": [
        {
          "output_type": "stream",
          "name": "stdout",
          "text": [
            "[[ 1  2  3  4]\n",
            " [ 5  6  7  8]\n",
            " [ 9 10 11 12]\n",
            " [13 14 15 16]\n",
            " [17 18 19 20]\n",
            " [21 22 23 24]]\n"
          ]
        }
      ]
    },
    {
      "cell_type": "code",
      "source": [
        "# axis=1로 append\n",
        "print(np.append(arr1,arr2,axis=1))"
      ],
      "metadata": {
        "colab": {
          "base_uri": "https://localhost:8080/"
        },
        "id": "l5yB0fI1u0Cg",
        "outputId": "6afe3c61-6aa5-4fd3-d7a0-eba1b6bc09f7"
      },
      "execution_count": 44,
      "outputs": [
        {
          "output_type": "stream",
          "name": "stdout",
          "text": [
            "[[ 1  2  3  4 13 14 15 16]\n",
            " [ 5  6  7  8 17 18 19 20]\n",
            " [ 9 10 11 12 21 22 23 24]]\n"
          ]
        }
      ]
    },
    {
      "cell_type": "code",
      "source": [
        "# vstack() => axis=0 / vertically 수직\n",
        "print(np.vstack((arr1,arr2)))   #주의: 튜플을 인자로 함."
      ],
      "metadata": {
        "colab": {
          "base_uri": "https://localhost:8080/"
        },
        "id": "ssqkSv1Hu0hI",
        "outputId": "87dfdcde-4344-427d-b322-ccbe3b937688"
      },
      "execution_count": 47,
      "outputs": [
        {
          "output_type": "stream",
          "name": "stdout",
          "text": [
            "[[ 1  2  3  4]\n",
            " [ 5  6  7  8]\n",
            " [ 9 10 11 12]\n",
            " [13 14 15 16]\n",
            " [17 18 19 20]\n",
            " [21 22 23 24]]\n"
          ]
        }
      ]
    },
    {
      "cell_type": "code",
      "source": [
        "# hstack() => axis=1 / horizontally 수평\n",
        "print(np.hstack((arr1,arr2)))"
      ],
      "metadata": {
        "colab": {
          "base_uri": "https://localhost:8080/"
        },
        "id": "WF_7VYQ6xLm6",
        "outputId": "9837c2ef-abe7-4138-ca9e-a01f73fdd3b1"
      },
      "execution_count": 48,
      "outputs": [
        {
          "output_type": "stream",
          "name": "stdout",
          "text": [
            "[[ 1  2  3  4 13 14 15 16]\n",
            " [ 5  6  7  8 17 18 19 20]\n",
            " [ 9 10 11 12 21 22 23 24]]\n"
          ]
        }
      ]
    },
    {
      "cell_type": "markdown",
      "source": [
        "## concatenate\n",
        "\n",
        "## ✅ 🚀 `concatenate()` vs `append()` 차이 정리\n",
        "\n",
        "| 함수 | 역할 | 특징 | `axis` 사용 |\n",
        "|------|------|------|------|\n",
        "| `np.concatenate()` | 여러 배열을 연결 | 같은 차원의 배열만 연결 가능 | ✅ 가능 |\n",
        "| `np.append()` | 요소 추가 | 배열 끝에 요소 추가 가능 (리스트도 추가 가능) | ✅ 가능 (`axis=None` 기본값) |\n",
        "\n",
        "---\n",
        "\n",
        "## ✅ 🚀 결론\n",
        "✔ **여러 배열을 합칠 때** → `concatenate()`  \n",
        "✔ **배열 끝에 요소 추가할 때** → `append()`  \n",
        "✔ **배열 차원이 다르면 `append()`가 더 유연함** 🚀"
      ],
      "metadata": {
        "id": "0opqVe9uyCmc"
      }
    },
    {
      "cell_type": "code",
      "source": [
        "import numpy as np\n",
        "arr1 = np.arange(1,7).reshape(2,3)\n",
        "arr2 = np.arange(7,13).reshape(2,3)\n",
        "arr3 = np.arange(13,19).reshape(2,3)\n",
        "\n",
        "print(np.concatenate([arr1,arr2,arr3]))"
      ],
      "metadata": {
        "colab": {
          "base_uri": "https://localhost:8080/"
        },
        "id": "7-oYtC_8xz7K",
        "outputId": "a3518f45-ad7e-4eaf-e1b7-2dd2aa258c1b"
      },
      "execution_count": 53,
      "outputs": [
        {
          "output_type": "stream",
          "name": "stdout",
          "text": [
            "[[ 1  2  3]\n",
            " [ 4  5  6]\n",
            " [ 7  8  9]\n",
            " [10 11 12]\n",
            " [13 14 15]\n",
            " [16 17 18]]\n"
          ]
        }
      ]
    },
    {
      "cell_type": "code",
      "source": [
        "print(np.concatenate([arr1,arr2,arr3],axis=0))"
      ],
      "metadata": {
        "colab": {
          "base_uri": "https://localhost:8080/"
        },
        "id": "UZZ7YLZbzelv",
        "outputId": "f09fe07a-e3fe-442b-b6c0-7a230ff4848f"
      },
      "execution_count": 54,
      "outputs": [
        {
          "output_type": "stream",
          "name": "stdout",
          "text": [
            "[[ 1  2  3]\n",
            " [ 4  5  6]\n",
            " [ 7  8  9]\n",
            " [10 11 12]\n",
            " [13 14 15]\n",
            " [16 17 18]]\n"
          ]
        }
      ]
    },
    {
      "cell_type": "code",
      "source": [
        "print(np.concatenate([arr1,arr2,arr3],axis=1))"
      ],
      "metadata": {
        "colab": {
          "base_uri": "https://localhost:8080/"
        },
        "id": "5oDtv7-KziNt",
        "outputId": "f48e29e6-8515-4ff9-fba7-eb36b64e17fe"
      },
      "execution_count": 55,
      "outputs": [
        {
          "output_type": "stream",
          "name": "stdout",
          "text": [
            "[[ 1  2  3  7  8  9 13 14 15]\n",
            " [ 4  5  6 10 11 12 16 17 18]]\n"
          ]
        }
      ]
    },
    {
      "cell_type": "markdown",
      "source": [
        "---\n",
        "## 6-3. 배열 분할"
      ],
      "metadata": {
        "id": "G04NzLifzvXu"
      }
    },
    {
      "cell_type": "code",
      "source": [],
      "metadata": {
        "id": "aNJjrXwEzsst"
      },
      "execution_count": null,
      "outputs": []
    }
  ]
}