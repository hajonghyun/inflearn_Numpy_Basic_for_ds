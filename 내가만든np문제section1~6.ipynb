{
  "nbformat": 4,
  "nbformat_minor": 0,
  "metadata": {
    "colab": {
      "provenance": [],
      "authorship_tag": "ABX9TyONl+pqWz8cy2+M0DjbI2Fa",
      "include_colab_link": true
    },
    "kernelspec": {
      "name": "python3",
      "display_name": "Python 3"
    },
    "language_info": {
      "name": "python"
    }
  },
  "cells": [
    {
      "cell_type": "markdown",
      "metadata": {
        "id": "view-in-github",
        "colab_type": "text"
      },
      "source": [
        "<a href=\"https://colab.research.google.com/github/hajonghyun/inflearn_Numpy_Basic_for_ds/blob/main/%EB%82%B4%EA%B0%80%EB%A7%8C%EB%93%A0np%EB%AC%B8%EC%A0%9Csection1~6.ipynb\" target=\"_parent\"><img src=\"https://colab.research.google.com/assets/colab-badge.svg\" alt=\"Open In Colab\"/></a>"
      ]
    },
    {
      "cell_type": "markdown",
      "source": [
        "# Section 1\n",
        "\n"
      ],
      "metadata": {
        "id": "EZ1jwkIRATVl"
      }
    },
    {
      "cell_type": "markdown",
      "source": [
        "# 📌 NumPy 기본 개념 확인 문제\n",
        "\n",
        "## **1. 배열의 기본 속성 확인**\n",
        "### **Q1**  \n",
        "3×4 크기의 `ndarray`를 생성한 후, **(행 개수, 열 개수)**를 출력하라.  \n",
        "\n",
        "### **Q2**  \n",
        "위에서 생성한 `ndarray`의 **차원 수**를 출력하라.  \n",
        "\n",
        "### **Q3**  \n",
        "위에서 생성한 `ndarray`의 **전체 요소 개수**를 출력하라.  \n",
        "\n",
        "### **Q4**  \n",
        "위에서 생성한 `ndarray`의 **데이터 타입**을 출력하라.  \n",
        "\n",
        "### **Q5**  \n",
        "1부터 12까지의 정수를 가지는 \\(3 \\times 4\\) 배열을 생성하고, 이를 **0부터 시작하는 인덱스를 사용하여 (2,3) 위치의 요소를 출력하라.**  \n",
        "\n",
        "---\n"
      ],
      "metadata": {
        "id": "ZSfJuSfT7umZ"
      }
    },
    {
      "cell_type": "code",
      "execution_count": null,
      "metadata": {
        "colab": {
          "base_uri": "https://localhost:8080/"
        },
        "id": "1pcg6_z97spC",
        "outputId": "dc330e60-fbed-4c21-bcba-b340bffb2ec2"
      },
      "outputs": [
        {
          "output_type": "stream",
          "name": "stdout",
          "text": [
            "(3, 4)\n",
            "2\n",
            "12\n",
            "int64\n",
            "11\n"
          ]
        }
      ],
      "source": [
        "import numpy as np\n",
        "\n",
        "arr = np.arange(0,12).reshape(3,4)\n",
        "#1\n",
        "print(arr.shape)\n",
        "#2\n",
        "print(arr.ndim)\n",
        "#3\n",
        "print(arr.size)\n",
        "#4\n",
        "print(arr.dtype)\n",
        "#5\n",
        "print(arr[2,3])"
      ]
    },
    {
      "cell_type": "markdown",
      "source": [
        "## **2. 다양한 배열 생성 방법**\n",
        "### **Q6**  \n",
        "모든 요소가 0인 \\(2 \\times 5\\) 크기의 배열을 생성하라.  \n",
        "\n",
        "### **Q7**  \n",
        "모든 요소가 1인 \\(3 \\times 3\\) 크기의 배열을 생성하라.  \n",
        "\n",
        "### **Q8**  \n",
        "모든 요소가 7인 \\(4 \\times 2\\) 크기의 배열을 생성하라.  \n",
        "\n",
        "### **Q9**  \n",
        "0부터 19까지의 숫자가 포함된 1차원 배열을 생성하고, 이를 \\(4 \\times 5\\) 형태의 2차원 배열로 변환하라.  \n",
        "\n",
        "### **Q10**  \n",
        "5 이상 10 미만의 난수를 가지는 \\(3 \\times 3\\) 배열을 생성하라."
      ],
      "metadata": {
        "id": "ERIAwwme9MnE"
      }
    },
    {
      "cell_type": "code",
      "source": [
        "#6\n",
        "arr = np.zeros((2,5)) # 두개임에 주의\n",
        "print(arr)\n",
        "#7\n",
        "arr = np.ones((3,3))\n",
        "print(arr)\n",
        "#8\n",
        "arr=np.full((4,2),7)\n",
        "#9\n",
        "arr=np.arange(0,20).reshape(4,5)\n",
        "print(arr)\n",
        "#10\n",
        "arr=np.random.uniform(5,10,(3,3))\n",
        "print(arr)"
      ],
      "metadata": {
        "colab": {
          "base_uri": "https://localhost:8080/"
        },
        "id": "5tpHXYrD9PTF",
        "outputId": "ddeeed17-e484-4a4a-bc73-84e619f5e2ad"
      },
      "execution_count": null,
      "outputs": [
        {
          "output_type": "stream",
          "name": "stdout",
          "text": [
            "[[0. 0. 0. 0. 0.]\n",
            " [0. 0. 0. 0. 0.]]\n",
            "[[1. 1. 1.]\n",
            " [1. 1. 1.]\n",
            " [1. 1. 1.]]\n",
            "[[ 0  1  2  3  4]\n",
            " [ 5  6  7  8  9]\n",
            " [10 11 12 13 14]\n",
            " [15 16 17 18 19]]\n",
            "[[6.10586929 7.25183399 9.64694203]\n",
            " [9.80268394 5.8145692  6.63355359]\n",
            " [9.4621138  9.51575184 9.73073528]]\n"
          ]
        }
      ]
    },
    {
      "cell_type": "markdown",
      "source": [
        "---\n",
        "# Section 2"
      ],
      "metadata": {
        "id": "OjjjyehJAXEQ"
      }
    },
    {
      "cell_type": "markdown",
      "source": [
        "# 📌 NumPy 인덱싱(Indexing) 문제\n",
        "\n",
        "## **1. 기본 인덱싱**\n",
        "### **Q1**  \n",
        "아래 배열이 주어졌을 때, 첫 번째 요소를 출력하라.  \n",
        "\n",
        "```python\n",
        "arr = np.array([10, 20, 30, 40, 50])\n",
        "```\n",
        "\n",
        "### **Q2**\n",
        "위 배열에서 마지막 요소를 출력하라.\n",
        "\n",
        "### **Q3**\n",
        "아래 2차원 배열에서 첫 번째 행을 출력하라.\n",
        "\n",
        "```python\n",
        "\n",
        "arr2d = np.array([[1, 2, 3],\n",
        "                  [4, 5, 6],\n",
        "                  [7, 8, 9]])\n",
        "```\n",
        "### **Q4**\n",
        "위 배열에서 두 번째 행의 모든 요소를 출력하라.\n",
        "\n",
        "### **Q5**\n",
        "위 배열에서 세 번째 행의 두 번째 요소(즉, 8)를 출력하라."
      ],
      "metadata": {
        "id": "l5sj1UKhAYAP"
      }
    },
    {
      "cell_type": "code",
      "source": [
        "#1\n",
        "import numpy as np\n",
        "arr = np.array([10, 20, 30, 40, 50])\n",
        "print(arr[0])\n",
        "#2\n",
        "print(arr[-1])\n",
        "#3\n",
        "arr2d = np.array([[1, 2, 3],\n",
        "                  [4, 5, 6],\n",
        "                  [7, 8, 9]])\n",
        "print(arr2d[0,:])\n",
        "#4\n",
        "print(arr2d[1,:])\n",
        "#5\n",
        "print(arr2d[2,1])"
      ],
      "metadata": {
        "colab": {
          "base_uri": "https://localhost:8080/"
        },
        "id": "LiuxT5ZLAqQf",
        "outputId": "3ac701f0-6c04-4413-d8fd-16b410b3345b"
      },
      "execution_count": null,
      "outputs": [
        {
          "output_type": "stream",
          "name": "stdout",
          "text": [
            "10\n",
            "50\n",
            "[1 2 3]\n",
            "[4 5 6]\n",
            "8\n"
          ]
        }
      ]
    },
    {
      "cell_type": "markdown",
      "source": [
        "## **2. 슬라이싱(Slicing)**\n",
        "###**Q6**\n",
        "아래 배열에서 첫 번째부터 세 번째 요소(인덱스 0~2)를 출력하라.\n",
        "\n",
        "```python\n",
        "arr = np.array([10, 20, 30, 40, 50])\n",
        "```\n",
        "\n",
        "###**Q7**\n",
        "위 배열에서 마지막 3개의 요소를 출력하라.\n",
        "\n",
        "###**Q8**\n",
        "아래 2차원 배열에서 첫 번째 행의 첫 번째와 두 번째 요소만 출력하라.\n",
        "\n",
        "```python\n",
        "arr2d = np.array([[1, 2, 3],\n",
        "                  [4, 5, 6],\n",
        "                  [7, 8, 9]])\n",
        "```\n",
        "###**Q9**\n",
        "위 배열에서 마지막 두 행을 출력하라.\n",
        "\n",
        "###**Q10**\n",
        "위 배열에서 첫 번째, 두 번째 열만 선택하여 새로운 배열을 만들어라."
      ],
      "metadata": {
        "id": "TqE-9EchBbo9"
      }
    },
    {
      "cell_type": "code",
      "source": [
        "#6\n",
        "arr = np.array([10, 20, 30, 40, 50])\n",
        "print(arr[0:3])\n",
        "#7\n",
        "print(arr[-3:])\n",
        "#8\n",
        "arr2d = np.array([[1, 2, 3],\n",
        "                  [4, 5, 6],\n",
        "                  [7, 8, 9]])\n",
        "print(arr2d[0,:2])\n",
        "#9\n",
        "print(arr2d[1:,:])\n",
        "#10\n",
        "new_arr = arr2d[:2,:]\n",
        "print(new_arr)"
      ],
      "metadata": {
        "colab": {
          "base_uri": "https://localhost:8080/"
        },
        "id": "WUZAkTtzBs8m",
        "outputId": "989c3ee0-123a-4acf-c9e3-497f8f305986"
      },
      "execution_count": null,
      "outputs": [
        {
          "output_type": "stream",
          "name": "stdout",
          "text": [
            "[10 20 30]\n",
            "[30 40 50]\n",
            "[1 2]\n",
            "[[4 5 6]\n",
            " [7 8 9]]\n",
            "[[1 2 3]\n",
            " [4 5 6]]\n"
          ]
        }
      ]
    },
    {
      "cell_type": "markdown",
      "source": [
        "##**3. 불리언 인덱싱(Boolean Indexing)**\n",
        "###**Q11**\n",
        "아래 배열에서 5보다 큰 값만 출력하라.\n",
        "\n",
        "```python\n",
        "arr = np.array([1, 3, 5, 7, 9, 10, 12])\n",
        "```\n",
        "###**Q12**\n",
        "위 배열에서 짝수만 출력하라.\n",
        "\n",
        "###**Q13**\n",
        "아래 2차원 배열에서 10보다 큰 값만 출력하라.\n",
        "\n",
        "```python\n",
        "arr2d = np.array([[5, 10, 15],\n",
        "                  [20, 25, 30],\n",
        "                  [35, 40, 45]])\n",
        "```\n",
        "###**Q14**\n",
        "위 배열에서 30 이상인 값만 출력하라.\n",
        "\n",
        "###**Q15**\n",
        "위 배열에서 20 이상인 값은 True, 그렇지 않은 값은 False로 변환한 마스크 배열을 생성하라."
      ],
      "metadata": {
        "id": "rfHi83ylDLG4"
      }
    },
    {
      "cell_type": "code",
      "source": [
        "#11\n",
        "arr = np.array([1, 3, 5, 7, 9, 10, 12])\n",
        "print(arr[arr>5])\n",
        "#12\n",
        "print(arr[arr%2 == 0])\n",
        "#13\n",
        "arr2d = np.array([[5, 10, 15],\n",
        "                  [20, 25, 30],\n",
        "                  [35, 40, 45]])\n",
        "print(arr2d[arr2d>10])\n",
        "#14\n",
        "print(arr2d[arr2d>30])\n",
        "#15\n",
        "print(arr2d>20)"
      ],
      "metadata": {
        "colab": {
          "base_uri": "https://localhost:8080/"
        },
        "id": "HesCMlN8DVhc",
        "outputId": "a2e65634-c2a1-4b23-b2e6-bb53dfae9818"
      },
      "execution_count": null,
      "outputs": [
        {
          "output_type": "stream",
          "name": "stdout",
          "text": [
            "[ 7  9 10 12]\n",
            "[10 12]\n",
            "[15 20 25 30 35 40 45]\n",
            "[35 40 45]\n",
            "[[False False False]\n",
            " [False  True  True]\n",
            " [ True  True  True]]\n"
          ]
        }
      ]
    },
    {
      "cell_type": "markdown",
      "source": [
        "##**4. 팬시 인덱싱(Fancy Indexing)**\n",
        "###**Q16**\n",
        "아래 배열에서 인덱스 0, 2, 4에 해당하는 요소만 출력하라.\n",
        "\n",
        "```python\n",
        "arr = np.array([10, 20, 30, 40, 50])\n",
        "```\n",
        "###**Q17**\n",
        "아래 2차원 배열에서 첫 번째와 세 번째 행만 선택하여 새로운 배열을 만들어라.\n",
        "\n",
        "```python\n",
        "arr2d = np.array([[1, 2, 3],\n",
        "                  [4, 5, 6],\n",
        "                  [7, 8, 9]])\n",
        "```\n",
        "###**Q18**💥\n",
        "아래 배열에서 [2, 1, 0] 순서로 행을 재배열하여 새로운 배열을 만들어라.\n",
        "\n",
        "```python\n",
        "arr2d = np.array([[10, 20, 30],\n",
        "                  [40, 50, 60],\n",
        "                  [70, 80, 90]])\n",
        "```\n",
        "\n",
        "###**Q19**\n",
        "아래 배열에서 특정 열(0번째와 2번째 열)만 선택하여 새로운 배열을 만들어라.\n",
        "\n",
        "```python\n",
        "arr2d = np.array([[1, 2, 3],\n",
        "                  [4, 5, 6],\n",
        "                  [7, 8, 9]])\n",
        "```\n",
        "###**Q20**\n",
        "아래 배열에서 첫 번째 열과 마지막 열을 선택하여 새로운 배열을 만들어라.\n",
        "\n",
        "```python\n",
        "arr2d = np.array([[5, 10, 15],\n",
        "                  [20, 25, 30],\n",
        "                  [35, 40, 45]])\n",
        "```"
      ],
      "metadata": {
        "id": "rIfc28hYEfC-"
      }
    },
    {
      "cell_type": "code",
      "source": [
        "#16\n",
        "arr = np.array([10, 20, 30, 40, 50])\n",
        "print(arr[[0,2,4]])\n",
        "#17\n",
        "arr2d = np.array([[1, 2, 3],\n",
        "                  [4, 5, 6],\n",
        "                  [7, 8, 9]])\n",
        "new_arr = arr2d[[0,2],:]\n",
        "print(new_arr)\n",
        "#18\n",
        "new_arr = arr2d[[2,1,0],:]\n",
        "print(new_arr)\n",
        "#19\n",
        "new_arr = arr2d[[0,2],:]\n",
        "print(new_arr)\n",
        "#20\n",
        "arr2d = np.array([[5, 10, 15],\n",
        "                  [20, 25, 30],\n",
        "                  [35, 40, 45]])\n",
        "new_arr = arr2d[:,[0,-1]]\n",
        "print(new_arr)"
      ],
      "metadata": {
        "colab": {
          "base_uri": "https://localhost:8080/"
        },
        "id": "OlGHjP5FEvlC",
        "outputId": "1496f156-9479-4cba-9a25-748b8762e8c4"
      },
      "execution_count": null,
      "outputs": [
        {
          "output_type": "stream",
          "name": "stdout",
          "text": [
            "[10 30 50]\n",
            "[[1 2 3]\n",
            " [7 8 9]]\n",
            "[[7 8 9]\n",
            " [4 5 6]\n",
            " [1 2 3]]\n",
            "[[1 2 3]\n",
            " [7 8 9]]\n",
            "[[ 5 15]\n",
            " [20 30]\n",
            " [35 45]]\n"
          ]
        }
      ]
    },
    {
      "cell_type": "markdown",
      "source": [
        "# Section 3: N차원 배열 연산법 - 학습 확인 문제\n",
        "\n",
        "## 문제 1: 배열 생성 및 기본 연산\n",
        "\n",
        "1. 1부터 9까지의 정수를 요소로 갖는 1차원 NumPy 배열 `a`를 생성하시오.\n",
        "2. 배열 `a`의 요소들을 3x3 형태의 2차원 배열로 변형하시오.\n",
        "3. 배열 `a`의 모든 요소에 2를 더한 결과를 출력하시오.\n",
        "4. 배열 `a`의 모든 요소를 2로 나눈 결과를 출력하시오."
      ],
      "metadata": {
        "id": "2RGCuJiqLs6Q"
      }
    },
    {
      "cell_type": "code",
      "source": [
        "#1\n",
        "import numpy as np\n",
        "a = np.arange(1,10)\n",
        "print(a)\n",
        "#2\n",
        "a=a.reshape(3,3)\n",
        "print(a)\n",
        "#3\n",
        "print(a+2)\n",
        "#4\n",
        "print(a/2)"
      ],
      "metadata": {
        "id": "M4dOoU9dD3ir",
        "colab": {
          "base_uri": "https://localhost:8080/"
        },
        "outputId": "edbe85db-36aa-446a-c6e5-18f7bcafd1aa"
      },
      "execution_count": null,
      "outputs": [
        {
          "output_type": "stream",
          "name": "stdout",
          "text": [
            "[1 2 3 4 5 6 7 8 9]\n",
            "[[1 2 3]\n",
            " [4 5 6]\n",
            " [7 8 9]]\n",
            "[[ 3  4  5]\n",
            " [ 6  7  8]\n",
            " [ 9 10 11]]\n",
            "[[0.5 1.  1.5]\n",
            " [2.  2.5 3. ]\n",
            " [3.5 4.  4.5]]\n"
          ]
        }
      ]
    },
    {
      "cell_type": "markdown",
      "source": [
        "## 문제 2: 배열 간 연산\n",
        "\n",
        "1. 3x3 형태의 배열 `b`를 생성하되, 모든 요소가 1인 배열로 만드시오.\n",
        "2. 배열 `a`와 배열 `b`를 더한 결과를 출력하시오.\n",
        "3. 배열 `a`와 배열 `b`를 요소별로 곱한 결과를 출력하시오.\n",
        "4. 배열 `a`의 각 행의 합을 계산하시오.\n",
        "5. 배열 `a`의 각 열의 합을 계산하시오.\n",
        "\n",
        "흔히 혼동되는 표현이라 명확히 할 필요가 있습니다.\n",
        "NumPy에서는 일반적으로 다음과 같이 표현합니다.\n",
        "\n",
        "- 배열의 각 행의 합을 구하시오:\n",
        "→ 각각의 행 안에 있는 요소들의 합을 구하라는 의미입니다.\n",
        "즉, 행별로 내부 요소끼리 합산하는 것입니다.\n",
        "\n",
        "- 배열의 각 열의 합을 구하시오:\n",
        "→ 각각의 열 안에 있는 요소들의 합을 구하라는 의미입니다.\n",
        "즉, 열별로 내부 요소끼리 합산하는 것입니다."
      ],
      "metadata": {
        "id": "nVsCL7DXN5SQ"
      }
    },
    {
      "cell_type": "code",
      "source": [
        "#1\n",
        "print(a)\n",
        "b = np.ones((3,3))\n",
        "print(b)\n",
        "#2\n",
        "print(a+b)\n",
        "#3\n",
        "print(a@b)\n",
        "print(a.dot(b))\n",
        "#4\n",
        "print(np.sum(a,axis=1))\n",
        "#5\n",
        "print(np.sum(a,axis=0))"
      ],
      "metadata": {
        "colab": {
          "base_uri": "https://localhost:8080/"
        },
        "id": "PzBNiaXIN6v4",
        "outputId": "90aa5278-1cae-4dc2-8262-011beefe17fa"
      },
      "execution_count": null,
      "outputs": [
        {
          "output_type": "stream",
          "name": "stdout",
          "text": [
            "[[1 2 3]\n",
            " [4 5 6]\n",
            " [7 8 9]]\n",
            "[[1. 1. 1.]\n",
            " [1. 1. 1.]\n",
            " [1. 1. 1.]]\n",
            "[[ 2.  3.  4.]\n",
            " [ 5.  6.  7.]\n",
            " [ 8.  9. 10.]]\n",
            "[[ 6.  6.  6.]\n",
            " [15. 15. 15.]\n",
            " [24. 24. 24.]]\n",
            "[[ 6.  6.  6.]\n",
            " [15. 15. 15.]\n",
            " [24. 24. 24.]]\n",
            "[ 6 15 24]\n",
            "[12 15 18]\n"
          ]
        }
      ]
    },
    {
      "cell_type": "markdown",
      "source": [
        "## 문제 3: 브로드캐스팅\n",
        "\n",
        "1. 배열 `a`의 각 행에 배열 `[1, 0, 1]`을 더한 결과를 출력하시오.\n",
        "2. 배열 `a`의 각 열에 배열 `[1, 2, 3]`을 더한 결과를 출력하시오.\n",
        "3. 배열 `a`의 각 요소에 10을 곱한 결과를 출력하시오."
      ],
      "metadata": {
        "id": "UhsSpxeQN7IG"
      }
    },
    {
      "cell_type": "code",
      "source": [
        "print(a)\n",
        "#1\n",
        "print(a+np.array([1,0,1]))\n",
        "#2\n",
        "print(a+np.array([[1],\n",
        "                  [2],\n",
        "                  [3]]))\n",
        "#3\n",
        "print(a*10)"
      ],
      "metadata": {
        "colab": {
          "base_uri": "https://localhost:8080/"
        },
        "id": "J0a2jKQuN9eu",
        "outputId": "afa7d2c7-e705-4335-e26d-c038d89119c3"
      },
      "execution_count": null,
      "outputs": [
        {
          "output_type": "stream",
          "name": "stdout",
          "text": [
            "[[1 2 3]\n",
            " [4 5 6]\n",
            " [7 8 9]]\n",
            "[[ 2  2  4]\n",
            " [ 5  5  7]\n",
            " [ 8  8 10]]\n",
            "[[ 2  3  4]\n",
            " [ 6  7  8]\n",
            " [10 11 12]]\n",
            "[[10 20 30]\n",
            " [40 50 60]\n",
            " [70 80 90]]\n"
          ]
        }
      ]
    },
    {
      "cell_type": "markdown",
      "source": [
        "## 문제 4: 집계 함수\n",
        "\n",
        "1. 배열 `a`의 모든 요소의 합을 계산하시오.\n",
        "2. 배열 `a`의 모든 요소의 평균을 계산하시오.\n",
        "3. 배열 `a`의 모든 요소의 최댓값과 최솟값을 구하시오.\n",
        "4. 배열 `a`의 각 행의 표준편차를 계산하시오."
      ],
      "metadata": {
        "id": "dlVdf5qLN9r9"
      }
    },
    {
      "cell_type": "code",
      "source": [
        "print(a)\n",
        "#1\n",
        "print(a.sum())\n",
        "#2\n",
        "print(a.mean())\n",
        "#3\n",
        "print(a.max())\n",
        "print(a.min())\n",
        "#4\n",
        "print(a.std())"
      ],
      "metadata": {
        "colab": {
          "base_uri": "https://localhost:8080/"
        },
        "id": "bhRcy7WBN-82",
        "outputId": "f076aea8-77dc-41c8-810e-867c1d2bcd6e"
      },
      "execution_count": null,
      "outputs": [
        {
          "output_type": "stream",
          "name": "stdout",
          "text": [
            "[[1 2 3]\n",
            " [4 5 6]\n",
            " [7 8 9]]\n",
            "45\n",
            "5.0\n",
            "9\n",
            "1\n",
            "2.581988897471611\n"
          ]
        }
      ]
    },
    {
      "cell_type": "markdown",
      "source": [
        "## 문제 5: 배열 인덱싱 및 슬라이싱\n",
        "\n",
        "1. 배열 `a`에서 첫 번째 행을 추출하시오.\n",
        "2. 배열 `a`에서 두 번째 열을 추출하시오.\n",
        "3. 배열 `a`에서 첫 번째 행과 두 번째 행을 추출하시오.\n",
        "4. 배열 `a`에서 두 번째 열과 세 번째 열을 추출하시오.\n",
        "5. 배열 `a`에서 홀수 번째 행을 추출하시오."
      ],
      "metadata": {
        "id": "elRaHN4tN_Ge"
      }
    },
    {
      "cell_type": "code",
      "source": [
        "print(a)\n",
        "#1\n",
        "print(a[0])\n",
        "#2\n",
        "print(a[:,1])\n",
        "print(a[:,[1]])\n",
        "#3\n",
        "print(a[[0,1],:])\n",
        "#4\n",
        "print(a[:,[1,2]])\n",
        "#5\n",
        "print(a[[0,2],:])\n"
      ],
      "metadata": {
        "colab": {
          "base_uri": "https://localhost:8080/"
        },
        "id": "WmVQOxiUODRW",
        "outputId": "263ba217-7750-4a93-bdef-f4633442174f"
      },
      "execution_count": null,
      "outputs": [
        {
          "output_type": "stream",
          "name": "stdout",
          "text": [
            "[[1 2 3]\n",
            " [4 5 6]\n",
            " [7 8 9]]\n",
            "[1 2 3]\n",
            "[2 5 8]\n",
            "[[2]\n",
            " [5]\n",
            " [8]]\n",
            "[[1 2 3]\n",
            " [4 5 6]]\n",
            "[[2 3]\n",
            " [5 6]\n",
            " [8 9]]\n",
            "[[1 2 3]\n",
            " [7 8 9]]\n"
          ]
        }
      ]
    },
    {
      "cell_type": "markdown",
      "source": [
        "## 문제 6: 불리언 인덱싱\n",
        "\n",
        "1. 배열 `a`에서 5보다 큰 요소들만 추출하시오.\n",
        "2. 배열 `a`에서 짝수인 요소들만 추출하시오.\n",
        "3. 배열 `a`에서 3의 배수인 요소들만 추출하시오.\n"
      ],
      "metadata": {
        "id": "1ZcO62dwOBB-"
      }
    },
    {
      "cell_type": "code",
      "source": [
        "print(a)\n",
        "#1\n",
        "print(a[a>5])\n",
        "#2\n",
        "print(a[a%2==0])\n",
        "#3\n",
        "print(a[a%3==0])"
      ],
      "metadata": {
        "colab": {
          "base_uri": "https://localhost:8080/"
        },
        "id": "gVSj_dMjOEJ9",
        "outputId": "a10b2870-3351-43de-e63e-b78b26c292f4"
      },
      "execution_count": null,
      "outputs": [
        {
          "output_type": "stream",
          "name": "stdout",
          "text": [
            "[[1 2 3]\n",
            " [4 5 6]\n",
            " [7 8 9]]\n",
            "[6 7 8 9]\n",
            "[2 4 6 8]\n",
            "[3 6 9]\n"
          ]
        }
      ]
    },
    {
      "cell_type": "markdown",
      "source": [
        "# Section 4"
      ],
      "metadata": {
        "id": "n6v4Y6RyYKIr"
      }
    },
    {
      "cell_type": "markdown",
      "source": [
        "문제 1: 1차원 배열의 정렬\n",
        "다음과 같은 1차원 Numpy 배열이 있습니다:\n",
        "\n",
        "```python\n",
        "import numpy as np\n",
        "arr = np.array([5, 2, 9, 1, 7])\n",
        "```\n",
        "1. 이 배열을 오름차순으로 정렬하세요.\n",
        "2. 이 배열을 내림차순으로 정렬하세요."
      ],
      "metadata": {
        "id": "Mt2eRQrdYBbQ"
      }
    },
    {
      "cell_type": "code",
      "source": [
        "import numpy as np\n",
        "arr = np.array([5, 2, 9, 1, 7])\n",
        "#1\n",
        "arr = np.sort(arr)\n",
        "print(arr)\n",
        "#2\n",
        "arr = np.sort(arr)[::-1]\n",
        "print(arr)"
      ],
      "metadata": {
        "colab": {
          "base_uri": "https://localhost:8080/"
        },
        "id": "YpI3f700YBoZ",
        "outputId": "3d29bf18-5b83-4fae-ee4b-4a6752d9367f"
      },
      "execution_count": null,
      "outputs": [
        {
          "output_type": "stream",
          "name": "stdout",
          "text": [
            "[1 2 5 7 9]\n",
            "[9 7 5 2 1]\n"
          ]
        }
      ]
    },
    {
      "cell_type": "markdown",
      "source": [
        "##문제 2: 2차원 배열의 행별 정렬\n",
        "\n",
        "다음과 같은 2차원 Numpy 배열이 있습니다:\n",
        "\n",
        "```python\n",
        "import numpy as np\n",
        "\n",
        "arr = np.array([[3, 1, 2], [9, 7, 8], [6, 5, 4]])\n",
        "```\n",
        "(1) 각 행을 오름차순으로 정렬하세요.\n",
        "\n",
        "💥(2) 각 행을 내림차순으로 정렬하세요."
      ],
      "metadata": {
        "id": "l-9DEG4oYBuw"
      }
    },
    {
      "cell_type": "code",
      "source": [
        "import numpy as np\n",
        "\n",
        "arr = np.array([[3, 1, 2], [9, 7, 8], [6, 5, 4]])\n",
        "print(arr)\n",
        "#1\n",
        "arr = np.sort(arr,axis=1)\n",
        "print(arr)\n",
        "#2\n",
        "arr = np.sort(arr,axis=1)[:,::-1]\n",
        "print(arr)"
      ],
      "metadata": {
        "colab": {
          "base_uri": "https://localhost:8080/"
        },
        "id": "iZCgnh0cYB7a",
        "outputId": "3c8eb92d-6659-4d2f-98d0-9f77c2b0e9d5"
      },
      "execution_count": null,
      "outputs": [
        {
          "output_type": "stream",
          "name": "stdout",
          "text": [
            "[[3 1 2]\n",
            " [9 7 8]\n",
            " [6 5 4]]\n",
            "[[1 2 3]\n",
            " [7 8 9]\n",
            " [4 5 6]]\n",
            "[[3 2 1]\n",
            " [9 8 7]\n",
            " [6 5 4]]\n"
          ]
        }
      ]
    },
    {
      "cell_type": "markdown",
      "source": [
        "(1) 각 열을 오름차순으로 정렬하세요.\n",
        "\n",
        "(2) 각 열을 내림차순으로 정렬하세요."
      ],
      "metadata": {
        "id": "BP9q42BdZkE4"
      }
    },
    {
      "cell_type": "code",
      "source": [
        "arr = np.array([[3, 1, 2], [9, 7, 8], [6, 5, 4]])\n",
        "\n",
        "#1\n",
        "arr = np.sort(arr,axis=0)\n",
        "print(arr)\n",
        "#2\n",
        "arr = np.sort(arr,axis=0)[::-1,:]\n",
        "print(arr)"
      ],
      "metadata": {
        "colab": {
          "base_uri": "https://localhost:8080/"
        },
        "id": "pZ5RUz4oZoA3",
        "outputId": "0bbd6736-2c26-4192-cb9d-488ee64d602a"
      },
      "execution_count": null,
      "outputs": [
        {
          "output_type": "stream",
          "name": "stdout",
          "text": [
            "[[3 1 2]\n",
            " [6 5 4]\n",
            " [9 7 8]]\n",
            "[[9 7 8]\n",
            " [6 5 4]\n",
            " [3 1 2]]\n"
          ]
        }
      ]
    },
    {
      "cell_type": "markdown",
      "source": [
        "##문제 4: 다차원 배열에서 argsort 사용\n",
        "\n",
        "다음과 같은 2차원 Numpy 배열이 있습니다:\n",
        "\n",
        "```python\n",
        "import numpy as np\n",
        "\n",
        "arr = np.array([[10, 15, 12], [9, 8, 13], [14, 11, 7]])\n",
        "```\n",
        "(1) 각 행의 요소들을 오름차순으로 정렬했을 때의 인덱스를 반환하세요.\n",
        "\n",
        "(2) 각 열의 요소들을 오름차순으로 정렬했을 때의 인덱스를 반환하세요."
      ],
      "metadata": {
        "id": "3qaCF0QJa121"
      }
    },
    {
      "cell_type": "code",
      "source": [
        "import numpy as np\n",
        "\n",
        "arr = np.array([[10, 15, 12], [9, 8, 13], [14, 11, 7]])\n",
        "print(arr)\n",
        "#1\n",
        "print(np.argsort(arr,axis=1))\n",
        "#2\n",
        "print(np.argsort(arr,axis=0))"
      ],
      "metadata": {
        "colab": {
          "base_uri": "https://localhost:8080/"
        },
        "id": "ibsbw3-8a-P1",
        "outputId": "475d7c75-fe69-4077-a446-23f9c65300b6"
      },
      "execution_count": null,
      "outputs": [
        {
          "output_type": "stream",
          "name": "stdout",
          "text": [
            "[[10 15 12]\n",
            " [ 9  8 13]\n",
            " [14 11  7]]\n",
            "[[0 2 1]\n",
            " [1 0 2]\n",
            " [2 1 0]]\n",
            "[[1 1 2]\n",
            " [0 2 0]\n",
            " [2 0 1]]\n"
          ]
        }
      ]
    },
    {
      "cell_type": "markdown",
      "source": [
        "##문제 5: 다차원 배열의 부분 정렬\n",
        "다음과 같은 3차원 Numpy 배열이 있습니다:\n",
        "\n",
        "```python\n",
        "import numpy as np\n",
        "\n",
        "arr = np.array([[[1, 4, 2], [3, 6, 5]], [[9, 7, 8], [12, 10, 11]]])\n",
        "```\n",
        "(1) 배열의 마지막 축(axis=-1)을 따라 오름차순으로 정렬하세요.\n",
        "\n",
        "(2) 배열의 마지막 축(axis=-1)을 따라  내림차순으로 정렬하세요."
      ],
      "metadata": {
        "id": "rD_K6BHvbXWg"
      }
    },
    {
      "cell_type": "code",
      "source": [
        "import numpy as np\n",
        "\n",
        "arr = np.array([[[1, 4, 2],\n",
        "                 [3, 6, 5]],\n",
        "                [[9, 7, 8],\n",
        "                 [12, 10, 11]]])\n",
        "print(arr)\n",
        "print('------------------')\n",
        "#1\n",
        "print(np.sort(arr,axis=-1))\n",
        "print('------------------')\n",
        "#2\n",
        "print(np.sort(arr,axis=-1))\n",
        "print('------------------')\n",
        "#3\n",
        "print(np.sort(arr,axis=-1)[:,:,::-1])\n",
        "print('------------------')"
      ],
      "metadata": {
        "colab": {
          "base_uri": "https://localhost:8080/"
        },
        "id": "5ny8XGOebaOd",
        "outputId": "980f765b-c539-4d5c-853a-43fc4fa37951"
      },
      "execution_count": null,
      "outputs": [
        {
          "output_type": "stream",
          "name": "stdout",
          "text": [
            "[[[ 1  4  2]\n",
            "  [ 3  6  5]]\n",
            "\n",
            " [[ 9  7  8]\n",
            "  [12 10 11]]]\n",
            "------------------\n",
            "[[[ 1  2  4]\n",
            "  [ 3  5  6]]\n",
            "\n",
            " [[ 7  8  9]\n",
            "  [10 11 12]]]\n",
            "------------------\n",
            "[[[ 1  2  4]\n",
            "  [ 3  5  6]]\n",
            "\n",
            " [[ 7  8  9]\n",
            "  [10 11 12]]]\n",
            "------------------\n",
            "[[[ 4  2  1]\n",
            "  [ 6  5  3]]\n",
            "\n",
            " [[ 9  8  7]\n",
            "  [12 11 10]]]\n",
            "------------------\n"
          ]
        }
      ]
    },
    {
      "cell_type": "markdown",
      "source": [
        "# Section 5"
      ],
      "metadata": {
        "id": "dgupMkxxcH71"
      }
    },
    {
      "cell_type": "markdown",
      "source": [
        "###Q1\n",
        "아래 1차원 배열을 (3, 4) 형태의 2차원 배열로 변경하여 출력하라.\n",
        "\n",
        "```python\n",
        "arr = np.arange(12)\n",
        "```\n",
        "### Q2\n",
        "아래 1차원 배열을 (2, 3, 2) 형태의 3차원 배열로 변경하여 출력하라.\n",
        "\n",
        "```python\n",
        "arr = np.array([1, 2, 3, 4, 5, 6, 7, 8, 9, 10, 11, 12])\n",
        "```\n",
        "###Q3\n",
        "아래 배열을 reshape을 사용하여 (4, -1) 형태의 배열로 변경하라. 이때 -1을 사용하는 이유를 설명하라.\n",
        "\n",
        "```python\n",
        "arr = np.arange(20)\n",
        "```\n",
        "###Q4\n",
        "아래의 3차원 배열을 1차원 배열로 평탄화(flatten)하여 출력하라.\n",
        "\n",
        "```python\n",
        "arr3d = np.array([[[1, 2], [3, 4]],\n",
        "                  [[5, 6], [7, 8]]])\n",
        "```\n",
        "###Q5\n",
        "아래 배열을 평탄화 할 때 flatten() 메소드와 ravel() 메소드의 차이점을 설명하고, 각각의 메소드를 사용하여 평탄화된 배열을 출력하라.\n",
        "\n",
        "```python\n",
        "arr2d = np.array([[10, 20, 30], [40, 50, 60]])\n",
        "```"
      ],
      "metadata": {
        "id": "cICWCDfrczrL"
      }
    },
    {
      "cell_type": "code",
      "source": [
        "arr = np.arange(12)\n",
        "#1\n",
        "print(arr.reshape(3,4))\n",
        "#2\n",
        "print(arr.reshape(2,3,2))\n",
        "#3\n",
        "arr = np.arange(20)\n",
        "print(arr.reshape(4,-1))\n",
        "#4\n",
        "arr3d = np.array([[[1, 2], [3, 4]],\n",
        "                  [[5, 6], [7, 8]]])\n",
        "print(arr3d.reshape(-1))\n",
        "print(arr3d.ravel())\n",
        "#5\n",
        "arr2d = np.array([[10, 20, 30], [40, 50, 60]])\n",
        "\n",
        "# flatten과 ravel 적용\n",
        "flat_arr = arr2d.flatten()\n",
        "ravel_arr = arr2d.ravel()\n",
        "\n",
        "print(\"원본 arr2d:\\n\", arr2d)\n",
        "print(\"flatten 결과:\", flat_arr)\n",
        "print(\"ravel 결과:\", ravel_arr)\n",
        "\n",
        "# 원본 배열 arr2d를 수정\n",
        "arr2d[0, 0] = 99\n",
        "print(\"\\n원본 수정 후:\")\n",
        "print(\"arr2d:\\n\", arr2d)\n",
        "print(\"flatten 결과:\", flat_arr)  # 변화 없음\n",
        "print(\"ravel 결과:\", ravel_arr)   # 변화 있음"
      ],
      "metadata": {
        "colab": {
          "base_uri": "https://localhost:8080/"
        },
        "id": "flxe5Yngbdi6",
        "outputId": "84bb52d0-0ecc-4734-bbf7-6b86f21ae354"
      },
      "execution_count": null,
      "outputs": [
        {
          "output_type": "stream",
          "name": "stdout",
          "text": [
            "[[ 0  1  2  3]\n",
            " [ 4  5  6  7]\n",
            " [ 8  9 10 11]]\n",
            "[[[ 0  1]\n",
            "  [ 2  3]\n",
            "  [ 4  5]]\n",
            "\n",
            " [[ 6  7]\n",
            "  [ 8  9]\n",
            "  [10 11]]]\n",
            "[[ 0  1  2  3  4]\n",
            " [ 5  6  7  8  9]\n",
            " [10 11 12 13 14]\n",
            " [15 16 17 18 19]]\n",
            "[1 2 3 4 5 6 7 8]\n",
            "[1 2 3 4 5 6 7 8]\n",
            "원본 arr2d:\n",
            " [[10 20 30]\n",
            " [40 50 60]]\n",
            "flatten 결과: [10 20 30 40 50 60]\n",
            "ravel 결과: [10 20 30 40 50 60]\n",
            "\n",
            "원본 수정 후:\n",
            "arr2d:\n",
            " [[99 20 30]\n",
            " [40 50 60]]\n",
            "flatten 결과: [10 20 30 40 50 60]\n",
            "ravel 결과: [99 20 30 40 50 60]\n"
          ]
        }
      ]
    },
    {
      "cell_type": "markdown",
      "source": [
        "## **Section 6. N차원 배열의 병합(concatenate, vstack, hstack)**\n",
        "\n",
        "### **Q1**\n",
        "아래 두 배열을 **세로 방향(axis=0)** 으로 연결(concatenate)하여 하나의 배열을 생성하고 출력하라.\n",
        "\n",
        "```python\n",
        "import numpy as np\n",
        "\n",
        "arr1 = np.array([[1, 2, 3],\n",
        "                 [4, 5, 6]])\n",
        "\n",
        "arr2 = np.array([[7, 8, 9],\n",
        "                 [10, 11, 12]])\n",
        "```\n",
        "\n",
        "### **Q2**\n",
        "위의 두 배열을 가로 방향(axis=1) 으로 연결(concatenate)하여 하나의 배열을 생성하고 출력하라.\n",
        "\n",
        "### **Q3**\n",
        "np.vstack()과 np.hstack()의 차이점을 설명하고, 아래 배열을 각각 vstack과 hstack을 이용하여 병합한 결과를 출력하라.\n",
        "\n",
        "```python\n",
        "a = np.array([1, 2, 3])\n",
        "b = np.array([4, 5, 6])\n",
        "```\n",
        "\n",
        "### **Q4**\n",
        "아래의 1차원 배열 3개를 세로 방향으로 연결하여 2차원 배열로 만든 후 출력하라. (단, vstack()을 사용하라.)\n",
        "\n",
        "```python\n",
        "arr1 = np.array([1, 2, 3])\n",
        "arr2 = np.array([4, 5, 6])\n",
        "arr3 = np.array([7, 8, 9])\n",
        "```\n",
        "\n",
        "### **Q5**\n",
        "아래의 2차원 배열 두 개를 hstack()을 사용하여 연결한 후, 새로 만들어진 배열의 shape를 출력하라.\n",
        "\n",
        "```python\n",
        "arr1 = np.ones((3, 2))\n",
        "arr2 = np.zeros((3, 3))\n",
        "```\n",
        "\n",
        "### **Q6**\n",
        "아래 두 배열을 연결할 때, 왜 axis=0 으로 연결하면 오류가 나는지 설명하고, 이를 수정하여 연결한 결과를 출력하라.\n",
        "\n",
        "```python\n",
        "arr1 = np.array([[1, 2, 3], [4, 5, 6]])\n",
        "arr2 = np.array([[7, 8], [9, 10]])\n",
        "```\n",
        "\n",
        "### **Q7**\n",
        "아래 배열을 열(column) 기준으로 3개로 나눈 후(split), 나누어진 각각의 배열을 출력하라.\n",
        "\n",
        "```python\n",
        "arr = np.array([[1, 2, 3, 4, 5, 6],\n",
        "                [7, 8, 9, 10, 11, 12]])\n",
        "```\n",
        "\n",
        "### **Q8**\n",
        "아래 배열을 행(row) 기준으로 2개로 나눈 후(split), 각각의 배열을 출력하라.\n",
        "\n",
        "```python\n",
        "arr = np.array([[10, 20, 30],\n",
        "                [40, 50, 60],\n",
        "                [70, 80, 90],\n",
        "                [100, 110, 120]])\n",
        "```\n",
        "\n",
        "### **Q9**\n",
        "아래 배열을 열 기준으로 np.split()이 아니라 np.hsplit()을 사용하여 두 배열로 나눈 뒤, 각각의 배열을 출력하라. 그리고 np.split()과 np.hsplit()의 차이점을 간략히 설명하라.\n",
        "\n",
        "```python\n",
        "arr = np.array([[1, 2, 3, 4],\n",
        "                [5, 6, 7, 8]])\n",
        "```\n",
        "\n",
        "### **Q10**\n",
        "다음의 3차원 배열 두 개를 axis=2 축 방향으로 연결(concatenate)하여 하나의 배열로 만든 뒤, 결과 배열의 shape를 출력하라.\n",
        "\n",
        "```python\n",
        "arr1 = np.ones((2, 2, 2))\n",
        "arr2 = np.zeros((2, 2, 3))\n",
        "```\n"
      ],
      "metadata": {
        "id": "2cEatZPYhhyV"
      }
    },
    {
      "cell_type": "code",
      "source": [
        "#1\n",
        "import numpy as np\n",
        "\n",
        "arr1 = np.array([[1, 2, 3],\n",
        "                 [4, 5, 6]])\n",
        "\n",
        "arr2 = np.array([[7, 8, 9],\n",
        "                 [10, 11, 12]])\n",
        "arr3 = np.concatenate((arr1,arr2),axis=0)\n",
        "print(arr3)\n",
        "#2\n",
        "arr4 = np.concatenate((arr1,arr2),axis=1)\n",
        "print(arr4)\n",
        "#3\n",
        "a = np.array([1, 2, 3])\n",
        "b = np.array([4, 5, 6])\n",
        "print(np.vstack((a,b)))\n",
        "print(np.hstack((a,b)))\n",
        "#4\n",
        "arr1 = np.array([1, 2, 3])\n",
        "arr2 = np.array([4, 5, 6])\n",
        "arr3 = np.array([7, 8, 9])\n",
        "arr4 = np.vstack((arr1,arr2,arr3))\n",
        "print(arr4)\n",
        "#5\n",
        "arr1 = np.ones((3,2))\n",
        "arr2 = np.zeros((3,3))\n",
        "arr3 = np.hstack((arr1,arr2))\n",
        "print(arr3,arr3.shape)\n",
        "#6\n",
        "arr1 = np.array([[1, 2, 3], [4, 5, 6]])\n",
        "arr2 = np.array([[7, 8], [9, 10]])\n",
        "arr3 = np.hstack((arr1,arr2))\n",
        "print(arr3)\n",
        "#7\n",
        "arr = np.array([[1, 2, 3, 4, 5, 6],\n",
        "                [7, 8, 9, 10, 11, 12]])\n",
        "arr2 = np.split(arr,3,axis=1)\n",
        "print(arr2)\n",
        "arr2 = np.hsplit(arr,3) ## 주의\n",
        "print(arr2)\n",
        "#8\n",
        "arr = np.array([[10, 20, 30],\n",
        "                [40, 50, 60],\n",
        "                [70, 80, 90],\n",
        "                [100, 110, 120]])\n",
        "arr2 = np.split(arr,2,axis=0)\n",
        "print(arr2)\n",
        "arr2 = np.vsplit(arr,2)\n",
        "print(arr2)\n",
        "#9\n",
        "arr = np.array([[1, 2, 3, 4],\n",
        "                [5, 6, 7, 8]])\n",
        "arr1,arr2 = np.hsplit(arr,2)\n",
        "print(\"arr1: \",arr1,\"\\narr2:\",arr2)\n",
        "#10\n",
        "arr1 = np.ones((2, 2, 2))\n",
        "arr2 = np.zeros((2, 2, 3))\n",
        "arr3 = np.concatenate((arr1,arr2),axis=2)\n",
        "print(arr3)\n",
        "print(arr3.shape)"
      ],
      "metadata": {
        "colab": {
          "base_uri": "https://localhost:8080/"
        },
        "id": "zhoTBLJgiHd-",
        "outputId": "793cf3b3-b68b-4212-c144-d944465274fe"
      },
      "execution_count": null,
      "outputs": [
        {
          "output_type": "stream",
          "name": "stdout",
          "text": [
            "[[ 1  2  3]\n",
            " [ 4  5  6]\n",
            " [ 7  8  9]\n",
            " [10 11 12]]\n",
            "[[ 1  2  3  7  8  9]\n",
            " [ 4  5  6 10 11 12]]\n",
            "[[1 2 3]\n",
            " [4 5 6]]\n",
            "[1 2 3 4 5 6]\n",
            "[[1 2 3]\n",
            " [4 5 6]\n",
            " [7 8 9]]\n",
            "[[1. 1. 0. 0. 0.]\n",
            " [1. 1. 0. 0. 0.]\n",
            " [1. 1. 0. 0. 0.]] (3, 5)\n",
            "[[ 1  2  3  7  8]\n",
            " [ 4  5  6  9 10]]\n",
            "[array([[1, 2],\n",
            "       [7, 8]]), array([[ 3,  4],\n",
            "       [ 9, 10]]), array([[ 5,  6],\n",
            "       [11, 12]])]\n",
            "[array([[1, 2],\n",
            "       [7, 8]]), array([[ 3,  4],\n",
            "       [ 9, 10]]), array([[ 5,  6],\n",
            "       [11, 12]])]\n",
            "[array([[10, 20, 30],\n",
            "       [40, 50, 60]]), array([[ 70,  80,  90],\n",
            "       [100, 110, 120]])]\n",
            "[array([[10, 20, 30],\n",
            "       [40, 50, 60]]), array([[ 70,  80,  90],\n",
            "       [100, 110, 120]])]\n",
            "arr1:  [[1 2]\n",
            " [5 6]] \n",
            "arr2: [[3 4]\n",
            " [7 8]]\n",
            "[[[1. 1. 0. 0. 0.]\n",
            "  [1. 1. 0. 0. 0.]]\n",
            "\n",
            " [[1. 1. 0. 0. 0.]\n",
            "  [1. 1. 0. 0. 0.]]]\n",
            "(2, 2, 5)\n"
          ]
        }
      ]
    },
    {
      "cell_type": "code",
      "source": [],
      "metadata": {
        "id": "QTdOnY9Wd7AA"
      },
      "execution_count": null,
      "outputs": []
    }
  ]
}