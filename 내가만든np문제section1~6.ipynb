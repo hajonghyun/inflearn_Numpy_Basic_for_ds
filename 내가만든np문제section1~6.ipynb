{
  "nbformat": 4,
  "nbformat_minor": 0,
  "metadata": {
    "colab": {
      "provenance": [],
      "authorship_tag": "ABX9TyPUhjKsEWw8EuDlxQF+L3e6",
      "include_colab_link": true
    },
    "kernelspec": {
      "name": "python3",
      "display_name": "Python 3"
    },
    "language_info": {
      "name": "python"
    }
  },
  "cells": [
    {
      "cell_type": "markdown",
      "metadata": {
        "id": "view-in-github",
        "colab_type": "text"
      },
      "source": [
        "<a href=\"https://colab.research.google.com/github/hajonghyun/inflearn_Numpy_Basic_for_ds/blob/main/my_created_np_problems.ipynb\" target=\"_parent\"><img src=\"https://colab.research.google.com/assets/colab-badge.svg\" alt=\"Open In Colab\"/></a>"
      ]
    },
    {
      "cell_type": "markdown",
      "source": [
        "# Section 1\n",
        "\n"
      ],
      "metadata": {
        "id": "EZ1jwkIRATVl"
      }
    },
    {
      "cell_type": "markdown",
      "source": [
        "# 📌 NumPy 기본 개념 확인 문제\n",
        "\n",
        "## **1. 배열의 기본 속성 확인**\n",
        "### **Q1**  \n",
        "3×4 크기의 `ndarray`를 생성한 후, **(행 개수, 열 개수)**를 출력하라.  \n",
        "\n",
        "### **Q2**  \n",
        "위에서 생성한 `ndarray`의 **차원 수**를 출력하라.  \n",
        "\n",
        "### **Q3**  \n",
        "위에서 생성한 `ndarray`의 **전체 요소 개수**를 출력하라.  \n",
        "\n",
        "### **Q4**  \n",
        "위에서 생성한 `ndarray`의 **데이터 타입**을 출력하라.  \n",
        "\n",
        "### **Q5**  \n",
        "1부터 12까지의 정수를 가지는 \\(3 \\times 4\\) 배열을 생성하고, 이를 **0부터 시작하는 인덱스를 사용하여 (2,3) 위치의 요소를 출력하라.**  \n",
        "\n",
        "---\n"
      ],
      "metadata": {
        "id": "ZSfJuSfT7umZ"
      }
    },
    {
      "cell_type": "code",
      "execution_count": 3,
      "metadata": {
        "colab": {
          "base_uri": "https://localhost:8080/"
        },
        "id": "1pcg6_z97spC",
        "outputId": "dc330e60-fbed-4c21-bcba-b340bffb2ec2"
      },
      "outputs": [
        {
          "output_type": "stream",
          "name": "stdout",
          "text": [
            "(3, 4)\n",
            "2\n",
            "12\n",
            "int64\n",
            "11\n"
          ]
        }
      ],
      "source": [
        "import numpy as np\n",
        "\n",
        "arr = np.arange(0,12).reshape(3,4)\n",
        "#1\n",
        "print(arr.shape)\n",
        "#2\n",
        "print(arr.ndim)\n",
        "#3\n",
        "print(arr.size)\n",
        "#4\n",
        "print(arr.dtype)\n",
        "#5\n",
        "print(arr[2,3])"
      ]
    },
    {
      "cell_type": "markdown",
      "source": [
        "## **2. 다양한 배열 생성 방법**\n",
        "### **Q6**  \n",
        "모든 요소가 0인 \\(2 \\times 5\\) 크기의 배열을 생성하라.  \n",
        "\n",
        "### **Q7**  \n",
        "모든 요소가 1인 \\(3 \\times 3\\) 크기의 배열을 생성하라.  \n",
        "\n",
        "### **Q8**  \n",
        "모든 요소가 7인 \\(4 \\times 2\\) 크기의 배열을 생성하라.  \n",
        "\n",
        "### **Q9**  \n",
        "0부터 19까지의 숫자가 포함된 1차원 배열을 생성하고, 이를 \\(4 \\times 5\\) 형태의 2차원 배열로 변환하라.  \n",
        "\n",
        "### **Q10**  \n",
        "5 이상 10 미만의 난수를 가지는 \\(3 \\times 3\\) 배열을 생성하라."
      ],
      "metadata": {
        "id": "ERIAwwme9MnE"
      }
    },
    {
      "cell_type": "code",
      "source": [
        "#6\n",
        "arr = np.zeros((2,5)) # 두개임에 주의\n",
        "print(arr)\n",
        "#7\n",
        "arr = np.ones((3,3))\n",
        "print(arr)\n",
        "#8\n",
        "arr=np.full((4,2),7)\n",
        "#9\n",
        "arr=np.arange(0,20).reshape(4,5)\n",
        "print(arr)\n",
        "#10\n",
        "arr=np.random.uniform(5,10,(3,3))\n",
        "print(arr)"
      ],
      "metadata": {
        "colab": {
          "base_uri": "https://localhost:8080/"
        },
        "id": "5tpHXYrD9PTF",
        "outputId": "ddeeed17-e484-4a4a-bc73-84e619f5e2ad"
      },
      "execution_count": 8,
      "outputs": [
        {
          "output_type": "stream",
          "name": "stdout",
          "text": [
            "[[0. 0. 0. 0. 0.]\n",
            " [0. 0. 0. 0. 0.]]\n",
            "[[1. 1. 1.]\n",
            " [1. 1. 1.]\n",
            " [1. 1. 1.]]\n",
            "[[ 0  1  2  3  4]\n",
            " [ 5  6  7  8  9]\n",
            " [10 11 12 13 14]\n",
            " [15 16 17 18 19]]\n",
            "[[6.10586929 7.25183399 9.64694203]\n",
            " [9.80268394 5.8145692  6.63355359]\n",
            " [9.4621138  9.51575184 9.73073528]]\n"
          ]
        }
      ]
    },
    {
      "cell_type": "markdown",
      "source": [
        "---\n",
        "# Section 2"
      ],
      "metadata": {
        "id": "OjjjyehJAXEQ"
      }
    },
    {
      "cell_type": "markdown",
      "source": [
        "# 📌 NumPy 인덱싱(Indexing) 문제\n",
        "\n",
        "## **1. 기본 인덱싱**\n",
        "### **Q1**  \n",
        "아래 배열이 주어졌을 때, 첫 번째 요소를 출력하라.  \n",
        "\n",
        "```python\n",
        "arr = np.array([10, 20, 30, 40, 50])\n",
        "```\n",
        "\n",
        "### **Q2**\n",
        "위 배열에서 마지막 요소를 출력하라.\n",
        "\n",
        "### **Q3**\n",
        "아래 2차원 배열에서 첫 번째 행을 출력하라.\n",
        "\n",
        "```python\n",
        "\n",
        "arr2d = np.array([[1, 2, 3],\n",
        "                  [4, 5, 6],\n",
        "                  [7, 8, 9]])\n",
        "```\n",
        "### **Q4**\n",
        "위 배열에서 두 번째 행의 모든 요소를 출력하라.\n",
        "\n",
        "### **Q5**\n",
        "위 배열에서 세 번째 행의 두 번째 요소(즉, 8)를 출력하라."
      ],
      "metadata": {
        "id": "l5sj1UKhAYAP"
      }
    },
    {
      "cell_type": "code",
      "source": [
        "#1\n",
        "import numpy as np\n",
        "arr = np.array([10, 20, 30, 40, 50])\n",
        "print(arr[0])\n",
        "#2\n",
        "print(arr[-1])\n",
        "#3\n",
        "arr2d = np.array([[1, 2, 3],\n",
        "                  [4, 5, 6],\n",
        "                  [7, 8, 9]])\n",
        "print(arr2d[0,:])\n",
        "#4\n",
        "print(arr2d[1,:])\n",
        "#5\n",
        "print(arr2d[2,1])"
      ],
      "metadata": {
        "colab": {
          "base_uri": "https://localhost:8080/"
        },
        "id": "LiuxT5ZLAqQf",
        "outputId": "3ac701f0-6c04-4413-d8fd-16b410b3345b"
      },
      "execution_count": 11,
      "outputs": [
        {
          "output_type": "stream",
          "name": "stdout",
          "text": [
            "10\n",
            "50\n",
            "[1 2 3]\n",
            "[4 5 6]\n",
            "8\n"
          ]
        }
      ]
    },
    {
      "cell_type": "markdown",
      "source": [
        "## **2. 슬라이싱(Slicing)**\n",
        "###**Q6**\n",
        "아래 배열에서 첫 번째부터 세 번째 요소(인덱스 0~2)를 출력하라.\n",
        "\n",
        "```python\n",
        "arr = np.array([10, 20, 30, 40, 50])\n",
        "```\n",
        "\n",
        "###**Q7**\n",
        "위 배열에서 마지막 3개의 요소를 출력하라.\n",
        "\n",
        "###**Q8**\n",
        "아래 2차원 배열에서 첫 번째 행의 첫 번째와 두 번째 요소만 출력하라.\n",
        "\n",
        "```python\n",
        "arr2d = np.array([[1, 2, 3],\n",
        "                  [4, 5, 6],\n",
        "                  [7, 8, 9]])\n",
        "```\n",
        "###**Q9**\n",
        "위 배열에서 마지막 두 행을 출력하라.\n",
        "\n",
        "###**Q10**\n",
        "위 배열에서 첫 번째, 두 번째 열만 선택하여 새로운 배열을 만들어라."
      ],
      "metadata": {
        "id": "TqE-9EchBbo9"
      }
    },
    {
      "cell_type": "code",
      "source": [
        "#6\n",
        "arr = np.array([10, 20, 30, 40, 50])\n",
        "print(arr[0:3])\n",
        "#7\n",
        "print(arr[-3:])\n",
        "#8\n",
        "arr2d = np.array([[1, 2, 3],\n",
        "                  [4, 5, 6],\n",
        "                  [7, 8, 9]])\n",
        "print(arr2d[0,:2])\n",
        "#9\n",
        "print(arr2d[1:,:])\n",
        "#10\n",
        "new_arr = arr2d[:2,:]\n",
        "print(new_arr)"
      ],
      "metadata": {
        "colab": {
          "base_uri": "https://localhost:8080/"
        },
        "id": "WUZAkTtzBs8m",
        "outputId": "989c3ee0-123a-4acf-c9e3-497f8f305986"
      },
      "execution_count": 19,
      "outputs": [
        {
          "output_type": "stream",
          "name": "stdout",
          "text": [
            "[10 20 30]\n",
            "[30 40 50]\n",
            "[1 2]\n",
            "[[4 5 6]\n",
            " [7 8 9]]\n",
            "[[1 2 3]\n",
            " [4 5 6]]\n"
          ]
        }
      ]
    },
    {
      "cell_type": "markdown",
      "source": [
        "##**3. 불리언 인덱싱(Boolean Indexing)**\n",
        "###**Q11**\n",
        "아래 배열에서 5보다 큰 값만 출력하라.\n",
        "\n",
        "```python\n",
        "arr = np.array([1, 3, 5, 7, 9, 10, 12])\n",
        "```\n",
        "###**Q12**\n",
        "위 배열에서 짝수만 출력하라.\n",
        "\n",
        "###**Q13**\n",
        "아래 2차원 배열에서 10보다 큰 값만 출력하라.\n",
        "\n",
        "```python\n",
        "arr2d = np.array([[5, 10, 15],\n",
        "                  [20, 25, 30],\n",
        "                  [35, 40, 45]])\n",
        "```\n",
        "###**Q14**\n",
        "위 배열에서 30 이상인 값만 출력하라.\n",
        "\n",
        "###**Q15**\n",
        "위 배열에서 20 이상인 값은 True, 그렇지 않은 값은 False로 변환한 마스크 배열을 생성하라."
      ],
      "metadata": {
        "id": "rfHi83ylDLG4"
      }
    },
    {
      "cell_type": "code",
      "source": [
        "#11\n",
        "arr = np.array([1, 3, 5, 7, 9, 10, 12])\n",
        "print(arr[arr>5])\n",
        "#12\n",
        "print(arr[arr%2 == 0])\n",
        "#13\n",
        "arr2d = np.array([[5, 10, 15],\n",
        "                  [20, 25, 30],\n",
        "                  [35, 40, 45]])\n",
        "print(arr2d[arr2d>10])\n",
        "#14\n",
        "print(arr2d[arr2d>30])\n",
        "#15\n",
        "print(arr2d>20)"
      ],
      "metadata": {
        "colab": {
          "base_uri": "https://localhost:8080/"
        },
        "id": "HesCMlN8DVhc",
        "outputId": "a2e65634-c2a1-4b23-b2e6-bb53dfae9818"
      },
      "execution_count": 30,
      "outputs": [
        {
          "output_type": "stream",
          "name": "stdout",
          "text": [
            "[ 7  9 10 12]\n",
            "[10 12]\n",
            "[15 20 25 30 35 40 45]\n",
            "[35 40 45]\n",
            "[[False False False]\n",
            " [False  True  True]\n",
            " [ True  True  True]]\n"
          ]
        }
      ]
    },
    {
      "cell_type": "markdown",
      "source": [
        "##**4. 팬시 인덱싱(Fancy Indexing)**\n",
        "###**Q16**\n",
        "아래 배열에서 인덱스 0, 2, 4에 해당하는 요소만 출력하라.\n",
        "\n",
        "```python\n",
        "arr = np.array([10, 20, 30, 40, 50])\n",
        "```\n",
        "###**Q17**\n",
        "아래 2차원 배열에서 첫 번째와 세 번째 행만 선택하여 새로운 배열을 만들어라.\n",
        "\n",
        "```python\n",
        "arr2d = np.array([[1, 2, 3],\n",
        "                  [4, 5, 6],\n",
        "                  [7, 8, 9]])\n",
        "```\n",
        "###**Q18**💥\n",
        "아래 배열에서 [2, 1, 0] 순서로 행을 재배열하여 새로운 배열을 만들어라.\n",
        "\n",
        "```python\n",
        "arr2d = np.array([[10, 20, 30],\n",
        "                  [40, 50, 60],\n",
        "                  [70, 80, 90]])\n",
        "```\n",
        "\n",
        "###**Q19**\n",
        "아래 배열에서 특정 열(0번째와 2번째 열)만 선택하여 새로운 배열을 만들어라.\n",
        "\n",
        "```python\n",
        "arr2d = np.array([[1, 2, 3],\n",
        "                  [4, 5, 6],\n",
        "                  [7, 8, 9]])\n",
        "```\n",
        "###**Q20**\n",
        "아래 배열에서 첫 번째 열과 마지막 열을 선택하여 새로운 배열을 만들어라.\n",
        "\n",
        "```python\n",
        "arr2d = np.array([[5, 10, 15],\n",
        "                  [20, 25, 30],\n",
        "                  [35, 40, 45]])\n",
        "```"
      ],
      "metadata": {
        "id": "rIfc28hYEfC-"
      }
    },
    {
      "cell_type": "code",
      "source": [
        "#16\n",
        "arr = np.array([10, 20, 30, 40, 50])\n",
        "print(arr[[0,2,4]])\n",
        "#17\n",
        "arr2d = np.array([[1, 2, 3],\n",
        "                  [4, 5, 6],\n",
        "                  [7, 8, 9]])\n",
        "new_arr = arr2d[[0,2],:]\n",
        "print(new_arr)\n",
        "#18\n",
        "new_arr = arr2d[[2,1,0],:]\n",
        "print(new_arr)\n",
        "#19\n",
        "new_arr = arr2d[[0,2],:]\n",
        "print(new_arr)\n",
        "#20\n",
        "arr2d = np.array([[5, 10, 15],\n",
        "                  [20, 25, 30],\n",
        "                  [35, 40, 45]])\n",
        "new_arr = arr2d[:,[0,-1]]\n",
        "print(new_arr)"
      ],
      "metadata": {
        "colab": {
          "base_uri": "https://localhost:8080/"
        },
        "id": "OlGHjP5FEvlC",
        "outputId": "1496f156-9479-4cba-9a25-748b8762e8c4"
      },
      "execution_count": 40,
      "outputs": [
        {
          "output_type": "stream",
          "name": "stdout",
          "text": [
            "[10 30 50]\n",
            "[[1 2 3]\n",
            " [7 8 9]]\n",
            "[[7 8 9]\n",
            " [4 5 6]\n",
            " [1 2 3]]\n",
            "[[1 2 3]\n",
            " [7 8 9]]\n",
            "[[ 5 15]\n",
            " [20 30]\n",
            " [35 45]]\n"
          ]
        }
      ]
    },
    {
      "cell_type": "code",
      "source": [],
      "metadata": {
        "id": "M4dOoU9dD3ir"
      },
      "execution_count": null,
      "outputs": []
    }
  ]
}
