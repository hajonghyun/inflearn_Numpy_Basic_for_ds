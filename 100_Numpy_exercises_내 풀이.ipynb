{
  "cells": [
    {
      "cell_type": "markdown",
      "metadata": {
        "id": "view-in-github",
        "colab_type": "text"
      },
      "source": [
        "<a href=\"https://colab.research.google.com/github/hajonghyun/inflearn_Numpy_Basic_for_ds/blob/main/100_Numpy_exercises_%EB%82%B4%20%ED%92%80%EC%9D%B4.ipynb\" target=\"_parent\"><img src=\"https://colab.research.google.com/assets/colab-badge.svg\" alt=\"Open In Colab\"/></a>"
      ]
    },
    {
      "cell_type": "markdown",
      "id": "d46e26d4",
      "metadata": {
        "id": "d46e26d4"
      },
      "source": [
        "# 100 numpy exercises\n",
        "\n",
        "This is a collection of exercises that have been collected in the numpy mailing list, on stack overflow\n",
        "and in the numpy documentation. The goal of this collection is to offer a quick reference for both old\n",
        "and new users but also to provide a set of exercises for those who teach.\n",
        "\n",
        "\n",
        "If you find an error or think you've a better way to solve some of them, feel\n",
        "free to open an issue at <https://github.com/rougier/numpy-100>."
      ]
    },
    {
      "cell_type": "markdown",
      "id": "d391e44c",
      "metadata": {
        "id": "d391e44c"
      },
      "source": [
        "File automatically generated. See the documentation to update questions/answers/hints programmatically."
      ]
    },
    {
      "cell_type": "markdown",
      "source": [
        "https://minding-deep-learning.tistory.com/55"
      ],
      "metadata": {
        "id": "oG2tF27BTB8v"
      },
      "id": "oG2tF27BTB8v"
    },
    {
      "cell_type": "markdown",
      "id": "1ce7c53f",
      "metadata": {
        "id": "1ce7c53f"
      },
      "source": [
        "Run the `initialize.py` module, then for each question you can query the\n",
        "answer or an hint with `hint(n)` or `answer(n)` for `n` question number."
      ]
    },
    {
      "cell_type": "code",
      "execution_count": null,
      "id": "2e6ba9b2",
      "metadata": {
        "id": "2e6ba9b2"
      },
      "outputs": [],
      "source": [
        "%run initialise.py"
      ]
    },
    {
      "cell_type": "markdown",
      "id": "dcc6b1ac",
      "metadata": {
        "id": "dcc6b1ac"
      },
      "source": [
        "#### 1. Import the numpy package under the name `np` (★☆☆)"
      ]
    },
    {
      "cell_type": "code",
      "execution_count": 1,
      "id": "6c52078e",
      "metadata": {
        "id": "6c52078e"
      },
      "outputs": [],
      "source": [
        "import numpy as np"
      ]
    },
    {
      "cell_type": "markdown",
      "id": "118ded29",
      "metadata": {
        "id": "118ded29"
      },
      "source": [
        "#### 2. Print the numpy version and the configuration (★☆☆)"
      ]
    },
    {
      "cell_type": "code",
      "execution_count": 2,
      "id": "023a2c52",
      "metadata": {
        "colab": {
          "base_uri": "https://localhost:8080/"
        },
        "id": "023a2c52",
        "outputId": "e4dc5f65-ae30-4bf9-a435-979decd63705"
      },
      "outputs": [
        {
          "output_type": "stream",
          "name": "stdout",
          "text": [
            "2.0.2\n"
          ]
        }
      ],
      "source": [
        "print(np.__version__)"
      ]
    },
    {
      "cell_type": "markdown",
      "id": "172b913a",
      "metadata": {
        "id": "172b913a"
      },
      "source": [
        "#### 3. Create a null vector of size 10 (★☆☆)"
      ]
    },
    {
      "cell_type": "code",
      "execution_count": 6,
      "id": "df54025a",
      "metadata": {
        "colab": {
          "base_uri": "https://localhost:8080/"
        },
        "id": "df54025a",
        "outputId": "82bb982b-21f0-4673-cdd7-04684bdc6a9a"
      },
      "outputs": [
        {
          "output_type": "stream",
          "name": "stdout",
          "text": [
            "[0 0 0 0 0 0 0 0 0 0]\n"
          ]
        }
      ],
      "source": [
        "a = np.zeros(10,dtype=int)\n",
        "print(a)"
      ]
    },
    {
      "cell_type": "markdown",
      "id": "95ee9e07",
      "metadata": {
        "id": "95ee9e07"
      },
      "source": [
        "#### 4. How to find the memory size of any array (★☆☆)"
      ]
    },
    {
      "cell_type": "code",
      "execution_count": 7,
      "id": "5c5b0950",
      "metadata": {
        "colab": {
          "base_uri": "https://localhost:8080/"
        },
        "id": "5c5b0950",
        "outputId": "36da19b5-ca5d-4a80-b1ac-2b9d3aef6fd1"
      },
      "outputs": [
        {
          "output_type": "stream",
          "name": "stdout",
          "text": [
            "80\n"
          ]
        }
      ],
      "source": [
        "print(a.size * a.itemsize)"
      ]
    },
    {
      "cell_type": "markdown",
      "id": "45fca154",
      "metadata": {
        "id": "45fca154"
      },
      "source": [
        "#### 5. How to get the documentation of the numpy add function from the command line? (★☆☆)"
      ]
    },
    {
      "cell_type": "code",
      "execution_count": 11,
      "id": "fcb1248a",
      "metadata": {
        "colab": {
          "base_uri": "https://localhost:8080/"
        },
        "id": "fcb1248a",
        "outputId": "dad2c152-bc14-48c2-a864-75f7a50cb59e"
      },
      "outputs": [
        {
          "output_type": "stream",
          "name": "stdout",
          "text": [
            "add(x1, x2, /, out=None, *, where=True, casting='same_kind', order='K', dtype=None, subok=True[, signature])\n",
            "\n",
            "Add arguments element-wise.\n",
            "\n",
            "Parameters\n",
            "----------\n",
            "x1, x2 : array_like\n",
            "    The arrays to be added.\n",
            "    If ``x1.shape != x2.shape``, they must be broadcastable to a common\n",
            "    shape (which becomes the shape of the output).\n",
            "out : ndarray, None, or tuple of ndarray and None, optional\n",
            "    A location into which the result is stored. If provided, it must have\n",
            "    a shape that the inputs broadcast to. If not provided or None,\n",
            "    a freshly-allocated array is returned. A tuple (possible only as a\n",
            "    keyword argument) must have length equal to the number of outputs.\n",
            "where : array_like, optional\n",
            "    This condition is broadcast over the input. At locations where the\n",
            "    condition is True, the `out` array will be set to the ufunc result.\n",
            "    Elsewhere, the `out` array will retain its original value.\n",
            "    Note that if an uninitialized `out` array is created via the default\n",
            "    ``out=None``, locations within it where the condition is False will\n",
            "    remain uninitialized.\n",
            "**kwargs\n",
            "    For other keyword-only arguments, see the\n",
            "    :ref:`ufunc docs <ufuncs.kwargs>`.\n",
            "\n",
            "Returns\n",
            "-------\n",
            "add : ndarray or scalar\n",
            "    The sum of `x1` and `x2`, element-wise.\n",
            "    This is a scalar if both `x1` and `x2` are scalars.\n",
            "\n",
            "Notes\n",
            "-----\n",
            "Equivalent to `x1` + `x2` in terms of array broadcasting.\n",
            "\n",
            "Examples\n",
            "--------\n",
            ">>> np.add(1.0, 4.0)\n",
            "5.0\n",
            ">>> x1 = np.arange(9.0).reshape((3, 3))\n",
            ">>> x2 = np.arange(3.0)\n",
            ">>> np.add(x1, x2)\n",
            "array([[  0.,   2.,   4.],\n",
            "       [  3.,   5.,   7.],\n",
            "       [  6.,   8.,  10.]])\n",
            "\n",
            "The ``+`` operator can be used as a shorthand for ``np.add`` on ndarrays.\n",
            "\n",
            ">>> x1 = np.arange(9.0).reshape((3, 3))\n",
            ">>> x2 = np.arange(3.0)\n",
            ">>> x1 + x2\n",
            "array([[ 0.,  2.,  4.],\n",
            "       [ 3.,  5.,  7.],\n",
            "       [ 6.,  8., 10.]])\n"
          ]
        }
      ],
      "source": [
        "!python -c \"import numpy; numpy.info(numpy.add)\"\n",
        "# help(np.add)"
      ]
    },
    {
      "cell_type": "markdown",
      "id": "674e8019",
      "metadata": {
        "id": "674e8019"
      },
      "source": [
        "#### 6. Create a null vector of size 10 but the fifth value which is 1 (★☆☆)"
      ]
    },
    {
      "cell_type": "code",
      "execution_count": 12,
      "id": "452df2a7",
      "metadata": {
        "colab": {
          "base_uri": "https://localhost:8080/"
        },
        "id": "452df2a7",
        "outputId": "61b7eae9-8ddf-49b6-fa4f-ef3b84188e81"
      },
      "outputs": [
        {
          "output_type": "stream",
          "name": "stdout",
          "text": [
            "[0. 0. 0. 0. 1. 0. 0. 0. 0. 0.]\n"
          ]
        }
      ],
      "source": [
        "a = np.zeros(10)\n",
        "a[4] = 1\n",
        "print(a)"
      ]
    },
    {
      "cell_type": "markdown",
      "id": "7685e337",
      "metadata": {
        "id": "7685e337"
      },
      "source": [
        "#### 7. Create a vector with values ranging from 10 to 49 (★☆☆)"
      ]
    },
    {
      "cell_type": "code",
      "execution_count": 13,
      "id": "10847d11",
      "metadata": {
        "colab": {
          "base_uri": "https://localhost:8080/"
        },
        "id": "10847d11",
        "outputId": "c8083d72-5878-461c-86cf-af13ac87ca0e"
      },
      "outputs": [
        {
          "output_type": "stream",
          "name": "stdout",
          "text": [
            "[10 11 12 13 14 15 16 17 18 19 20 21 22 23 24 25 26 27 28 29 30 31 32 33\n",
            " 34 35 36 37 38 39 40 41 42 43 44 45 46 47 48 49]\n"
          ]
        }
      ],
      "source": [
        "a = np.arange(10,50)\n",
        "print(a)"
      ]
    },
    {
      "cell_type": "markdown",
      "id": "54c913ba",
      "metadata": {
        "id": "54c913ba"
      },
      "source": [
        "#### 8. Reverse a vector (first element becomes last) (★☆☆)"
      ]
    },
    {
      "cell_type": "code",
      "execution_count": 14,
      "id": "34722e83",
      "metadata": {
        "colab": {
          "base_uri": "https://localhost:8080/"
        },
        "id": "34722e83",
        "outputId": "ce2bfec2-e3bb-4a81-aee3-bc2d3280bbdd"
      },
      "outputs": [
        {
          "output_type": "stream",
          "name": "stdout",
          "text": [
            "[49 48 47 46 45 44 43 42 41 40 39 38 37 36 35 34 33 32 31 30 29 28 27 26\n",
            " 25 24 23 22 21 20 19 18 17 16 15 14 13 12 11 10]\n"
          ]
        }
      ],
      "source": [
        "a = a[::-1]\n",
        "print(a)"
      ]
    },
    {
      "cell_type": "markdown",
      "id": "8e72fd08",
      "metadata": {
        "id": "8e72fd08"
      },
      "source": [
        "#### 9. Create a 3x3 matrix with values ranging from 0 to 8 (★☆☆)"
      ]
    },
    {
      "cell_type": "code",
      "execution_count": 16,
      "id": "e18eef56",
      "metadata": {
        "colab": {
          "base_uri": "https://localhost:8080/"
        },
        "id": "e18eef56",
        "outputId": "bdb7f3b8-bbdc-4206-ef12-b9d9afb3ba8d"
      },
      "outputs": [
        {
          "output_type": "stream",
          "name": "stdout",
          "text": [
            "[[0 1 2]\n",
            " [3 4 5]\n",
            " [6 7 8]]\n"
          ]
        }
      ],
      "source": [
        "a = np.arange(0,9).reshape(3,3)\n",
        "print(a)"
      ]
    },
    {
      "cell_type": "markdown",
      "id": "088424fc",
      "metadata": {
        "id": "088424fc"
      },
      "source": [
        "#### 10. Find indices of non-zero elements from [1,2,0,0,4,0] (★☆☆)"
      ]
    },
    {
      "cell_type": "code",
      "execution_count": 17,
      "id": "9a402d06",
      "metadata": {
        "colab": {
          "base_uri": "https://localhost:8080/"
        },
        "id": "9a402d06",
        "outputId": "4fe97ffb-fa99-402e-b397-cc226a174c6a"
      },
      "outputs": [
        {
          "output_type": "stream",
          "name": "stdout",
          "text": [
            "(array([0, 1, 4]),)\n"
          ]
        }
      ],
      "source": [
        "a = np.array([1,2,0,0,4,0])\n",
        "b = np.where(a!=0)\n",
        "print(b)"
      ]
    },
    {
      "cell_type": "markdown",
      "id": "3f347de9",
      "metadata": {
        "id": "3f347de9"
      },
      "source": [
        "#### 11. Create a 3x3 identity matrix (★☆☆)"
      ]
    },
    {
      "cell_type": "code",
      "execution_count": 22,
      "id": "e38459c2",
      "metadata": {
        "colab": {
          "base_uri": "https://localhost:8080/"
        },
        "id": "e38459c2",
        "outputId": "5094041c-c5d5-45bc-a141-a37ed36adb79"
      },
      "outputs": [
        {
          "output_type": "stream",
          "name": "stdout",
          "text": [
            "[[1. 0. 0.]\n",
            " [0. 1. 0.]\n",
            " [0. 0. 1.]]\n"
          ]
        }
      ],
      "source": [
        "a = np.eye(3,3)\n",
        "print(a)\n",
        "# np.identity(3)"
      ]
    },
    {
      "cell_type": "markdown",
      "id": "24e98f25",
      "metadata": {
        "id": "24e98f25"
      },
      "source": [
        "#### 12. Create a 3x3x3 array with random values (★☆☆)"
      ]
    },
    {
      "cell_type": "code",
      "execution_count": 25,
      "id": "94752bb3",
      "metadata": {
        "colab": {
          "base_uri": "https://localhost:8080/"
        },
        "id": "94752bb3",
        "outputId": "728c48ac-a749-4323-809d-f8f957edbf8e"
      },
      "outputs": [
        {
          "output_type": "stream",
          "name": "stdout",
          "text": [
            "[[[0.7402279  0.17268192 0.90457438]\n",
            "  [0.47573483 0.74800217 0.00857795]\n",
            "  [0.06325068 0.6311836  0.85173803]]\n",
            "\n",
            " [[0.1962432  0.40305209 0.67085847]\n",
            "  [0.81730562 0.08760185 0.94356377]\n",
            "  [0.14514556 0.23658387 0.43049595]]\n",
            "\n",
            " [[0.30142387 0.2656905  0.74209411]\n",
            "  [0.23733807 0.10518209 0.5294925 ]\n",
            "  [0.21744154 0.69005143 0.84039493]]]\n"
          ]
        }
      ],
      "source": [
        "a = np.random.random((3,3,3))\n",
        "print(a)"
      ]
    },
    {
      "cell_type": "markdown",
      "id": "7cbca2cc",
      "metadata": {
        "id": "7cbca2cc"
      },
      "source": [
        "#### 13. Create a 10x10 array with random values and find the minimum and maximum values (★☆☆)"
      ]
    },
    {
      "cell_type": "code",
      "execution_count": 26,
      "id": "c0643b1f",
      "metadata": {
        "colab": {
          "base_uri": "https://localhost:8080/"
        },
        "id": "c0643b1f",
        "outputId": "f84c015b-2979-4359-e6bb-9d74a5d52a23"
      },
      "outputs": [
        {
          "output_type": "stream",
          "name": "stdout",
          "text": [
            "0.9868092263086126\n",
            "0.008470373315243918\n"
          ]
        }
      ],
      "source": [
        "a = np.random.random((10,10))\n",
        "print(a.max())\n",
        "print(a.min())"
      ]
    },
    {
      "cell_type": "markdown",
      "id": "6cab4cbb",
      "metadata": {
        "id": "6cab4cbb"
      },
      "source": [
        "#### 14. Create a random vector of size 30 and find the mean value (★☆☆)"
      ]
    },
    {
      "cell_type": "code",
      "execution_count": 27,
      "id": "e922a524",
      "metadata": {
        "colab": {
          "base_uri": "https://localhost:8080/"
        },
        "id": "e922a524",
        "outputId": "648b344f-3d67-4ff3-f5ef-06941251fe0b"
      },
      "outputs": [
        {
          "output_type": "stream",
          "name": "stdout",
          "text": [
            "0.5094817714858726\n"
          ]
        }
      ],
      "source": [
        "a = np.random.random(30)\n",
        "print(a.mean())"
      ]
    },
    {
      "cell_type": "markdown",
      "id": "72053be8",
      "metadata": {
        "id": "72053be8"
      },
      "source": [
        "# 15. Create a 2d array with 1 on the border and 0 inside (★☆☆)"
      ]
    },
    {
      "cell_type": "code",
      "execution_count": 36,
      "id": "6bc84dfe",
      "metadata": {
        "colab": {
          "base_uri": "https://localhost:8080/"
        },
        "id": "6bc84dfe",
        "outputId": "d686644c-ec78-4852-fce9-51b5d0548dce"
      },
      "outputs": [
        {
          "output_type": "stream",
          "name": "stdout",
          "text": [
            "[[1. 1. 1. 1. 1. 1. 1. 1. 1. 1.]\n",
            " [1. 0. 0. 0. 0. 0. 0. 0. 0. 1.]\n",
            " [1. 0. 0. 0. 0. 0. 0. 0. 0. 1.]\n",
            " [1. 0. 0. 0. 0. 0. 0. 0. 0. 1.]\n",
            " [1. 0. 0. 0. 0. 0. 0. 0. 0. 1.]\n",
            " [1. 0. 0. 0. 0. 0. 0. 0. 0. 1.]\n",
            " [1. 0. 0. 0. 0. 0. 0. 0. 0. 1.]\n",
            " [1. 0. 0. 0. 0. 0. 0. 0. 0. 1.]\n",
            " [1. 0. 0. 0. 0. 0. 0. 0. 0. 1.]\n",
            " [1. 1. 1. 1. 1. 1. 1. 1. 1. 1.]]\n"
          ]
        }
      ],
      "source": [
        "a = np.zeros((10,10))\n",
        "a[[0,-1],:] = 1\n",
        "a[:,[0,-1]] = 1\n",
        "print(a)"
      ]
    },
    {
      "cell_type": "code",
      "source": [
        "a = np.ones((10,10))\n",
        "print(a)\n",
        "a[1:-1,1:-1] = 0\n",
        "print(a)"
      ],
      "metadata": {
        "colab": {
          "base_uri": "https://localhost:8080/"
        },
        "id": "amFKh7uxRtUr",
        "outputId": "fcd8e482-3727-4e42-f61c-56e99ae22189"
      },
      "id": "amFKh7uxRtUr",
      "execution_count": 39,
      "outputs": [
        {
          "output_type": "stream",
          "name": "stdout",
          "text": [
            "[[1. 1. 1. 1. 1. 1. 1. 1. 1. 1.]\n",
            " [1. 1. 1. 1. 1. 1. 1. 1. 1. 1.]\n",
            " [1. 1. 1. 1. 1. 1. 1. 1. 1. 1.]\n",
            " [1. 1. 1. 1. 1. 1. 1. 1. 1. 1.]\n",
            " [1. 1. 1. 1. 1. 1. 1. 1. 1. 1.]\n",
            " [1. 1. 1. 1. 1. 1. 1. 1. 1. 1.]\n",
            " [1. 1. 1. 1. 1. 1. 1. 1. 1. 1.]\n",
            " [1. 1. 1. 1. 1. 1. 1. 1. 1. 1.]\n",
            " [1. 1. 1. 1. 1. 1. 1. 1. 1. 1.]\n",
            " [1. 1. 1. 1. 1. 1. 1. 1. 1. 1.]]\n",
            "[[1. 1. 1. 1. 1. 1. 1. 1. 1. 1.]\n",
            " [1. 0. 0. 0. 0. 0. 0. 0. 0. 1.]\n",
            " [1. 0. 0. 0. 0. 0. 0. 0. 0. 1.]\n",
            " [1. 0. 0. 0. 0. 0. 0. 0. 0. 1.]\n",
            " [1. 0. 0. 0. 0. 0. 0. 0. 0. 1.]\n",
            " [1. 0. 0. 0. 0. 0. 0. 0. 0. 1.]\n",
            " [1. 0. 0. 0. 0. 0. 0. 0. 0. 1.]\n",
            " [1. 0. 0. 0. 0. 0. 0. 0. 0. 1.]\n",
            " [1. 0. 0. 0. 0. 0. 0. 0. 0. 1.]\n",
            " [1. 1. 1. 1. 1. 1. 1. 1. 1. 1.]]\n"
          ]
        }
      ]
    },
    {
      "cell_type": "markdown",
      "id": "86b0206b",
      "metadata": {
        "id": "86b0206b"
      },
      "source": [
        "#### 16. How to add a border (filled with 0's) around an existing array? (★☆☆)"
      ]
    },
    {
      "cell_type": "code",
      "execution_count": 53,
      "id": "41e66e3e",
      "metadata": {
        "colab": {
          "base_uri": "https://localhost:8080/"
        },
        "id": "41e66e3e",
        "outputId": "4f8dbbfb-3d74-4864-9cfa-817d58fa3f05"
      },
      "outputs": [
        {
          "output_type": "stream",
          "name": "stdout",
          "text": [
            "[[ 0  1  2  3  4]\n",
            " [ 5  6  7  8  9]\n",
            " [10 11 12 13 14]\n",
            " [15 16 17 18 19]]\n",
            "\n",
            "[[ 0  0  0  0  0  0  0]\n",
            " [ 0  0  1  2  3  4  0]\n",
            " [ 0  5  6  7  8  9  0]\n",
            " [ 0 10 11 12 13 14  0]\n",
            " [ 0 15 16 17 18 19  0]\n",
            " [ 0  0  0  0  0  0  0]]\n"
          ]
        }
      ],
      "source": [
        "# 나의 방법\n",
        "arr = np.arange(0,20).reshape(4,5)\n",
        "print(arr)\n",
        "print()\n",
        "arr = np.insert(arr,(0,arr.shape[0]),0,axis=0)\n",
        "arr = np.insert(arr,(0,arr.shape[1]),0,axis=1)\n",
        "print(arr)"
      ]
    },
    {
      "cell_type": "markdown",
      "source": [
        "⚠️ ```arr.shape[0]```(=4)와 ```arr.shape[1]```(=4)은 행/열 개수니까, 거기에 insert 하면 맨 끝에 들어감!"
      ],
      "metadata": {
        "id": "zQHYRzkzU9JK"
      },
      "id": "zQHYRzkzU9JK"
    },
    {
      "cell_type": "code",
      "source": [
        "# padding 사용\n",
        "arr = np.arange(0,20).reshape(4,5)\n",
        "print(arr)\n",
        "print()\n",
        "arr = np.pad(arr,pad_width=1,constant_values=0) # arr= 잊지 말기\n",
        "print(arr)"
      ],
      "metadata": {
        "colab": {
          "base_uri": "https://localhost:8080/"
        },
        "id": "aDpALwolVHeK",
        "outputId": "17a7affe-e9e8-4033-afdc-c4f81967ac64"
      },
      "id": "aDpALwolVHeK",
      "execution_count": 59,
      "outputs": [
        {
          "output_type": "stream",
          "name": "stdout",
          "text": [
            "[[ 0  1  2  3  4]\n",
            " [ 5  6  7  8  9]\n",
            " [10 11 12 13 14]\n",
            " [15 16 17 18 19]]\n",
            "\n",
            "[[ 0  0  0  0  0  0  0]\n",
            " [ 0  0  1  2  3  4  0]\n",
            " [ 0  5  6  7  8  9  0]\n",
            " [ 0 10 11 12 13 14  0]\n",
            " [ 0 15 16 17 18 19  0]\n",
            " [ 0  0  0  0  0  0  0]]\n"
          ]
        }
      ]
    },
    {
      "cell_type": "markdown",
      "source": [
        "# 📌 `np.pad` 함수 설명\n",
        "\n",
        "`numpy.pad()`는 배열의 **가장자리(edge)** 에 값을 추가하여 **패딩(padding)** 하는 함수입니다.  \n",
        "이미지 처리, CNN 입력 데이터, 배열 확장 등에 자주 사용됩니다.\n",
        "\n",
        "---\n",
        "\n",
        "## 🧱 기본 문법\n",
        "\n",
        "```python\n",
        "np.pad(array, pad_width, mode='constant', constant_values=0)\n",
        "```\n",
        "\n",
        "---\n",
        "\n",
        "## 🧩 매개변수 설명\n",
        "\n",
        "| 매개변수         | 설명 |\n",
        "|------------------|------|\n",
        "| `array`          | 패딩할 원본 넘파이 배열 |\n",
        "| `pad_width`      | 각 축(axis)마다 양쪽에 추가할 값의 개수 <br>예: `1` → 양쪽에 1줄씩 |\n",
        "| `mode`           | 패딩 방식 (기본값: `'constant'`) |\n",
        "| `constant_values`| `mode='constant'`일 때 넣을 값 (기본값: `0`) |\n",
        "\n",
        "---\n",
        "\n",
        "## ✅ 예제\n",
        "\n",
        "```python\n",
        "import numpy as np\n",
        "\n",
        "arr = np.arange(1, 10).reshape(3, 3)\n",
        "# 원본 배열\n",
        "# [[1 2 3]\n",
        "#  [4 5 6]\n",
        "#  [7 8 9]]\n",
        "\n",
        "padded = np.pad(arr, pad_width=1, mode='constant', constant_values=0)\n",
        "\n",
        "# 결과:\n",
        "# [[0 0 0 0 0]\n",
        "#  [0 1 2 3 0]\n",
        "#  [0 4 5 6 0]\n",
        "#  [0 7 8 9 0]\n",
        "#  [0 0 0 0 0]]\n",
        "```\n",
        "\n",
        "---\n",
        "\n",
        "## 🔁 다양한 `pad_width` 설정 방법\n",
        "\n",
        "```python\n",
        "# pad_width에 튜플을 주면 축마다 다르게 설정 가능\n",
        "np.pad(arr, pad_width=((1, 2), (2, 1)), mode='constant', constant_values=9)\n",
        "```\n",
        "\n",
        "→ 위 예시는  \n",
        "- 위쪽 1줄, 아래쪽 2줄  \n",
        "- 왼쪽 2줄, 오른쪽 1줄  \n",
        "을 `9`로 패딩합니다.\n",
        "\n",
        "---\n",
        "\n",
        "## 🧠 자주 쓰는 `mode` 종류\n",
        "\n",
        "| mode           | 설명 |\n",
        "|----------------|------|\n",
        "| `'constant'`   | 지정한 값으로 패딩 (`constant_values=` 사용) |\n",
        "| `'edge'`       | 가장자리 값으로 패딩 |\n",
        "| `'reflect'`    | 반사된 값으로 패딩 |\n",
        "| `'symmetric'`  | 대칭 복사로 패딩 |\n",
        "\n",
        "---\n",
        "\n",
        "## 📦 요약\n",
        "\n",
        "- `np.pad()`은 배열 가장자리에 값을 추가하는 함수\n",
        "- 이미지 처리, 딥러닝, 배열 확장에 매우 유용\n",
        "- `pad_width`와 `mode` 옵션을 적절히 조절하면 다양한 패딩이 가능\n",
        "\n"
      ],
      "metadata": {
        "id": "hn8tNjigXYTp"
      },
      "id": "hn8tNjigXYTp"
    },
    {
      "cell_type": "markdown",
      "id": "98a45574",
      "metadata": {
        "id": "98a45574"
      },
      "source": [
        "#### 17. What is the result of the following expression? (★☆☆)\n",
        "```python\n",
        "0 * np.nan\n",
        "np.nan == np.nan\n",
        "np.inf > np.nan\n",
        "np.nan - np.nan\n",
        "np.nan in set([np.nan])\n",
        "0.3 == 3 * 0.1\n",
        "```"
      ]
    },
    {
      "cell_type": "code",
      "execution_count": null,
      "id": "7eb533d5",
      "metadata": {
        "id": "7eb533d5"
      },
      "outputs": [],
      "source": []
    },
    {
      "cell_type": "markdown",
      "id": "1486619a",
      "metadata": {
        "id": "1486619a"
      },
      "source": [
        "#### 18. Create a 5x5 matrix with values 1,2,3,4 just below the diagonal (★☆☆)"
      ]
    },
    {
      "cell_type": "code",
      "execution_count": null,
      "id": "2b9fb59c",
      "metadata": {
        "id": "2b9fb59c"
      },
      "outputs": [],
      "source": []
    },
    {
      "cell_type": "markdown",
      "id": "319287fd",
      "metadata": {
        "id": "319287fd"
      },
      "source": [
        "#### 19. Create a 8x8 matrix and fill it with a checkerboard pattern (★☆☆)"
      ]
    },
    {
      "cell_type": "code",
      "execution_count": null,
      "id": "299f5e60",
      "metadata": {
        "id": "299f5e60"
      },
      "outputs": [],
      "source": []
    },
    {
      "cell_type": "markdown",
      "id": "fb1686ed",
      "metadata": {
        "id": "fb1686ed"
      },
      "source": [
        "#### 20. Consider a (6,7,8) shape array, what is the index (x,y,z) of the 100th element? (★☆☆)"
      ]
    },
    {
      "cell_type": "code",
      "execution_count": null,
      "id": "22888cc4",
      "metadata": {
        "id": "22888cc4"
      },
      "outputs": [],
      "source": []
    },
    {
      "cell_type": "markdown",
      "id": "137ea278",
      "metadata": {
        "id": "137ea278"
      },
      "source": [
        "#### 21. Create a checkerboard 8x8 matrix using the tile function (★☆☆)"
      ]
    },
    {
      "cell_type": "code",
      "execution_count": null,
      "id": "9cb81fe1",
      "metadata": {
        "id": "9cb81fe1"
      },
      "outputs": [],
      "source": []
    },
    {
      "cell_type": "markdown",
      "id": "9319f5a1",
      "metadata": {
        "id": "9319f5a1"
      },
      "source": [
        "#### 22. Normalize a 5x5 random matrix (★☆☆)"
      ]
    },
    {
      "cell_type": "code",
      "execution_count": null,
      "id": "fcdc0459",
      "metadata": {
        "id": "fcdc0459"
      },
      "outputs": [],
      "source": []
    },
    {
      "cell_type": "markdown",
      "id": "f1902fef",
      "metadata": {
        "id": "f1902fef"
      },
      "source": [
        "#### 23. Create a custom dtype that describes a color as four unsigned bytes (RGBA) (★☆☆)"
      ]
    },
    {
      "cell_type": "code",
      "execution_count": null,
      "id": "7445cb2d",
      "metadata": {
        "id": "7445cb2d"
      },
      "outputs": [],
      "source": []
    },
    {
      "cell_type": "markdown",
      "id": "3f34bd2a",
      "metadata": {
        "id": "3f34bd2a"
      },
      "source": [
        "#### 24. Multiply a 5x3 matrix by a 3x2 matrix (real matrix product) (★☆☆)"
      ]
    },
    {
      "cell_type": "code",
      "execution_count": null,
      "id": "ec8bd6da",
      "metadata": {
        "id": "ec8bd6da"
      },
      "outputs": [],
      "source": []
    },
    {
      "cell_type": "markdown",
      "id": "b1919ba3",
      "metadata": {
        "id": "b1919ba3"
      },
      "source": [
        "#### 25. Given a 1D array, negate all elements which are between 3 and 8, in place. (★☆☆)"
      ]
    },
    {
      "cell_type": "code",
      "execution_count": null,
      "id": "5b63b63b",
      "metadata": {
        "id": "5b63b63b"
      },
      "outputs": [],
      "source": []
    },
    {
      "cell_type": "markdown",
      "id": "fb1daa27",
      "metadata": {
        "id": "fb1daa27"
      },
      "source": [
        "#### 26. What is the output of the following script? (★☆☆)\n",
        "```python\n",
        "# Author: Jake VanderPlas\n",
        "\n",
        "print(sum(range(5),-1))\n",
        "from numpy import *\n",
        "print(sum(range(5),-1))\n",
        "```"
      ]
    },
    {
      "cell_type": "code",
      "execution_count": null,
      "id": "52a34d3d",
      "metadata": {
        "id": "52a34d3d"
      },
      "outputs": [],
      "source": []
    },
    {
      "cell_type": "markdown",
      "id": "89b7e7a7",
      "metadata": {
        "id": "89b7e7a7"
      },
      "source": [
        "#### 27. Consider an integer vector Z, which of these expressions are legal? (★☆☆)\n",
        "```python\n",
        "Z**Z\n",
        "2 << Z >> 2\n",
        "Z <- Z\n",
        "1j*Z\n",
        "Z/1/1\n",
        "Z<Z>Z\n",
        "```"
      ]
    },
    {
      "cell_type": "code",
      "execution_count": null,
      "id": "451181cf",
      "metadata": {
        "id": "451181cf"
      },
      "outputs": [],
      "source": []
    },
    {
      "cell_type": "markdown",
      "id": "8c7601c6",
      "metadata": {
        "id": "8c7601c6"
      },
      "source": [
        "#### 28. What are the result of the following expressions? (★☆☆)\n",
        "```python\n",
        "np.array(0) / np.array(0)\n",
        "np.array(0) // np.array(0)\n",
        "np.array([np.nan]).astype(int).astype(float)\n",
        "```"
      ]
    },
    {
      "cell_type": "code",
      "execution_count": null,
      "id": "52983a0b",
      "metadata": {
        "id": "52983a0b"
      },
      "outputs": [],
      "source": []
    },
    {
      "cell_type": "markdown",
      "id": "06c9164d",
      "metadata": {
        "id": "06c9164d"
      },
      "source": [
        "#### 29. How to round away from zero a float array ? (★☆☆)"
      ]
    },
    {
      "cell_type": "code",
      "execution_count": null,
      "id": "4cce0af8",
      "metadata": {
        "id": "4cce0af8"
      },
      "outputs": [],
      "source": []
    },
    {
      "cell_type": "markdown",
      "id": "52235994",
      "metadata": {
        "id": "52235994"
      },
      "source": [
        "#### 30. How to find common values between two arrays? (★☆☆)"
      ]
    },
    {
      "cell_type": "code",
      "execution_count": null,
      "id": "27eff6b1",
      "metadata": {
        "id": "27eff6b1"
      },
      "outputs": [],
      "source": []
    },
    {
      "cell_type": "markdown",
      "id": "7e6f7d78",
      "metadata": {
        "id": "7e6f7d78"
      },
      "source": [
        "#### 31. How to ignore all numpy warnings (not recommended)? (★☆☆)"
      ]
    },
    {
      "cell_type": "code",
      "execution_count": null,
      "id": "1bdde6e1",
      "metadata": {
        "id": "1bdde6e1"
      },
      "outputs": [],
      "source": []
    },
    {
      "cell_type": "markdown",
      "id": "b001277e",
      "metadata": {
        "id": "b001277e"
      },
      "source": [
        "#### 32. Is the following expressions true? (★☆☆)\n",
        "```python\n",
        "np.sqrt(-1) == np.emath.sqrt(-1)\n",
        "```"
      ]
    },
    {
      "cell_type": "code",
      "execution_count": null,
      "id": "d8673bdf",
      "metadata": {
        "id": "d8673bdf"
      },
      "outputs": [],
      "source": []
    },
    {
      "cell_type": "markdown",
      "id": "b9a5ff84",
      "metadata": {
        "id": "b9a5ff84"
      },
      "source": [
        "#### 33. How to get the dates of yesterday, today and tomorrow? (★☆☆)"
      ]
    },
    {
      "cell_type": "code",
      "execution_count": null,
      "id": "f33f9cc2",
      "metadata": {
        "id": "f33f9cc2"
      },
      "outputs": [],
      "source": []
    },
    {
      "cell_type": "markdown",
      "id": "f8e96e58",
      "metadata": {
        "id": "f8e96e58"
      },
      "source": [
        "#### 34. How to get all the dates corresponding to the month of July 2016? (★★☆)"
      ]
    },
    {
      "cell_type": "code",
      "execution_count": null,
      "id": "3927a8e8",
      "metadata": {
        "id": "3927a8e8"
      },
      "outputs": [],
      "source": []
    },
    {
      "cell_type": "markdown",
      "id": "557c163e",
      "metadata": {
        "id": "557c163e"
      },
      "source": [
        "#### 35. How to compute ((A+B)*(-A/2)) in place (without copy)? (★★☆)"
      ]
    },
    {
      "cell_type": "code",
      "execution_count": null,
      "id": "3c2f59ac",
      "metadata": {
        "id": "3c2f59ac"
      },
      "outputs": [],
      "source": []
    },
    {
      "cell_type": "markdown",
      "id": "14c05852",
      "metadata": {
        "id": "14c05852"
      },
      "source": [
        "#### 36. Extract the integer part of a random array of positive numbers using 4 different methods (★★☆)"
      ]
    },
    {
      "cell_type": "code",
      "execution_count": null,
      "id": "8b7d2937",
      "metadata": {
        "id": "8b7d2937"
      },
      "outputs": [],
      "source": []
    },
    {
      "cell_type": "markdown",
      "id": "003b8721",
      "metadata": {
        "id": "003b8721"
      },
      "source": [
        "#### 37. Create a 5x5 matrix with row values ranging from 0 to 4 (★★☆)"
      ]
    },
    {
      "cell_type": "code",
      "execution_count": null,
      "id": "63c75db0",
      "metadata": {
        "id": "63c75db0"
      },
      "outputs": [],
      "source": []
    },
    {
      "cell_type": "markdown",
      "id": "8e71dc21",
      "metadata": {
        "id": "8e71dc21"
      },
      "source": [
        "#### 38. Consider a generator function that generates 10 integers and use it to build an array (★☆☆)"
      ]
    },
    {
      "cell_type": "code",
      "execution_count": null,
      "id": "f6aefd94",
      "metadata": {
        "id": "f6aefd94"
      },
      "outputs": [],
      "source": []
    },
    {
      "cell_type": "markdown",
      "id": "b7f03449",
      "metadata": {
        "id": "b7f03449"
      },
      "source": [
        "#### 39. Create a vector of size 10 with values ranging from 0 to 1, both excluded (★★☆)"
      ]
    },
    {
      "cell_type": "code",
      "execution_count": null,
      "id": "a27cd904",
      "metadata": {
        "id": "a27cd904"
      },
      "outputs": [],
      "source": []
    },
    {
      "cell_type": "markdown",
      "id": "043156c5",
      "metadata": {
        "id": "043156c5"
      },
      "source": [
        "#### 40. Create a random vector of size 10 and sort it (★★☆)"
      ]
    },
    {
      "cell_type": "code",
      "execution_count": null,
      "id": "6ae5eb58",
      "metadata": {
        "id": "6ae5eb58"
      },
      "outputs": [],
      "source": []
    },
    {
      "cell_type": "markdown",
      "id": "4f7e8f3f",
      "metadata": {
        "id": "4f7e8f3f"
      },
      "source": [
        "#### 41. How to sum a small array faster than np.sum? (★★☆)"
      ]
    },
    {
      "cell_type": "code",
      "execution_count": null,
      "id": "88790af3",
      "metadata": {
        "id": "88790af3"
      },
      "outputs": [],
      "source": []
    },
    {
      "cell_type": "markdown",
      "id": "13d1ca52",
      "metadata": {
        "id": "13d1ca52"
      },
      "source": [
        "#### 42. Consider two random array A and B, check if they are equal (★★☆)"
      ]
    },
    {
      "cell_type": "code",
      "execution_count": null,
      "id": "ca6dd579",
      "metadata": {
        "id": "ca6dd579"
      },
      "outputs": [],
      "source": []
    },
    {
      "cell_type": "markdown",
      "id": "cf7cca6d",
      "metadata": {
        "id": "cf7cca6d"
      },
      "source": [
        "#### 43. Make an array immutable (read-only) (★★☆)"
      ]
    },
    {
      "cell_type": "code",
      "execution_count": null,
      "id": "cbbb8917",
      "metadata": {
        "id": "cbbb8917"
      },
      "outputs": [],
      "source": []
    },
    {
      "cell_type": "markdown",
      "id": "37b0828f",
      "metadata": {
        "id": "37b0828f"
      },
      "source": [
        "#### 44. Consider a random 10x2 matrix representing cartesian coordinates, convert them to polar coordinates (★★☆)"
      ]
    },
    {
      "cell_type": "code",
      "execution_count": null,
      "id": "a89969af",
      "metadata": {
        "id": "a89969af"
      },
      "outputs": [],
      "source": []
    },
    {
      "cell_type": "markdown",
      "id": "b7d7dd80",
      "metadata": {
        "id": "b7d7dd80"
      },
      "source": [
        "#### 45. Create random vector of size 10 and replace the maximum value by 0 (★★☆)"
      ]
    },
    {
      "cell_type": "code",
      "execution_count": null,
      "id": "8403a440",
      "metadata": {
        "id": "8403a440"
      },
      "outputs": [],
      "source": []
    },
    {
      "cell_type": "markdown",
      "id": "b47e5837",
      "metadata": {
        "id": "b47e5837"
      },
      "source": [
        "#### 46. Create a structured array with `x` and `y` coordinates covering the [0,1]x[0,1] area (★★☆)"
      ]
    },
    {
      "cell_type": "code",
      "execution_count": null,
      "id": "42c72e94",
      "metadata": {
        "id": "42c72e94"
      },
      "outputs": [],
      "source": []
    },
    {
      "cell_type": "markdown",
      "id": "8c7946ee",
      "metadata": {
        "id": "8c7946ee"
      },
      "source": [
        "#### 47. Given two arrays, X and Y, construct the Cauchy matrix C (Cij =1/(xi - yj)) (★★☆)"
      ]
    },
    {
      "cell_type": "code",
      "execution_count": null,
      "id": "26b93f06",
      "metadata": {
        "id": "26b93f06"
      },
      "outputs": [],
      "source": []
    },
    {
      "cell_type": "markdown",
      "id": "3e898e5f",
      "metadata": {
        "id": "3e898e5f"
      },
      "source": [
        "#### 48. Print the minimum and maximum representable value for each numpy scalar type (★★☆)"
      ]
    },
    {
      "cell_type": "code",
      "execution_count": null,
      "id": "afd1ae18",
      "metadata": {
        "id": "afd1ae18"
      },
      "outputs": [],
      "source": []
    },
    {
      "cell_type": "markdown",
      "id": "6fe6133b",
      "metadata": {
        "id": "6fe6133b"
      },
      "source": [
        "#### 49. How to print all the values of an array? (★★☆)"
      ]
    },
    {
      "cell_type": "code",
      "execution_count": null,
      "id": "5764ec92",
      "metadata": {
        "id": "5764ec92"
      },
      "outputs": [],
      "source": []
    },
    {
      "cell_type": "markdown",
      "id": "7ee2dacc",
      "metadata": {
        "id": "7ee2dacc"
      },
      "source": [
        "#### 50. How to find the closest value (to a given scalar) in a vector? (★★☆)"
      ]
    },
    {
      "cell_type": "code",
      "execution_count": null,
      "id": "742518ef",
      "metadata": {
        "id": "742518ef"
      },
      "outputs": [],
      "source": []
    },
    {
      "cell_type": "markdown",
      "id": "cfeda6ba",
      "metadata": {
        "id": "cfeda6ba"
      },
      "source": [
        "#### 51. Create a structured array representing a position (x,y) and a color (r,g,b) (★★☆)"
      ]
    },
    {
      "cell_type": "code",
      "execution_count": null,
      "id": "9fcbd031",
      "metadata": {
        "id": "9fcbd031"
      },
      "outputs": [],
      "source": []
    },
    {
      "cell_type": "markdown",
      "id": "b97e75b5",
      "metadata": {
        "id": "b97e75b5"
      },
      "source": [
        "#### 52. Consider a random vector with shape (100,2) representing coordinates, find point by point distances (★★☆)"
      ]
    },
    {
      "cell_type": "code",
      "execution_count": null,
      "id": "c58a45b6",
      "metadata": {
        "id": "c58a45b6"
      },
      "outputs": [],
      "source": []
    },
    {
      "cell_type": "markdown",
      "id": "291e0bb9",
      "metadata": {
        "id": "291e0bb9"
      },
      "source": [
        "#### 53. How to convert a float (32 bits) array into an integer (32 bits) in place?"
      ]
    },
    {
      "cell_type": "code",
      "execution_count": null,
      "id": "2f3e6c00",
      "metadata": {
        "id": "2f3e6c00"
      },
      "outputs": [],
      "source": []
    },
    {
      "cell_type": "markdown",
      "id": "1e305e92",
      "metadata": {
        "id": "1e305e92"
      },
      "source": [
        "#### 54. How to read the following file? (★★☆)\n",
        "```\n",
        "1, 2, 3, 4, 5\n",
        "6,  ,  , 7, 8\n",
        " ,  , 9,10,11\n",
        "```"
      ]
    },
    {
      "cell_type": "code",
      "execution_count": null,
      "id": "753024cb",
      "metadata": {
        "id": "753024cb"
      },
      "outputs": [],
      "source": []
    },
    {
      "cell_type": "markdown",
      "id": "94a8ad69",
      "metadata": {
        "id": "94a8ad69"
      },
      "source": [
        "#### 55. What is the equivalent of enumerate for numpy arrays? (★★☆)"
      ]
    },
    {
      "cell_type": "code",
      "execution_count": null,
      "id": "ae45249f",
      "metadata": {
        "id": "ae45249f"
      },
      "outputs": [],
      "source": []
    },
    {
      "cell_type": "markdown",
      "id": "72b340c9",
      "metadata": {
        "id": "72b340c9"
      },
      "source": [
        "#### 56. Generate a generic 2D Gaussian-like array (★★☆)"
      ]
    },
    {
      "cell_type": "code",
      "execution_count": null,
      "id": "a80e5c9b",
      "metadata": {
        "id": "a80e5c9b"
      },
      "outputs": [],
      "source": []
    },
    {
      "cell_type": "markdown",
      "id": "86550d61",
      "metadata": {
        "id": "86550d61"
      },
      "source": [
        "#### 57. How to randomly place p elements in a 2D array? (★★☆)"
      ]
    },
    {
      "cell_type": "code",
      "execution_count": null,
      "id": "db9f2582",
      "metadata": {
        "id": "db9f2582"
      },
      "outputs": [],
      "source": []
    },
    {
      "cell_type": "markdown",
      "id": "153f8cfa",
      "metadata": {
        "id": "153f8cfa"
      },
      "source": [
        "#### 58. Subtract the mean of each row of a matrix (★★☆)"
      ]
    },
    {
      "cell_type": "code",
      "execution_count": null,
      "id": "8301cb12",
      "metadata": {
        "id": "8301cb12"
      },
      "outputs": [],
      "source": []
    },
    {
      "cell_type": "markdown",
      "id": "f4038090",
      "metadata": {
        "id": "f4038090"
      },
      "source": [
        "#### 59. How to sort an array by the nth column? (★★☆)"
      ]
    },
    {
      "cell_type": "code",
      "execution_count": null,
      "id": "eb5745df",
      "metadata": {
        "id": "eb5745df"
      },
      "outputs": [],
      "source": []
    },
    {
      "cell_type": "markdown",
      "id": "20d2a462",
      "metadata": {
        "id": "20d2a462"
      },
      "source": [
        "#### 60. How to tell if a given 2D array has null columns? (★★☆)"
      ]
    },
    {
      "cell_type": "code",
      "execution_count": null,
      "id": "b92b7316",
      "metadata": {
        "id": "b92b7316"
      },
      "outputs": [],
      "source": []
    },
    {
      "cell_type": "markdown",
      "id": "bb2aa49b",
      "metadata": {
        "id": "bb2aa49b"
      },
      "source": [
        "#### 61. Find the nearest value from a given value in an array (★★☆)"
      ]
    },
    {
      "cell_type": "code",
      "execution_count": null,
      "id": "8b62e59c",
      "metadata": {
        "id": "8b62e59c"
      },
      "outputs": [],
      "source": []
    },
    {
      "cell_type": "markdown",
      "id": "1a950e1a",
      "metadata": {
        "id": "1a950e1a"
      },
      "source": [
        "#### 62. Considering two arrays with shape (1,3) and (3,1), how to compute their sum using an iterator? (★★☆)"
      ]
    },
    {
      "cell_type": "code",
      "execution_count": null,
      "id": "cad1d01b",
      "metadata": {
        "id": "cad1d01b"
      },
      "outputs": [],
      "source": []
    },
    {
      "cell_type": "markdown",
      "id": "165b3a20",
      "metadata": {
        "id": "165b3a20"
      },
      "source": [
        "#### 63. Create an array class that has a name attribute (★★☆)"
      ]
    },
    {
      "cell_type": "code",
      "execution_count": null,
      "id": "666bf983",
      "metadata": {
        "id": "666bf983"
      },
      "outputs": [],
      "source": []
    },
    {
      "cell_type": "markdown",
      "id": "87f85b12",
      "metadata": {
        "id": "87f85b12"
      },
      "source": [
        "#### 64. Consider a given vector, how to add 1 to each element indexed by a second vector (be careful with repeated indices)? (★★★)"
      ]
    },
    {
      "cell_type": "code",
      "execution_count": null,
      "id": "03ee4c88",
      "metadata": {
        "id": "03ee4c88"
      },
      "outputs": [],
      "source": []
    },
    {
      "cell_type": "markdown",
      "id": "1cda27c4",
      "metadata": {
        "id": "1cda27c4"
      },
      "source": [
        "#### 65. How to accumulate elements of a vector (X) to an array (F) based on an index list (I)? (★★★)"
      ]
    },
    {
      "cell_type": "code",
      "execution_count": null,
      "id": "aee2c782",
      "metadata": {
        "id": "aee2c782"
      },
      "outputs": [],
      "source": []
    },
    {
      "cell_type": "markdown",
      "id": "1db205db",
      "metadata": {
        "id": "1db205db"
      },
      "source": [
        "#### 66. Considering a (w,h,3) image of (dtype=ubyte), compute the number of unique colors (★★☆)"
      ]
    },
    {
      "cell_type": "code",
      "execution_count": null,
      "id": "43204f35",
      "metadata": {
        "id": "43204f35"
      },
      "outputs": [],
      "source": []
    },
    {
      "cell_type": "markdown",
      "id": "ebaf1222",
      "metadata": {
        "id": "ebaf1222"
      },
      "source": [
        "#### 67. Considering a four dimensions array, how to get sum over the last two axis at once? (★★★)"
      ]
    },
    {
      "cell_type": "code",
      "execution_count": null,
      "id": "aabbbab9",
      "metadata": {
        "id": "aabbbab9"
      },
      "outputs": [],
      "source": []
    },
    {
      "cell_type": "markdown",
      "id": "2dfb4033",
      "metadata": {
        "id": "2dfb4033"
      },
      "source": [
        "#### 68. Considering a one-dimensional vector D, how to compute means of subsets of D using a vector S of same size describing subset  indices? (★★★)"
      ]
    },
    {
      "cell_type": "code",
      "execution_count": null,
      "id": "7a9c2287",
      "metadata": {
        "id": "7a9c2287"
      },
      "outputs": [],
      "source": []
    },
    {
      "cell_type": "markdown",
      "id": "7035c626",
      "metadata": {
        "id": "7035c626"
      },
      "source": [
        "#### 69. How to get the diagonal of a dot product? (★★★)"
      ]
    },
    {
      "cell_type": "code",
      "execution_count": null,
      "id": "f6af16c1",
      "metadata": {
        "id": "f6af16c1"
      },
      "outputs": [],
      "source": []
    },
    {
      "cell_type": "markdown",
      "id": "8f73f0e5",
      "metadata": {
        "id": "8f73f0e5"
      },
      "source": [
        "#### 70. Consider the vector [1, 2, 3, 4, 5], how to build a new vector with 3 consecutive zeros interleaved between each value? (★★★)"
      ]
    },
    {
      "cell_type": "code",
      "execution_count": null,
      "id": "b0cabc11",
      "metadata": {
        "id": "b0cabc11"
      },
      "outputs": [],
      "source": []
    },
    {
      "cell_type": "markdown",
      "id": "bafaa79e",
      "metadata": {
        "id": "bafaa79e"
      },
      "source": [
        "#### 71. Consider an array of dimension (5,5,3), how to mulitply it by an array with dimensions (5,5)? (★★★)"
      ]
    },
    {
      "cell_type": "code",
      "execution_count": null,
      "id": "d441e30b",
      "metadata": {
        "id": "d441e30b"
      },
      "outputs": [],
      "source": []
    },
    {
      "cell_type": "markdown",
      "id": "80a9ac82",
      "metadata": {
        "id": "80a9ac82"
      },
      "source": [
        "#### 72. How to swap two rows of an array? (★★★)"
      ]
    },
    {
      "cell_type": "code",
      "execution_count": null,
      "id": "1aee2791",
      "metadata": {
        "id": "1aee2791"
      },
      "outputs": [],
      "source": []
    },
    {
      "cell_type": "markdown",
      "id": "5e53d68c",
      "metadata": {
        "id": "5e53d68c"
      },
      "source": [
        "#### 73. Consider a set of 10 triplets describing 10 triangles (with shared vertices), find the set of unique line segments composing all the  triangles (★★★)"
      ]
    },
    {
      "cell_type": "code",
      "execution_count": null,
      "id": "2f975322",
      "metadata": {
        "id": "2f975322"
      },
      "outputs": [],
      "source": []
    },
    {
      "cell_type": "markdown",
      "id": "f85da603",
      "metadata": {
        "id": "f85da603"
      },
      "source": [
        "#### 74. Given a sorted array C that corresponds to a bincount, how to produce an array A such that np.bincount(A) == C? (★★★)"
      ]
    },
    {
      "cell_type": "code",
      "execution_count": null,
      "id": "8c476a73",
      "metadata": {
        "id": "8c476a73"
      },
      "outputs": [],
      "source": []
    },
    {
      "cell_type": "markdown",
      "id": "a2330e6c",
      "metadata": {
        "id": "a2330e6c"
      },
      "source": [
        "#### 75. How to compute averages using a sliding window over an array? (★★★)"
      ]
    },
    {
      "cell_type": "code",
      "execution_count": null,
      "id": "35e5e9f5",
      "metadata": {
        "id": "35e5e9f5"
      },
      "outputs": [],
      "source": []
    },
    {
      "cell_type": "markdown",
      "id": "87698de8",
      "metadata": {
        "id": "87698de8"
      },
      "source": [
        "#### 76. Consider a one-dimensional array Z, build a two-dimensional array whose first row is (Z[0],Z[1],Z[2]) and each subsequent row is  shifted by 1 (last row should be (Z[-3],Z[-2],Z[-1]) (★★★)"
      ]
    },
    {
      "cell_type": "code",
      "execution_count": null,
      "id": "753763ed",
      "metadata": {
        "id": "753763ed"
      },
      "outputs": [],
      "source": []
    },
    {
      "cell_type": "markdown",
      "id": "b8417b15",
      "metadata": {
        "id": "b8417b15"
      },
      "source": [
        "#### 77. How to negate a boolean, or to change the sign of a float inplace? (★★★)"
      ]
    },
    {
      "cell_type": "code",
      "execution_count": null,
      "id": "3cad31b2",
      "metadata": {
        "id": "3cad31b2"
      },
      "outputs": [],
      "source": []
    },
    {
      "cell_type": "markdown",
      "id": "37a49831",
      "metadata": {
        "id": "37a49831"
      },
      "source": [
        "#### 78. Consider 2 sets of points P0,P1 describing lines (2d) and a point p, how to compute distance from p to each line i (P0[i],P1[i])? (★★★)"
      ]
    },
    {
      "cell_type": "code",
      "execution_count": null,
      "id": "df95dce8",
      "metadata": {
        "id": "df95dce8"
      },
      "outputs": [],
      "source": []
    },
    {
      "cell_type": "markdown",
      "id": "f5ae032f",
      "metadata": {
        "id": "f5ae032f"
      },
      "source": [
        "#### 79. Consider 2 sets of points P0,P1 describing lines (2d) and a set of points P, how to compute distance from each point j (P[j]) to each line i (P0[i],P1[i])? (★★★)"
      ]
    },
    {
      "cell_type": "code",
      "execution_count": null,
      "id": "f5ae2e9b",
      "metadata": {
        "id": "f5ae2e9b"
      },
      "outputs": [],
      "source": []
    },
    {
      "cell_type": "markdown",
      "id": "6bc35ba2",
      "metadata": {
        "id": "6bc35ba2"
      },
      "source": [
        "#### 80. Consider an arbitrary array, write a function that extract a subpart with a fixed shape and centered on a given element (pad with a `fill` value when necessary) (★★★)"
      ]
    },
    {
      "cell_type": "code",
      "execution_count": null,
      "id": "2ad8db75",
      "metadata": {
        "id": "2ad8db75"
      },
      "outputs": [],
      "source": []
    },
    {
      "cell_type": "markdown",
      "id": "d17818f7",
      "metadata": {
        "id": "d17818f7"
      },
      "source": [
        "#### 81. Consider an array Z = [1,2,3,4,5,6,7,8,9,10,11,12,13,14], how to generate an array R = [[1,2,3,4], [2,3,4,5], [3,4,5,6], ..., [11,12,13,14]]? (★★★)"
      ]
    },
    {
      "cell_type": "code",
      "execution_count": null,
      "id": "97deb72f",
      "metadata": {
        "id": "97deb72f"
      },
      "outputs": [],
      "source": []
    },
    {
      "cell_type": "markdown",
      "id": "67f526e6",
      "metadata": {
        "id": "67f526e6"
      },
      "source": [
        "#### 82. Compute a matrix rank (★★★)"
      ]
    },
    {
      "cell_type": "code",
      "execution_count": null,
      "id": "d70bed5b",
      "metadata": {
        "id": "d70bed5b"
      },
      "outputs": [],
      "source": []
    },
    {
      "cell_type": "markdown",
      "id": "0a3fb55f",
      "metadata": {
        "id": "0a3fb55f"
      },
      "source": [
        "#### 83. How to find the most frequent value in an array?"
      ]
    },
    {
      "cell_type": "code",
      "execution_count": null,
      "id": "b0647d07",
      "metadata": {
        "id": "b0647d07"
      },
      "outputs": [],
      "source": []
    },
    {
      "cell_type": "markdown",
      "id": "cb0ac341",
      "metadata": {
        "id": "cb0ac341"
      },
      "source": [
        "#### 84. Extract all the contiguous 3x3 blocks from a random 10x10 matrix (★★★)"
      ]
    },
    {
      "cell_type": "code",
      "execution_count": null,
      "id": "91798923",
      "metadata": {
        "id": "91798923"
      },
      "outputs": [],
      "source": []
    },
    {
      "cell_type": "markdown",
      "id": "c2a9da0d",
      "metadata": {
        "id": "c2a9da0d"
      },
      "source": [
        "#### 85. Create a 2D array subclass such that Z[i,j] == Z[j,i] (★★★)"
      ]
    },
    {
      "cell_type": "code",
      "execution_count": null,
      "id": "f9b027ff",
      "metadata": {
        "id": "f9b027ff"
      },
      "outputs": [],
      "source": []
    },
    {
      "cell_type": "markdown",
      "id": "718ac868",
      "metadata": {
        "id": "718ac868"
      },
      "source": [
        "#### 86. Consider a set of p matrices with shape (n,n) and a set of p vectors with shape (n,1). How to compute the sum of of the p matrix products at once? (result has shape (n,1)) (★★★)"
      ]
    },
    {
      "cell_type": "code",
      "execution_count": null,
      "id": "4de05217",
      "metadata": {
        "id": "4de05217"
      },
      "outputs": [],
      "source": []
    },
    {
      "cell_type": "markdown",
      "id": "a6eda6f8",
      "metadata": {
        "id": "a6eda6f8"
      },
      "source": [
        "#### 87. Consider a 16x16 array, how to get the block-sum (block size is 4x4)? (★★★)"
      ]
    },
    {
      "cell_type": "code",
      "execution_count": null,
      "id": "286b8db5",
      "metadata": {
        "id": "286b8db5"
      },
      "outputs": [],
      "source": []
    },
    {
      "cell_type": "markdown",
      "id": "625aa611",
      "metadata": {
        "id": "625aa611"
      },
      "source": [
        "#### 88. How to implement the Game of Life using numpy arrays? (★★★)"
      ]
    },
    {
      "cell_type": "code",
      "execution_count": null,
      "id": "a01c1ff2",
      "metadata": {
        "id": "a01c1ff2"
      },
      "outputs": [],
      "source": []
    },
    {
      "cell_type": "markdown",
      "id": "ca3dde4a",
      "metadata": {
        "id": "ca3dde4a"
      },
      "source": [
        "#### 89. How to get the n largest values of an array (★★★)"
      ]
    },
    {
      "cell_type": "code",
      "execution_count": null,
      "id": "5d14148c",
      "metadata": {
        "id": "5d14148c"
      },
      "outputs": [],
      "source": []
    },
    {
      "cell_type": "markdown",
      "id": "e233805e",
      "metadata": {
        "id": "e233805e"
      },
      "source": [
        "#### 90. Given an arbitrary number of vectors, build the cartesian product (every combinations of every item) (★★★)"
      ]
    },
    {
      "cell_type": "code",
      "execution_count": null,
      "id": "17638e13",
      "metadata": {
        "id": "17638e13"
      },
      "outputs": [],
      "source": []
    },
    {
      "cell_type": "markdown",
      "id": "c163f115",
      "metadata": {
        "id": "c163f115"
      },
      "source": [
        "#### 91. How to create a record array from a regular array? (★★★)"
      ]
    },
    {
      "cell_type": "code",
      "execution_count": null,
      "id": "da402514",
      "metadata": {
        "id": "da402514"
      },
      "outputs": [],
      "source": []
    },
    {
      "cell_type": "markdown",
      "id": "049c006e",
      "metadata": {
        "id": "049c006e"
      },
      "source": [
        "#### 92. Consider a large vector Z, compute Z to the power of 3 using 3 different methods (★★★)"
      ]
    },
    {
      "cell_type": "code",
      "execution_count": null,
      "id": "96ce278a",
      "metadata": {
        "id": "96ce278a"
      },
      "outputs": [],
      "source": []
    },
    {
      "cell_type": "markdown",
      "id": "6e652635",
      "metadata": {
        "id": "6e652635"
      },
      "source": [
        "#### 93. Consider two arrays A and B of shape (8,3) and (2,2). How to find rows of A that contain elements of each row of B regardless of the order of the elements in B? (★★★)"
      ]
    },
    {
      "cell_type": "code",
      "execution_count": null,
      "id": "f429d6d4",
      "metadata": {
        "id": "f429d6d4"
      },
      "outputs": [],
      "source": []
    },
    {
      "cell_type": "markdown",
      "id": "33c4755d",
      "metadata": {
        "id": "33c4755d"
      },
      "source": [
        "#### 94. Considering a 10x3 matrix, extract rows with unequal values (e.g. [2,2,3]) (★★★)"
      ]
    },
    {
      "cell_type": "code",
      "execution_count": null,
      "id": "29507586",
      "metadata": {
        "id": "29507586"
      },
      "outputs": [],
      "source": []
    },
    {
      "cell_type": "markdown",
      "id": "c9fe158d",
      "metadata": {
        "id": "c9fe158d"
      },
      "source": [
        "#### 95. Convert a vector of ints into a matrix binary representation (★★★)"
      ]
    },
    {
      "cell_type": "code",
      "execution_count": null,
      "id": "58209fb7",
      "metadata": {
        "id": "58209fb7"
      },
      "outputs": [],
      "source": []
    },
    {
      "cell_type": "markdown",
      "id": "f60086c9",
      "metadata": {
        "id": "f60086c9"
      },
      "source": [
        "#### 96. Given a two dimensional array, how to extract unique rows? (★★★)"
      ]
    },
    {
      "cell_type": "code",
      "execution_count": null,
      "id": "787b6e4c",
      "metadata": {
        "id": "787b6e4c"
      },
      "outputs": [],
      "source": []
    },
    {
      "cell_type": "markdown",
      "id": "0f5e1299",
      "metadata": {
        "id": "0f5e1299"
      },
      "source": [
        "#### 97. Considering 2 vectors A & B, write the einsum equivalent of inner, outer, sum, and mul function (★★★)"
      ]
    },
    {
      "cell_type": "code",
      "execution_count": null,
      "id": "cd2a8214",
      "metadata": {
        "id": "cd2a8214"
      },
      "outputs": [],
      "source": []
    },
    {
      "cell_type": "markdown",
      "id": "a04dd898",
      "metadata": {
        "id": "a04dd898"
      },
      "source": [
        "#### 98. Considering a path described by two vectors (X,Y), how to sample it using equidistant samples (★★★)?"
      ]
    },
    {
      "cell_type": "code",
      "execution_count": null,
      "id": "12d9c30f",
      "metadata": {
        "id": "12d9c30f"
      },
      "outputs": [],
      "source": []
    },
    {
      "cell_type": "markdown",
      "id": "b45bf2ae",
      "metadata": {
        "id": "b45bf2ae"
      },
      "source": [
        "#### 99. Given an integer n and a 2D array X, select from X the rows which can be interpreted as draws from a multinomial distribution with n degrees, i.e., the rows which only contain integers and which sum to n. (★★★)"
      ]
    },
    {
      "cell_type": "code",
      "execution_count": null,
      "id": "f4179f4a",
      "metadata": {
        "id": "f4179f4a"
      },
      "outputs": [],
      "source": []
    },
    {
      "cell_type": "markdown",
      "id": "d92b6592",
      "metadata": {
        "id": "d92b6592"
      },
      "source": [
        "#### 100. Compute bootstrapped 95% confidence intervals for the mean of a 1D array X (i.e., resample the elements of an array with replacement N times, compute the mean of each sample, and then compute percentiles over the means). (★★★)"
      ]
    },
    {
      "cell_type": "code",
      "execution_count": null,
      "id": "256ebe30",
      "metadata": {
        "id": "256ebe30"
      },
      "outputs": [],
      "source": []
    }
  ],
  "metadata": {
    "colab": {
      "provenance": [],
      "include_colab_link": true
    },
    "language_info": {
      "name": "python"
    },
    "kernelspec": {
      "name": "python3",
      "display_name": "Python 3"
    }
  },
  "nbformat": 4,
  "nbformat_minor": 5
}