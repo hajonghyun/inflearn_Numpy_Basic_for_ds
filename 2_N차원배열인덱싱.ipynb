{
  "nbformat": 4,
  "nbformat_minor": 0,
  "metadata": {
    "colab": {
      "provenance": [],
      "authorship_tag": "ABX9TyP0U8qbra1G9CNUuakiFMsL",
      "include_colab_link": true
    },
    "kernelspec": {
      "name": "python3",
      "display_name": "Python 3"
    },
    "language_info": {
      "name": "python"
    }
  },
  "cells": [
    {
      "cell_type": "markdown",
      "metadata": {
        "id": "view-in-github",
        "colab_type": "text"
      },
      "source": [
        "<a href=\"https://colab.research.google.com/github/jacobhjh0999/inflearn_Numpy_Basic_for_ds/blob/main/2_N%EC%B0%A8%EC%9B%90%EB%B0%B0%EC%97%B4%EC%9D%B8%EB%8D%B1%EC%8B%B1.ipynb\" target=\"_parent\"><img src=\"https://colab.research.google.com/assets/colab-badge.svg\" alt=\"Open In Colab\"/></a>"
      ]
    },
    {
      "cell_type": "markdown",
      "source": [
        "---\n",
        "#Section1. N차원 배열(ndarray 생성)\n",
        "### N차원 배열을 생성하는 여러가지 방법, 데이터타입, 간단하게 데이터를 시각화하는 방법을 다룬다.\n",
        "---"
      ],
      "metadata": {
        "id": "nEjfn7ezhvmt"
      }
    },
    {
      "cell_type": "code",
      "source": [
        "#복습!\n",
        "import numpy as np\n",
        "import matplotlib.pyplot as plt\n",
        "\n",
        "arr = np.array([1,2,3])\n",
        "print(arr,end='\\n\\n')\n",
        "\n",
        "arr_r_1 = np.random.uniform(1,10,1000)\n",
        "plt.hist(arr_r_1,bins=100)\n",
        "plt.show()\n",
        "\n",
        "arr_r_2 = np.random.randn(1000)\n",
        "plt.hist(arr_r_2,bins=100)\n",
        "plt.show()"
      ],
      "metadata": {
        "colab": {
          "base_uri": "https://localhost:8080/",
          "height": 880
        },
        "id": "4phRQDhV-nu_",
        "outputId": "d52fd558-3376-4987-b696-bba2ce427e48"
      },
      "execution_count": 43,
      "outputs": [
        {
          "output_type": "stream",
          "name": "stdout",
          "text": [
            "[1 2 3]\n",
            "\n"
          ]
        },
        {
          "output_type": "display_data",
          "data": {
            "text/plain": [
              "<Figure size 640x480 with 1 Axes>"
            ],
            "image/png": "[encoded data removed]"
          },
          "metadata": {}
        },
        {
          "output_type": "display_data",
          "data": {
            "text/plain": [
              "<Figure size 640x480 with 1 Axes>"
            ],
            "image/png": "[encoded data removed]"
          },
          "metadata": {}
        }
      ]
    },
    {
      "cell_type": "markdown",
      "source": [
        "---\n",
        "#Section2. N차원 배열 인덱싱\n",
        "### 배열의 index를 이용해 값에 접근하는 방법과 특정 범위의 값들을 탐색하는 방법을 배운다.\n",
        "---"
      ],
      "metadata": {
        "id": "UuTzD60Qh5BN"
      }
    },
    {
      "cell_type": "markdown",
      "source": [
        "## 2-1. 배열의 index 접근하기 => 리스트 접근 방법과 비슷하지만 다른 점이 있음"
      ],
      "metadata": {
        "id": "993teFlzDDE3"
      }
    },
    {
      "cell_type": "markdown",
      "source": [
        "### ✅ lst[a][b] == arr[a][b] vs arr[a,b]\n",
        "\n",
        "1. lst[a][b] (리스트에서 사용)\n",
        "\n",
        "    - lst[a][b]는 2차원 리스트나 리스트의 리스트에서 값을 가져올 때 사용하는 방식입니다.\n",
        "    - lst[a]는 a번째 리스트를 가져옵니다.\n",
        "    - 그 후 lst[a][b]는 그 리스트의 b번째 요소를 가져옵니다.\n",
        "\n",
        "2. arr[a][b] (Numpy 배열에서 사용)\n",
        "    - arr[a]는 a번째 리스트를 가져옵니다.\n",
        "    - 그 후 arr[a][b]는 그 리스트의 b번째 요소를 가져옵니다.\n",
        "\n",
        "3.  arr[a, b]  ⭐주목!!\n",
        "    - arr[a, b]는 Numpy 배열에서 특정 원소를 접근할 때 사용하는 방식입니다.\n",
        "    - arr[a, b]는 배열의 a번째 행과 b번째 열에 위치한 원소를 **바로 접근**합니다.\n",
        "    - Numpy에서는 다차원 배열에서 튜플 형태로 인덱스를 사용하여 원하는 위치에 있는 원소를 **바로 선택**할 수 있습니다.\n",
        "    - **중요!!! 이 방식으로 행렬의 열을 바로 가져올 수 있다!!!**"
      ],
      "metadata": {
        "id": "r4AKt3TlIH-c"
      }
    },
    {
      "cell_type": "code",
      "execution_count": 12,
      "metadata": {
        "id": "hXQE8axJwjaR",
        "colab": {
          "base_uri": "https://localhost:8080/"
        },
        "outputId": "9914d45c-23f2-4512-8640-e75bdad25828"
      },
      "outputs": [
        {
          "output_type": "stream",
          "name": "stdout",
          "text": [
            "1\n",
            "2\n"
          ]
        }
      ],
      "source": [
        "# 1차원 배열\n",
        "arr = np.array([1,2,3,4,5,6,7,8,9,10])\n",
        "\n",
        "print(arr[0])\n",
        "print(arr[-9])"
      ]
    },
    {
      "cell_type": "code",
      "source": [
        "# 2차원 배열\n",
        "arr = np.array([[1,2,3,4],\n",
        "                [5,6,7,8],\n",
        "                [9,10,11,12]])\n",
        "\n",
        "print(arr[0][3])\n",
        "print(arr[0,3])"
      ],
      "metadata": {
        "colab": {
          "base_uri": "https://localhost:8080/"
        },
        "id": "7PxzP3S-FArE",
        "outputId": "94253a82-3720-4940-90a3-34bba58b69f8"
      },
      "execution_count": 34,
      "outputs": [
        {
          "output_type": "stream",
          "name": "stdout",
          "text": [
            "4\n",
            "4\n"
          ]
        }
      ]
    },
    {
      "cell_type": "code",
      "source": [
        "# 1차원 범위 접근\n",
        "arr = np.array([1,2,3,4,5,6,7,8,9])\n",
        "\n",
        "print(arr[0:7])\n",
        "print(arr[3:])\n",
        "print(arr[:7])\n",
        "print(arr[:-1])\n",
        "print(arr[:])"
      ],
      "metadata": {
        "colab": {
          "base_uri": "https://localhost:8080/"
        },
        "id": "UytrR-0jFP8Z",
        "outputId": "0cf079a3-a191-4b05-d854-12a6081cacd6"
      },
      "execution_count": 22,
      "outputs": [
        {
          "output_type": "stream",
          "name": "stdout",
          "text": [
            "[1 2 3 4 5 6 7]\n",
            "[4 5 6 7 8 9]\n",
            "[1 2 3 4 5 6 7]\n",
            "[1 2 3 4 5 6 7 8]\n",
            "[1 2 3 4 5 6 7 8 9]\n"
          ]
        }
      ]
    },
    {
      "cell_type": "code",
      "source": [
        "# 2차원 범위 접근\n",
        "arr = np.array([[1,2,3,4],\n",
        "                [5,6,7,8],\n",
        "                [9,10,11,12]])\n",
        "\n",
        "print(arr[1][:])\n",
        "print(arr[:][1]) #1\n",
        "print(arr[:,1])  #2\n",
        "# 열을 출력하려면 1과 2중 2의 방식으로 해야한다."
      ],
      "metadata": {
        "colab": {
          "base_uri": "https://localhost:8080/"
        },
        "id": "1DRVZ2XgGTgy",
        "outputId": "594961c4-db48-44b6-f8ef-1abce510f510"
      },
      "execution_count": 35,
      "outputs": [
        {
          "output_type": "stream",
          "name": "stdout",
          "text": [
            "[5 6 7 8]\n",
            "[5 6 7 8]\n",
            "[ 2  6 10]\n"
          ]
        }
      ]
    },
    {
      "cell_type": "code",
      "source": [
        "# 참고: 리스트에서 열 출력하기\n",
        "lst=[[1,2,3,4],\n",
        "     [5,6,7,8],\n",
        "     [9,10,11,12]]\n",
        "for i in lst:\n",
        "    print(i[1])"
      ],
      "metadata": {
        "colab": {
          "base_uri": "https://localhost:8080/"
        },
        "id": "Neu3np7FL8LK",
        "outputId": "ab5c3316-82ff-4d9f-9ab6-57803ad92194"
      },
      "execution_count": 37,
      "outputs": [
        {
          "output_type": "stream",
          "name": "stdout",
          "text": [
            "2\n",
            "6\n",
            "10\n"
          ]
        }
      ]
    },
    {
      "cell_type": "code",
      "source": [
        "# 2차원 범위 복잡한 접근 ==>> 중요!!\n",
        "arr = np.array([[1,2,3,4],\n",
        "                [5,6,7,8],\n",
        "                [9,10,11,12]])\n",
        "\n",
        "# [3,7] 출력\n",
        "print(arr[:2,2])\n",
        "\n",
        "# [6,10] 출력\n",
        "print(arr[1:,1])\n",
        "\n",
        "# [[3,4],[7,8]] 출력\n",
        "print(arr[0:2, 2:4])"
      ],
      "metadata": {
        "colab": {
          "base_uri": "https://localhost:8080/"
        },
        "id": "AJj_YbzMMepV",
        "outputId": "74ec953b-0f4a-4df7-f438-ad5d51ee9337"
      },
      "execution_count": 42,
      "outputs": [
        {
          "output_type": "stream",
          "name": "stdout",
          "text": [
            "[3 7]\n",
            "[ 6 10]\n",
            "[[3 4]\n",
            " [7 8]]\n"
          ]
        }
      ]
    },
    {
      "cell_type": "markdown",
      "source": [
        "---\n",
        "## 2-2. 배열의 Fancy 인덱싱\n"
      ],
      "metadata": {
        "id": "NvH6la3vQ3zU"
      }
    },
    {
      "cell_type": "markdown",
      "source": [
        "- Fancy 인덱싱 (또는 Advanced Indexing)은 Numpy에서 배열을 인덱싱할 때, 단일 인덱스 대신 배열, 리스트, 또는 조건을 사용하여 배열의 여러 원소를 선택하는 방법을 말합니다.\n",
        "- 이 방식은 일반적인 슬라이싱이나 단일 인덱싱을 넘어서 더 복잡하고 유연한 방식으로 배열을 선택할 수 있게 해줍니다.\n",
        "\n",
        "- Fancy 인덱싱의 주요 특징은 다수의 원소를 동시에 선택할 수 있다는 점입니다.\n",
        "\n",
        "- 원본 배열의 복사본을 반환하기 때문에 원본 배열에 영향을 주지 않습니다."
      ],
      "metadata": {
        "id": "wsQOu7CxQ9ss"
      }
    },
    {
      "cell_type": "code",
      "source": [
        "# 1차원 배열\n",
        "arr = np.array([5,10,15,20,25,30,35])\n",
        "\n",
        "# [10,20,30] 출력\n",
        "print(arr[[1,3,5]])"
      ],
      "metadata": {
        "colab": {
          "base_uri": "https://localhost:8080/"
        },
        "id": "qYlFOPbOQ8ND",
        "outputId": "037c45c3-62c7-4f44-a81c-5d257d5f3229"
      },
      "execution_count": 44,
      "outputs": [
        {
          "output_type": "stream",
          "name": "stdout",
          "text": [
            "[10 20 30]\n"
          ]
        }
      ]
    },
    {
      "cell_type": "code",
      "source": [
        "# 2차원 배열\n",
        "arr = np.array([[5,10,15,20],\n",
        "                [25,30,35,40],\n",
        "                [45,50,55,60]])\n",
        "\n",
        "# [[10,15,20],[50,55,60]] 출력\n",
        "print(arr[[0,2],1:4])\n",
        "\n",
        "# [[30,40],[50,60]] 출력\n",
        "print(arr[1:,[1,3]])"
      ],
      "metadata": {
        "colab": {
          "base_uri": "https://localhost:8080/"
        },
        "id": "tL7hM4gvR2-E",
        "outputId": "cee05acc-3d9f-489e-ff21-14dc36132af2"
      },
      "execution_count": 48,
      "outputs": [
        {
          "output_type": "stream",
          "name": "stdout",
          "text": [
            "[[10 15 20]\n",
            " [50 55 60]]\n",
            "[[30 40]\n",
            " [50 60]]\n"
          ]
        }
      ]
    },
    {
      "cell_type": "markdown",
      "source": [
        "---\n",
        "## 2-3. 배열의 Boolean 인덱싱"
      ],
      "metadata": {
        "id": "tIlpFRL2VT6j"
      }
    },
    {
      "cell_type": "code",
      "source": [
        "# 1차원\n",
        "arr = np.array([1,2,3,4])\n",
        "print(arr[[True,False,True,True]]) # => 대괄호 개수에 주의\n",
        "\n",
        "arr = np.array([[1,2,3,4],\n",
        "                [5,6,7,8]])\n",
        "# 불리안 인덱싱으로 [5,6,7,8] 프린트하기\n",
        "print(arr[[False,True],True])"
      ],
      "metadata": {
        "colab": {
          "base_uri": "https://localhost:8080/"
        },
        "id": "5aqpMYXpVtDN",
        "outputId": "f63cc536-9a33-4956-b9c0-5c32d4deb5de"
      },
      "execution_count": 51,
      "outputs": [
        {
          "output_type": "stream",
          "name": "stdout",
          "text": [
            "[1 3 4]\n",
            "[[5 6 7 8]]\n"
          ]
        }
      ]
    },
    {
      "cell_type": "code",
      "source": [
        "arr = np.array([[1,2,3,4],\n",
        "                [5,6,7,8]])\n",
        "# 2행에서 6보다 큰 수 출력하기\n",
        "print(arr[1,arr[1]>6])\n",
        "\n",
        "# 전체 행에서 3보다 큰 수 출력하지\n",
        "print(arr[arr>3])"
      ],
      "metadata": {
        "colab": {
          "base_uri": "https://localhost:8080/"
        },
        "id": "y7sDf00LXDZu",
        "outputId": "5a286e02-5644-4b34-85f2-959cd480dc8b"
      },
      "execution_count": 55,
      "outputs": [
        {
          "output_type": "stream",
          "name": "stdout",
          "text": [
            "[7 8]\n",
            "[4 5 6 7 8]\n"
          ]
        }
      ]
    },
    {
      "cell_type": "markdown",
      "source": [
        "---\n",
        "#Section3. N차원 배열의 연산법\n",
        "### 행렬의 사칙연산, 내적연산, 비교연산 등 기본적인 연산법과 브로드캐스팅 연산 과정을 배운다.\n",
        "---"
      ],
      "metadata": {
        "id": "PZS0XC2HiG_m"
      }
    },
    {
      "cell_type": "markdown",
      "source": [
        "---\n",
        "#Section4. N차원 배열 정렬\n",
        "### 배열의 원소들을 대소관계에 따라 정렬하는 방법을 다룬다.\n",
        "---"
      ],
      "metadata": {
        "id": "xQeUsXXGiZYw"
      }
    },
    {
      "cell_type": "markdown",
      "source": [
        "---\n",
        "#Section5. N차원 배열의 형태 변경\n",
        "### 배열의 shape를 변형하고 차원을 확장, 축소하는 방법을 다룬다.\n",
        "---"
      ],
      "metadata": {
        "id": "Rwjz7XDLiiUn"
      }
    },
    {
      "cell_type": "markdown",
      "source": [
        "---\n",
        "#Section6. N차원 배열의 병합\n",
        "### 배열의 원소를 추가하고 삭제하는 방법과 데이터를 병합하고 분할하는 방법을 다룬다.\n",
        "---"
      ],
      "metadata": {
        "id": "znBeiAgHipxX"
      }
    },
    {
      "cell_type": "markdown",
      "source": [
        "---\n",
        "#Section7. 실습예제\n",
        "\n",
        "---"
      ],
      "metadata": {
        "id": "9b4DBsuiizXn"
      }
    }
  ]
}