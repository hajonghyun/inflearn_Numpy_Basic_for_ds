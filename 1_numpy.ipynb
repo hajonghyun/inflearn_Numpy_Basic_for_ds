{
  "nbformat": 4,
  "nbformat_minor": 0,
  "metadata": {
    "colab": {
      "provenance": [],
      "authorship_tag": "ABX9TyMh/3B9/qsfve4rtQYwIEfI",
      "include_colab_link": true
    },
    "kernelspec": {
      "name": "python3",
      "display_name": "Python 3"
    },
    "language_info": {
      "name": "python"
    }
  },
  "cells": [
    {
      "cell_type": "markdown",
      "metadata": {
        "id": "view-in-github",
        "colab_type": "text"
      },
      "source": [
        "<a href=\"https://colab.research.google.com/github/jacobhjh0999/inflearn_Numpy_Basic_for_ds/blob/main/1_numpy.ipynb\" target=\"_parent\"><img src=\"https://colab.research.google.com/assets/colab-badge.svg\" alt=\"Open In Colab\"/></a>"
      ]
    },
    {
      "cell_type": "markdown",
      "source": [
        "---\n",
        "#Section1. N차원 배열(ndarray 생성)\n",
        "### N차원 배열을 생성하는 여러가지 방법, 데이터타입, 간단하게 데이터를 시각화하는 방법을 다룬다.\n",
        "---"
      ],
      "metadata": {
        "id": "nEjfn7ezhvmt"
      }
    },
    {
      "cell_type": "code",
      "execution_count": 1,
      "metadata": {
        "id": "JRQlNKvtcxu5"
      },
      "outputs": [],
      "source": [
        "import numpy as np"
      ]
    },
    {
      "cell_type": "markdown",
      "source": [
        "## ✅ `np.array()`는 `리스트, 튜플을 받아서` `배열`을 만든다\n",
        "\n",
        "np.array()는 리스트를 NumPy 배열(ndarray)로 변환하는 역할을 해."
      ],
      "metadata": {
        "id": "Ina6xmMSqDR4"
      }
    },
    {
      "cell_type": "code",
      "source": [
        "# 리스트를 배열(ndarray)로\n",
        "my_list = [1,2,3,4]\n",
        "arr_by_list = np.array(my_list)\n",
        "print(arr_by_list)"
      ],
      "metadata": {
        "colab": {
          "base_uri": "https://localhost:8080/"
        },
        "id": "oeY7UF78txfo",
        "outputId": "978bf1cd-f50d-4a25-9679-3cd613500c1e"
      },
      "execution_count": 16,
      "outputs": [
        {
          "output_type": "stream",
          "name": "stdout",
          "text": [
            "[1 2 3 4]\n"
          ]
        }
      ]
    },
    {
      "cell_type": "code",
      "source": [
        "# 튜플을 배열(ndarray)로\n",
        "my_tuple = (1,2,3,4)\n",
        "arr_by_tuple = np.array(my_tuple)\n",
        "print(arr_by_tuple)"
      ],
      "metadata": {
        "colab": {
          "base_uri": "https://localhost:8080/"
        },
        "id": "7_Yhi1ibuD3j",
        "outputId": "b8af6df9-6670-452f-8ecf-3793dbf435c8"
      },
      "execution_count": 17,
      "outputs": [
        {
          "output_type": "stream",
          "name": "stdout",
          "text": [
            "[1 2 3 4]\n"
          ]
        }
      ]
    },
    {
      "cell_type": "markdown",
      "source": [
        "## ✅ 1. 리스트와 배열의 기본 개념\n",
        "\n",
        "| 특징 | Python 리스트 (`list`) | NumPy 배열 (`np.array`) |\n",
        "|------|--------------------|--------------------|\n",
        "| **데이터 저장 방식** | 객체의 모음 (다양한 타입 가능) | 동일한 타입의 값이 연속적으로 저장됨 |\n",
        "| **연산 방식** | 반복문을 사용해야 연산 가능 | 벡터 연산 가능 (빠름) |\n",
        "| **속도** | 상대적으로 느림 | 빠름 |\n",
        "| **메모리 사용** | 추가적인 메타데이터 포함 | 연속된 메모리 블록 사용 (더 효율적) |\n"
      ],
      "metadata": {
        "id": "c_5_I9YgpDYV"
      }
    },
    {
      "cell_type": "code",
      "source": [
        "# 리스트\n",
        "list = [1,2,3]\n",
        "print(type(list))\n",
        "print(list)\n",
        "\n",
        "\n",
        "# ndarray\n",
        "arr = np.array([1,2,3])\n",
        "print(type(arr))\n",
        "print(arr)"
      ],
      "metadata": {
        "colab": {
          "base_uri": "https://localhost:8080/"
        },
        "id": "9ex2JeO9l4Tx",
        "outputId": "4471260a-2fc7-451f-f108-a94bc784a326"
      },
      "execution_count": 13,
      "outputs": [
        {
          "output_type": "stream",
          "name": "stdout",
          "text": [
            "<class 'list'>\n",
            "[1, 2, 3]\n",
            "<class 'numpy.ndarray'>\n",
            "[1 2 3]\n"
          ]
        }
      ]
    },
    {
      "cell_type": "markdown",
      "source": [
        "## 🧐 ndarray란?\n",
        "\n",
        "`ndarray`는 **\"N-dimensional array\"**의 줄임말이야.\n",
        "\n",
        "- **`nd`** → *N-dimensional (N차원)*\n",
        "- **`array`** → *배열*\n",
        "\n",
        "즉, `ndarray`는 **N차원(다차원) 배열**을 의미하는 NumPy의 기본 데이터 구조야.  \n",
        "NumPy에서 배열을 만들면 내부적으로 `ndarray` 객체가 생성되는데,  \n",
        "1차원, 2차원, 3차원 이상도 모두 `ndarray`로 표현할 수 있어!\n"
      ],
      "metadata": {
        "id": "vbnjjXK3pnFV"
      }
    },
    {
      "cell_type": "code",
      "source": [
        "# 1차원 배열\n",
        "arr1 = np.array([1,2,3])\n",
        "print(arr1)\n",
        "# 2차원 배열\n",
        "arr2 = np.array([[1,2,3],\n",
        "                 [4,5,6],\n",
        "                 [7,8,9]])\n",
        "print(arr2)"
      ],
      "metadata": {
        "colab": {
          "base_uri": "https://localhost:8080/"
        },
        "id": "nzNeKmVMsr9b",
        "outputId": "18024bc8-5e67-4337-a51c-f8237381632a"
      },
      "execution_count": 18,
      "outputs": [
        {
          "output_type": "stream",
          "name": "stdout",
          "text": [
            "[1 2 3]\n",
            "[[1 2 3]\n",
            " [4 5 6]\n",
            " [7 8 9]]\n"
          ]
        }
      ]
    },
    {
      "cell_type": "markdown",
      "source": [
        "괄호...\n",
        "## 💡 attribute와 method 차이\n",
        "\n",
        "- **attribute**는 데이터를 **저장하거나 표시하는 속성**이고, `shape`처럼 **읽기 전용**일 수 있어.\n",
        "- **method**는 객체에 **동작을 수행하는 함수**인데, 예를 들어 `arr.sum()`은 배열의 합을 구하는 **method**야.\n",
        "\n",
        "### 예시\n",
        "- **attribute**: `arr.shape`, `arr.size`, `arr.dtype` 등\n",
        "- **method**: `arr.sum()`, `arr.mean()`, `arr.reshape()` 등\n"
      ],
      "metadata": {
        "id": "UcNkc6dYwmIK"
      }
    },
    {
      "cell_type": "code",
      "source": [
        "# shape (괄호 안침 주의!!!)\n",
        "print(arr1.shape , arr2.shape)\n",
        "\n",
        "# ndim\n",
        "print(arr1.ndim , arr2.ndim)\n",
        "\n",
        "# size\n",
        "print(arr1.size , arr2.size)"
      ],
      "metadata": {
        "colab": {
          "base_uri": "https://localhost:8080/"
        },
        "id": "Z0rnmYIxl4bJ",
        "outputId": "9a675cd1-e93f-4bda-bb7a-2c2e0fce2482"
      },
      "execution_count": 28,
      "outputs": [
        {
          "output_type": "stream",
          "name": "stdout",
          "text": [
            "(3,) (3, 3)\n",
            "1 2\n",
            "3 9\n"
          ]
        }
      ]
    },
    {
      "cell_type": "code",
      "source": [],
      "metadata": {
        "id": "319lOMcvl4hp"
      },
      "execution_count": null,
      "outputs": []
    },
    {
      "cell_type": "code",
      "source": [],
      "metadata": {
        "id": "ubQw1Axbl4mp"
      },
      "execution_count": null,
      "outputs": []
    },
    {
      "cell_type": "markdown",
      "source": [
        "---\n",
        "#Section2. N차원 배열 인덱싱\n",
        "### 배열의 index를 이용해 값에 접근하는 방법과 특정 범위의 값들을 탐색하는 방법을 배운다.\n",
        "---"
      ],
      "metadata": {
        "id": "UuTzD60Qh5BN"
      }
    },
    {
      "cell_type": "markdown",
      "source": [
        "---\n",
        "#Section3. N차원 배열의 연산법\n",
        "### 행렬의 사칙연산, 내적연산, 비교연산 등 기본적인 연산법과 브로드캐스팅 연산 과정을 배운다.\n",
        "---"
      ],
      "metadata": {
        "id": "PZS0XC2HiG_m"
      }
    },
    {
      "cell_type": "markdown",
      "source": [
        "---\n",
        "#Section4. N차원 배열 정렬\n",
        "### 배열의 원소들을 대소관계에 따라 정렬하는 방법을 다룬다.\n",
        "---"
      ],
      "metadata": {
        "id": "xQeUsXXGiZYw"
      }
    },
    {
      "cell_type": "markdown",
      "source": [
        "---\n",
        "#Section5. N차원 배열의 형태 변경\n",
        "### 배열의 shape를 변형하고 차원을 확장, 축소하는 방법을 다룬다.\n",
        "---"
      ],
      "metadata": {
        "id": "Rwjz7XDLiiUn"
      }
    },
    {
      "cell_type": "markdown",
      "source": [
        "---\n",
        "#Section6. N차원 배열의 병합\n",
        "### 배열의 원소를 추가하고 삭제하는 방법과 데이터를 병합하고 분할하는 방법을 다룬다.\n",
        "---"
      ],
      "metadata": {
        "id": "znBeiAgHipxX"
      }
    },
    {
      "cell_type": "markdown",
      "source": [
        "---\n",
        "#Section7. 실습예제\n",
        "\n",
        "---"
      ],
      "metadata": {
        "id": "9b4DBsuiizXn"
      }
    },
    {
      "cell_type": "markdown",
      "source": [],
      "metadata": {
        "id": "lyvkIw67iTDE"
      }
    }
  ]
}